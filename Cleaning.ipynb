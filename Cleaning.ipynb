{
 "cells": [
  {
   "cell_type": "markdown",
   "id": "integral-removal",
   "metadata": {},
   "source": [
    "Cleaning"
   ]
  },
  {
   "cell_type": "code",
   "execution_count": 1,
   "id": "demonstrated-credits",
   "metadata": {},
   "outputs": [],
   "source": [
    "import pandas as pd\n",
    "import matplotlib.pyplot as plt\n",
    "import seaborn as sns\n",
    "\n",
    "import warnings\n",
    "warnings.filterwarnings('ignore')"
   ]
  },
  {
   "cell_type": "code",
   "execution_count": 2,
   "id": "under-feeling",
   "metadata": {},
   "outputs": [],
   "source": [
    "# Import data and remove unnecessary header rows\n",
    "cyto_assay = pd.read_csv('data/AID_1851_datatable_all.csv', skipinitialspace=True, header=[0,4])"
   ]
  },
  {
   "cell_type": "code",
   "execution_count": 3,
   "id": "latest-union",
   "metadata": {},
   "outputs": [],
   "source": [
    "# Drop the bottom level of the multi-index\n",
    "cyto_assay.columns = cyto_assay.columns.droplevel(1)"
   ]
  },
  {
   "cell_type": "code",
   "execution_count": 4,
   "id": "verified-automation",
   "metadata": {},
   "outputs": [],
   "source": [
    "cyto_assay['Inhibition Observed'] = cyto_assay['Inhibition Observed'].map({True:1, False:0}).astype(int)"
   ]
  },
  {
   "cell_type": "code",
   "execution_count": 5,
   "id": "behavioral-portfolio",
   "metadata": {},
   "outputs": [
    {
     "data": {
      "text/plain": [
       "(85715, 44)"
      ]
     },
     "execution_count": 5,
     "metadata": {},
     "output_type": "execute_result"
    }
   ],
   "source": [
    "cyto_assay.shape"
   ]
  },
  {
   "cell_type": "code",
   "execution_count": 6,
   "id": "expensive-connection",
   "metadata": {},
   "outputs": [
    {
     "name": "stdout",
     "output_type": "stream",
     "text": [
      "(17143, 44)\n"
     ]
    }
   ],
   "source": [
    "cyp2c19 =  cyto_assay[cyto_assay['Panel Name'] == 'p450-cyp2c19']\n",
    "print(cyp2c19.shape)\n",
    "# cyp2c19.to_csv()"
   ]
  },
  {
   "cell_type": "code",
   "execution_count": 7,
   "id": "civil-square",
   "metadata": {},
   "outputs": [
    {
     "name": "stdout",
     "output_type": "stream",
     "text": [
      "(17143, 44)\n"
     ]
    }
   ],
   "source": [
    "cyp2c9 =  cyto_assay[cyto_assay['Panel Name'] == 'p450-cyp2c9']\n",
    "print(cyp2c9.shape)"
   ]
  },
  {
   "cell_type": "code",
   "execution_count": 8,
   "id": "threaded-gambling",
   "metadata": {},
   "outputs": [
    {
     "name": "stdout",
     "output_type": "stream",
     "text": [
      "(17143, 44)\n"
     ]
    }
   ],
   "source": [
    "cyp1a2 =  cyto_assay[cyto_assay['Panel Name'] == 'p450-cyp1a2']\n",
    "print(cyp1a2.shape)"
   ]
  },
  {
   "cell_type": "code",
   "execution_count": 9,
   "id": "incoming-kitty",
   "metadata": {},
   "outputs": [
    {
     "name": "stdout",
     "output_type": "stream",
     "text": [
      "(17143, 44)\n"
     ]
    }
   ],
   "source": [
    "cyp2d6 =  cyto_assay[cyto_assay['Panel Name'] == 'p450-cyp2d6']\n",
    "print(cyp2d6.shape)"
   ]
  },
  {
   "cell_type": "code",
   "execution_count": 10,
   "id": "married-graham",
   "metadata": {},
   "outputs": [
    {
     "name": "stdout",
     "output_type": "stream",
     "text": [
      "(17143, 44)\n"
     ]
    }
   ],
   "source": [
    "cyp3a4 =  cyto_assay[cyto_assay['Panel Name'] == 'p450-cyp3a4']\n",
    "print(cyp3a4.shape)"
   ]
  },
  {
   "cell_type": "code",
   "execution_count": 11,
   "id": "adapted-language",
   "metadata": {},
   "outputs": [
    {
     "data": {
      "text/html": [
       "<div>\n",
       "<style scoped>\n",
       "    .dataframe tbody tr th:only-of-type {\n",
       "        vertical-align: middle;\n",
       "    }\n",
       "\n",
       "    .dataframe tbody tr th {\n",
       "        vertical-align: top;\n",
       "    }\n",
       "\n",
       "    .dataframe thead th {\n",
       "        text-align: right;\n",
       "    }\n",
       "</style>\n",
       "<table border=\"1\" class=\"dataframe\">\n",
       "  <thead>\n",
       "    <tr style=\"text-align: right;\">\n",
       "      <th></th>\n",
       "      <th>PUBCHEM_RESULT_TAG</th>\n",
       "      <th>PUBCHEM_SID</th>\n",
       "      <th>PUBCHEM_CID</th>\n",
       "      <th>PUBCHEM_ACTIVITY_OUTCOME</th>\n",
       "      <th>PUBCHEM_ACTIVITY_SCORE</th>\n",
       "      <th>PUBCHEM_ACTIVITY_URL</th>\n",
       "      <th>PUBCHEM_ASSAYDATA_COMMENT</th>\n",
       "      <th>Inhibition Observed</th>\n",
       "      <th>Approved Drug</th>\n",
       "      <th>Collection</th>\n",
       "      <th>...</th>\n",
       "      <th>Activity at 11.43 uM</th>\n",
       "      <th>Activity at 25.56 uM</th>\n",
       "      <th>Activity at 57.14 uM</th>\n",
       "      <th>Activity at 0.00164 uM</th>\n",
       "      <th>Activity at 0.00366 uM</th>\n",
       "      <th>Activity at 0.00818 uM</th>\n",
       "      <th>Compound QC</th>\n",
       "      <th>Panel ID</th>\n",
       "      <th>Panel Name</th>\n",
       "      <th>Panel Target</th>\n",
       "    </tr>\n",
       "  </thead>\n",
       "  <tbody>\n",
       "    <tr>\n",
       "      <th>2</th>\n",
       "      <td>3</td>\n",
       "      <td>842238</td>\n",
       "      <td>6602638.0</td>\n",
       "      <td>Inactive</td>\n",
       "      <td>NaN</td>\n",
       "      <td>NaN</td>\n",
       "      <td>NaN</td>\n",
       "      <td>1</td>\n",
       "      <td>Biodiverse</td>\n",
       "      <td>NaN</td>\n",
       "      <td>...</td>\n",
       "      <td>0.4027</td>\n",
       "      <td>NaN</td>\n",
       "      <td>-2.2935</td>\n",
       "      <td>NaN</td>\n",
       "      <td>-1.3363</td>\n",
       "      <td>NaN</td>\n",
       "      <td>QC'd by DPISMR</td>\n",
       "      <td>3</td>\n",
       "      <td>p450-cyp3a4</td>\n",
       "      <td>NP_059488.2</td>\n",
       "    </tr>\n",
       "    <tr>\n",
       "      <th>7</th>\n",
       "      <td>8</td>\n",
       "      <td>842250</td>\n",
       "      <td>644510.0</td>\n",
       "      <td>Active</td>\n",
       "      <td>NaN</td>\n",
       "      <td>NaN</td>\n",
       "      <td>NaN</td>\n",
       "      <td>1</td>\n",
       "      <td>Biodiverse</td>\n",
       "      <td>NaN</td>\n",
       "      <td>...</td>\n",
       "      <td>-82.0127</td>\n",
       "      <td>NaN</td>\n",
       "      <td>-97.4718</td>\n",
       "      <td>NaN</td>\n",
       "      <td>-21.1766</td>\n",
       "      <td>NaN</td>\n",
       "      <td>QC'd by DPISMR</td>\n",
       "      <td>3</td>\n",
       "      <td>p450-cyp3a4</td>\n",
       "      <td>NP_059488.2</td>\n",
       "    </tr>\n",
       "    <tr>\n",
       "      <th>12</th>\n",
       "      <td>13</td>\n",
       "      <td>842319</td>\n",
       "      <td>1960010.0</td>\n",
       "      <td>Inconclusive</td>\n",
       "      <td>NaN</td>\n",
       "      <td>NaN</td>\n",
       "      <td>NaN</td>\n",
       "      <td>1</td>\n",
       "      <td>Biodiverse</td>\n",
       "      <td>NaN</td>\n",
       "      <td>...</td>\n",
       "      <td>-52.8656</td>\n",
       "      <td>NaN</td>\n",
       "      <td>-52.7402</td>\n",
       "      <td>NaN</td>\n",
       "      <td>2.5996</td>\n",
       "      <td>NaN</td>\n",
       "      <td>QC'd by DPISMR</td>\n",
       "      <td>3</td>\n",
       "      <td>p450-cyp3a4</td>\n",
       "      <td>NP_059488.2</td>\n",
       "    </tr>\n",
       "    <tr>\n",
       "      <th>17</th>\n",
       "      <td>18</td>\n",
       "      <td>842408</td>\n",
       "      <td>644675.0</td>\n",
       "      <td>Active</td>\n",
       "      <td>NaN</td>\n",
       "      <td>NaN</td>\n",
       "      <td>NaN</td>\n",
       "      <td>1</td>\n",
       "      <td>Biodiverse</td>\n",
       "      <td>NaN</td>\n",
       "      <td>...</td>\n",
       "      <td>-47.8371</td>\n",
       "      <td>NaN</td>\n",
       "      <td>-94.7622</td>\n",
       "      <td>NaN</td>\n",
       "      <td>5.1962</td>\n",
       "      <td>NaN</td>\n",
       "      <td>QC'd by DPISMR</td>\n",
       "      <td>3</td>\n",
       "      <td>p450-cyp3a4</td>\n",
       "      <td>NP_059488.2</td>\n",
       "    </tr>\n",
       "    <tr>\n",
       "      <th>22</th>\n",
       "      <td>23</td>\n",
       "      <td>842584</td>\n",
       "      <td>644851.0</td>\n",
       "      <td>Inconclusive</td>\n",
       "      <td>NaN</td>\n",
       "      <td>NaN</td>\n",
       "      <td>NaN</td>\n",
       "      <td>1</td>\n",
       "      <td>Biodiverse</td>\n",
       "      <td>NaN</td>\n",
       "      <td>...</td>\n",
       "      <td>-15.4369</td>\n",
       "      <td>NaN</td>\n",
       "      <td>-42.1057</td>\n",
       "      <td>NaN</td>\n",
       "      <td>-5.2084</td>\n",
       "      <td>NaN</td>\n",
       "      <td>QC'd by DPISMR</td>\n",
       "      <td>3</td>\n",
       "      <td>p450-cyp3a4</td>\n",
       "      <td>NP_059488.2</td>\n",
       "    </tr>\n",
       "    <tr>\n",
       "      <th>...</th>\n",
       "      <td>...</td>\n",
       "      <td>...</td>\n",
       "      <td>...</td>\n",
       "      <td>...</td>\n",
       "      <td>...</td>\n",
       "      <td>...</td>\n",
       "      <td>...</td>\n",
       "      <td>...</td>\n",
       "      <td>...</td>\n",
       "      <td>...</td>\n",
       "      <td>...</td>\n",
       "      <td>...</td>\n",
       "      <td>...</td>\n",
       "      <td>...</td>\n",
       "      <td>...</td>\n",
       "      <td>...</td>\n",
       "      <td>...</td>\n",
       "      <td>...</td>\n",
       "      <td>...</td>\n",
       "      <td>...</td>\n",
       "      <td>...</td>\n",
       "    </tr>\n",
       "    <tr>\n",
       "      <th>85692</th>\n",
       "      <td>85693</td>\n",
       "      <td>26751437</td>\n",
       "      <td>16758815.0</td>\n",
       "      <td>Inactive</td>\n",
       "      <td>NaN</td>\n",
       "      <td>NaN</td>\n",
       "      <td>NaN</td>\n",
       "      <td>1</td>\n",
       "      <td>Exploratory</td>\n",
       "      <td>NaN</td>\n",
       "      <td>...</td>\n",
       "      <td>-4.0397</td>\n",
       "      <td>NaN</td>\n",
       "      <td>NaN</td>\n",
       "      <td>NaN</td>\n",
       "      <td>-2.2843</td>\n",
       "      <td>NaN</td>\n",
       "      <td>QC'd by BUCMLD</td>\n",
       "      <td>3</td>\n",
       "      <td>p450-cyp3a4</td>\n",
       "      <td>NP_059488.2</td>\n",
       "    </tr>\n",
       "    <tr>\n",
       "      <th>85697</th>\n",
       "      <td>85698</td>\n",
       "      <td>26751438</td>\n",
       "      <td>16758816.0</td>\n",
       "      <td>Inactive</td>\n",
       "      <td>NaN</td>\n",
       "      <td>NaN</td>\n",
       "      <td>NaN</td>\n",
       "      <td>0</td>\n",
       "      <td>Exploratory</td>\n",
       "      <td>NaN</td>\n",
       "      <td>...</td>\n",
       "      <td>-21.2044</td>\n",
       "      <td>NaN</td>\n",
       "      <td>NaN</td>\n",
       "      <td>NaN</td>\n",
       "      <td>-5.3018</td>\n",
       "      <td>NaN</td>\n",
       "      <td>QC'd by BUCMLD</td>\n",
       "      <td>3</td>\n",
       "      <td>p450-cyp3a4</td>\n",
       "      <td>NP_059488.2</td>\n",
       "    </tr>\n",
       "    <tr>\n",
       "      <th>85702</th>\n",
       "      <td>85703</td>\n",
       "      <td>26751439</td>\n",
       "      <td>16758817.0</td>\n",
       "      <td>Inactive</td>\n",
       "      <td>NaN</td>\n",
       "      <td>NaN</td>\n",
       "      <td>NaN</td>\n",
       "      <td>1</td>\n",
       "      <td>Exploratory</td>\n",
       "      <td>NaN</td>\n",
       "      <td>...</td>\n",
       "      <td>-21.3967</td>\n",
       "      <td>NaN</td>\n",
       "      <td>NaN</td>\n",
       "      <td>NaN</td>\n",
       "      <td>-2.2867</td>\n",
       "      <td>NaN</td>\n",
       "      <td>QC'd by BUCMLD</td>\n",
       "      <td>3</td>\n",
       "      <td>p450-cyp3a4</td>\n",
       "      <td>NP_059488.2</td>\n",
       "    </tr>\n",
       "    <tr>\n",
       "      <th>85707</th>\n",
       "      <td>85708</td>\n",
       "      <td>26751440</td>\n",
       "      <td>16758818.0</td>\n",
       "      <td>Inactive</td>\n",
       "      <td>NaN</td>\n",
       "      <td>NaN</td>\n",
       "      <td>NaN</td>\n",
       "      <td>0</td>\n",
       "      <td>Exploratory</td>\n",
       "      <td>NaN</td>\n",
       "      <td>...</td>\n",
       "      <td>-18.1157</td>\n",
       "      <td>NaN</td>\n",
       "      <td>NaN</td>\n",
       "      <td>NaN</td>\n",
       "      <td>-11.3235</td>\n",
       "      <td>NaN</td>\n",
       "      <td>QC'd by BUCMLD</td>\n",
       "      <td>3</td>\n",
       "      <td>p450-cyp3a4</td>\n",
       "      <td>NP_059488.2</td>\n",
       "    </tr>\n",
       "    <tr>\n",
       "      <th>85712</th>\n",
       "      <td>85713</td>\n",
       "      <td>26751441</td>\n",
       "      <td>10847630.0</td>\n",
       "      <td>Inactive</td>\n",
       "      <td>NaN</td>\n",
       "      <td>NaN</td>\n",
       "      <td>NaN</td>\n",
       "      <td>0</td>\n",
       "      <td>Exploratory</td>\n",
       "      <td>NaN</td>\n",
       "      <td>...</td>\n",
       "      <td>-13.5341</td>\n",
       "      <td>NaN</td>\n",
       "      <td>NaN</td>\n",
       "      <td>NaN</td>\n",
       "      <td>-3.6993</td>\n",
       "      <td>NaN</td>\n",
       "      <td>QC'd by BUCMLD</td>\n",
       "      <td>3</td>\n",
       "      <td>p450-cyp3a4</td>\n",
       "      <td>NP_059488.2</td>\n",
       "    </tr>\n",
       "  </tbody>\n",
       "</table>\n",
       "<p>17143 rows × 44 columns</p>\n",
       "</div>"
      ],
      "text/plain": [
       "       PUBCHEM_RESULT_TAG  PUBCHEM_SID  PUBCHEM_CID PUBCHEM_ACTIVITY_OUTCOME  \\\n",
       "2                       3       842238    6602638.0                 Inactive   \n",
       "7                       8       842250     644510.0                   Active   \n",
       "12                     13       842319    1960010.0             Inconclusive   \n",
       "17                     18       842408     644675.0                   Active   \n",
       "22                     23       842584     644851.0             Inconclusive   \n",
       "...                   ...          ...          ...                      ...   \n",
       "85692               85693     26751437   16758815.0                 Inactive   \n",
       "85697               85698     26751438   16758816.0                 Inactive   \n",
       "85702               85703     26751439   16758817.0                 Inactive   \n",
       "85707               85708     26751440   16758818.0                 Inactive   \n",
       "85712               85713     26751441   10847630.0                 Inactive   \n",
       "\n",
       "       PUBCHEM_ACTIVITY_SCORE  PUBCHEM_ACTIVITY_URL  \\\n",
       "2                         NaN                   NaN   \n",
       "7                         NaN                   NaN   \n",
       "12                        NaN                   NaN   \n",
       "17                        NaN                   NaN   \n",
       "22                        NaN                   NaN   \n",
       "...                       ...                   ...   \n",
       "85692                     NaN                   NaN   \n",
       "85697                     NaN                   NaN   \n",
       "85702                     NaN                   NaN   \n",
       "85707                     NaN                   NaN   \n",
       "85712                     NaN                   NaN   \n",
       "\n",
       "       PUBCHEM_ASSAYDATA_COMMENT  Inhibition Observed Approved Drug  \\\n",
       "2                            NaN                    1    Biodiverse   \n",
       "7                            NaN                    1    Biodiverse   \n",
       "12                           NaN                    1    Biodiverse   \n",
       "17                           NaN                    1    Biodiverse   \n",
       "22                           NaN                    1    Biodiverse   \n",
       "...                          ...                  ...           ...   \n",
       "85692                        NaN                    1   Exploratory   \n",
       "85697                        NaN                    0   Exploratory   \n",
       "85702                        NaN                    1   Exploratory   \n",
       "85707                        NaN                    0   Exploratory   \n",
       "85712                        NaN                    0   Exploratory   \n",
       "\n",
       "      Collection  ...  Activity at 11.43 uM  Activity at 25.56 uM  \\\n",
       "2            NaN  ...                0.4027                   NaN   \n",
       "7            NaN  ...              -82.0127                   NaN   \n",
       "12           NaN  ...              -52.8656                   NaN   \n",
       "17           NaN  ...              -47.8371                   NaN   \n",
       "22           NaN  ...              -15.4369                   NaN   \n",
       "...          ...  ...                   ...                   ...   \n",
       "85692        NaN  ...               -4.0397                   NaN   \n",
       "85697        NaN  ...              -21.2044                   NaN   \n",
       "85702        NaN  ...              -21.3967                   NaN   \n",
       "85707        NaN  ...              -18.1157                   NaN   \n",
       "85712        NaN  ...              -13.5341                   NaN   \n",
       "\n",
       "       Activity at 57.14 uM Activity at 0.00164 uM  Activity at 0.00366 uM  \\\n",
       "2                   -2.2935                    NaN                 -1.3363   \n",
       "7                  -97.4718                    NaN                -21.1766   \n",
       "12                 -52.7402                    NaN                  2.5996   \n",
       "17                 -94.7622                    NaN                  5.1962   \n",
       "22                 -42.1057                    NaN                 -5.2084   \n",
       "...                     ...                    ...                     ...   \n",
       "85692                   NaN                    NaN                 -2.2843   \n",
       "85697                   NaN                    NaN                 -5.3018   \n",
       "85702                   NaN                    NaN                 -2.2867   \n",
       "85707                   NaN                    NaN                -11.3235   \n",
       "85712                   NaN                    NaN                 -3.6993   \n",
       "\n",
       "       Activity at 0.00818 uM     Compound QC  Panel ID   Panel Name  \\\n",
       "2                         NaN  QC'd by DPISMR         3  p450-cyp3a4   \n",
       "7                         NaN  QC'd by DPISMR         3  p450-cyp3a4   \n",
       "12                        NaN  QC'd by DPISMR         3  p450-cyp3a4   \n",
       "17                        NaN  QC'd by DPISMR         3  p450-cyp3a4   \n",
       "22                        NaN  QC'd by DPISMR         3  p450-cyp3a4   \n",
       "...                       ...             ...       ...          ...   \n",
       "85692                     NaN  QC'd by BUCMLD         3  p450-cyp3a4   \n",
       "85697                     NaN  QC'd by BUCMLD         3  p450-cyp3a4   \n",
       "85702                     NaN  QC'd by BUCMLD         3  p450-cyp3a4   \n",
       "85707                     NaN  QC'd by BUCMLD         3  p450-cyp3a4   \n",
       "85712                     NaN  QC'd by BUCMLD         3  p450-cyp3a4   \n",
       "\n",
       "       Panel Target  \n",
       "2       NP_059488.2  \n",
       "7       NP_059488.2  \n",
       "12      NP_059488.2  \n",
       "17      NP_059488.2  \n",
       "22      NP_059488.2  \n",
       "...             ...  \n",
       "85692   NP_059488.2  \n",
       "85697   NP_059488.2  \n",
       "85702   NP_059488.2  \n",
       "85707   NP_059488.2  \n",
       "85712   NP_059488.2  \n",
       "\n",
       "[17143 rows x 44 columns]"
      ]
     },
     "execution_count": 11,
     "metadata": {},
     "output_type": "execute_result"
    }
   ],
   "source": [
    "cyp3a4"
   ]
  },
  {
   "cell_type": "code",
   "execution_count": 12,
   "id": "protective-president",
   "metadata": {},
   "outputs": [
    {
     "data": {
      "text/plain": [
       "0          842238\n",
       "1          842238\n",
       "2          842238\n",
       "3          842238\n",
       "4          842238\n",
       "           ...   \n",
       "85710    26751441\n",
       "85711    26751441\n",
       "85712    26751441\n",
       "85713    26751441\n",
       "85714    26751441\n",
       "Name: PUBCHEM_SID, Length: 85715, dtype: int64"
      ]
     },
     "execution_count": 12,
     "metadata": {},
     "output_type": "execute_result"
    }
   ],
   "source": [
    "cyto_assay['PUBCHEM_SID']"
   ]
  },
  {
   "cell_type": "code",
   "execution_count": 13,
   "id": "inappropriate-complexity",
   "metadata": {},
   "outputs": [],
   "source": [
    "pubchemcid = cyto_assay['PUBCHEM_SID']"
   ]
  },
  {
   "cell_type": "code",
   "execution_count": 14,
   "id": "national-bahrain",
   "metadata": {},
   "outputs": [],
   "source": [
    "pubchemcid.to_csv('data/pubchemSID.csv', index=False)"
   ]
  },
  {
   "cell_type": "code",
   "execution_count": 15,
   "id": "distinct-contemporary",
   "metadata": {},
   "outputs": [],
   "source": [
    "from sklearn.model_selection import train_test_split"
   ]
  },
  {
   "cell_type": "code",
   "execution_count": 16,
   "id": "seasonal-garden",
   "metadata": {},
   "outputs": [],
   "source": [
    "# From https://github.com/comp-pharm/ml-psychs/blob/main/src/data/make_dataset.py\n",
    "def make_data():\n",
    "    # Load the SID to Activity data\n",
    "    datatable = pd.read_csv(\"data/AID_1851_datatable_all.csv\", skiprows=[1, 2, 3, 4])\n",
    "    sid_to_outcome = datatable[[\"PUBCHEM_SID\", \"PUBCHEM_ACTIVITY_OUTCOME\"]]\n",
    "    sid_to_outcome = sid_to_outcome.replace(\n",
    "        {\"PUBCHEM_ACTIVITY_OUTCOME\": {\"Inactive\": 0, \"Active\": 1}}\n",
    "    )\n",
    "\n",
    "    # Load the SID to SMILES data\n",
    "    smiles = pd.read_csv(\"data/SIDtoSMILES.txt\", sep='\\t', names=[\"PUBCHEM_SID\", \"SMILES\"])\n",
    "\n",
    "    # Create the SMILES to SID data\n",
    "    data = pd.merge(sid_to_outcome, smiles, how=\"inner\", on=\"PUBCHEM_SID\")\n",
    "    data.dropna(inplace=True)  # One SID has no SMILES string, drop it\n",
    "    data.drop(\"PUBCHEM_SID\", axis=1, inplace=True)  # Drop the SID column as we are done with it\n",
    "    data = data[[\"SMILES\", \"PUBCHEM_ACTIVITY_OUTCOME\"]]  # Reorder\n",
    "\n",
    "    data.to_csv(\"data/SMILES_to_Activity.csv\", index=False)"
   ]
  },
  {
   "cell_type": "code",
   "execution_count": 20,
   "id": "behind-promise",
   "metadata": {},
   "outputs": [],
   "source": [
    "def split_data():\n",
    "    # Load the prepared data\n",
    "    data = pd.read_csv(\"data/SMILES_to_Activity.csv\")\n",
    "    X_train, X_testval, y_train, y_testval = train_test_split(data[\"SMILES\"], data[\"PUBCHEM_ACTIVITY_OUTCOME\"],\n",
    "                                                              stratify=data[\"PUBCHEM_ACTIVITY_OUTCOME\"], test_size=0.2)\n",
    "    X_val, X_test, y_val, y_test = train_test_split(X_testval, y_testval,\n",
    "                                                    stratify=y_testval, test_size=0.5)\n",
    "\n",
    "    train_data = pd.DataFrame({\"SMILES\": X_train, \"PUBCHEM_ACTIVITY_OUTCOME\": y_train})\n",
    "    val_data = pd.DataFrame({\"SMILES\": X_val, \"PUBCHEM_ACTIVITY_OUTCOME\": y_val})\n",
    "    test_data = pd.DataFrame({\"SMILES\": X_test, \"PUBCHEM_ACTIVITY_OUTCOME\": y_test})\n",
    "\n",
    "    train_data.to_csv(\"data/train_SMILES_to_Activity.csv\", index=False)\n",
    "    val_data.to_csv(\"data/val_SMILES_to_Activity.csv\", index=False)\n",
    "    test_data.to_csv(\"data/test_SMILES_to_Activity.csv\", index=False)\n",
    "\n",
    "\n",
    "if __name__ == \"__main__\":\n",
    "    make_data()\n",
    "    split_data()"
   ]
  },
  {
   "cell_type": "code",
   "execution_count": 22,
   "id": "meaning-taylor",
   "metadata": {},
   "outputs": [],
   "source": [
    "make_data()"
   ]
  },
  {
   "cell_type": "code",
   "execution_count": 23,
   "id": "green-sense",
   "metadata": {},
   "outputs": [],
   "source": [
    "split_data()"
   ]
  },
  {
   "cell_type": "code",
   "execution_count": null,
   "id": "velvet-spice",
   "metadata": {},
   "outputs": [],
   "source": [
    "# Notes from Ian\n",
    "# Once you get smiles to the true/false classification you're almost there. \n",
    "# From the smiles you generate features. Use rdkit for that. Either fingerprinting or something else.\n",
    "# Then just throw features against your classification into a model of your choice and start testing accuracy!"
   ]
  },
  {
   "cell_type": "code",
   "execution_count": null,
   "id": "suffering-steal",
   "metadata": {},
   "outputs": [],
   "source": []
  },
  {
   "cell_type": "code",
   "execution_count": null,
   "id": "numeric-combat",
   "metadata": {},
   "outputs": [],
   "source": []
  },
  {
   "cell_type": "code",
   "execution_count": null,
   "id": "systematic-oracle",
   "metadata": {},
   "outputs": [],
   "source": []
  },
  {
   "cell_type": "code",
   "execution_count": null,
   "id": "pacific-prediction",
   "metadata": {},
   "outputs": [],
   "source": []
  }
 ],
 "metadata": {
  "kernelspec": {
   "display_name": "Python 3",
   "language": "python",
   "name": "python3"
  },
  "language_info": {
   "codemirror_mode": {
    "name": "ipython",
    "version": 3
   },
   "file_extension": ".py",
   "mimetype": "text/x-python",
   "name": "python",
   "nbconvert_exporter": "python",
   "pygments_lexer": "ipython3",
   "version": "3.8.5"
  }
 },
 "nbformat": 4,
 "nbformat_minor": 5
}
