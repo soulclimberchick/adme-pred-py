{
 "cells": [
  {
   "cell_type": "markdown",
   "id": "photographic-therapist",
   "metadata": {},
   "source": [
    "Cleaning"
   ]
  },
  {
   "cell_type": "code",
   "execution_count": 1,
   "id": "transparent-advancement",
   "metadata": {},
   "outputs": [],
   "source": [
    "import pandas as pd\n",
    "import numpy as np\n",
    "\n",
    "from sklearn.model_selection import train_test_split\n",
    "\n",
    "from rdkit import Chem, DataStructs\n",
    "from rdkit.Chem import rdchem\n",
    "from rdkit.Chem import Mol\n",
    "from rdkit.Chem import AllChem\n",
    "\n",
    "import warnings\n",
    "warnings.filterwarnings('ignore')"
   ]
  },
  {
   "cell_type": "code",
   "execution_count": 2,
   "id": "consolidated-folks",
   "metadata": {},
   "outputs": [],
   "source": [
    "# Import data and remove unnecessary header rows\n",
    "cyto_assay = pd.read_csv('data/AID_1851_datatable_all.csv', skipinitialspace=True, header=[0,4])"
   ]
  },
  {
   "cell_type": "code",
   "execution_count": 3,
   "id": "legal-tennessee",
   "metadata": {},
   "outputs": [],
   "source": [
    "# Drop the bottom level of the multi-index\n",
    "cyto_assay.columns = cyto_assay.columns.droplevel(1)"
   ]
  },
  {
   "cell_type": "code",
   "execution_count": 4,
   "id": "medieval-alignment",
   "metadata": {},
   "outputs": [],
   "source": [
    "cyto_assay['Inhibition Observed'] = cyto_assay['Inhibition Observed'].map({True:1, False:0}).astype(int)"
   ]
  },
  {
   "cell_type": "code",
   "execution_count": 5,
   "id": "secure-husband",
   "metadata": {},
   "outputs": [
    {
     "data": {
      "text/plain": [
       "(85715, 44)"
      ]
     },
     "execution_count": 5,
     "metadata": {},
     "output_type": "execute_result"
    }
   ],
   "source": [
    "cyto_assay.shape"
   ]
  },
  {
   "cell_type": "code",
   "execution_count": 6,
   "id": "tribal-motion",
   "metadata": {},
   "outputs": [
    {
     "data": {
      "text/html": [
       "<div>\n",
       "<style scoped>\n",
       "    .dataframe tbody tr th:only-of-type {\n",
       "        vertical-align: middle;\n",
       "    }\n",
       "\n",
       "    .dataframe tbody tr th {\n",
       "        vertical-align: top;\n",
       "    }\n",
       "\n",
       "    .dataframe thead th {\n",
       "        text-align: right;\n",
       "    }\n",
       "</style>\n",
       "<table border=\"1\" class=\"dataframe\">\n",
       "  <thead>\n",
       "    <tr style=\"text-align: right;\">\n",
       "      <th></th>\n",
       "      <th>PUBCHEM_RESULT_TAG</th>\n",
       "      <th>PUBCHEM_SID</th>\n",
       "      <th>PUBCHEM_CID</th>\n",
       "      <th>PUBCHEM_ACTIVITY_OUTCOME</th>\n",
       "      <th>PUBCHEM_ACTIVITY_SCORE</th>\n",
       "      <th>PUBCHEM_ACTIVITY_URL</th>\n",
       "      <th>PUBCHEM_ASSAYDATA_COMMENT</th>\n",
       "      <th>Inhibition Observed</th>\n",
       "      <th>Approved Drug</th>\n",
       "      <th>Collection</th>\n",
       "      <th>...</th>\n",
       "      <th>Activity at 11.43 uM</th>\n",
       "      <th>Activity at 25.56 uM</th>\n",
       "      <th>Activity at 57.14 uM</th>\n",
       "      <th>Activity at 0.00164 uM</th>\n",
       "      <th>Activity at 0.00366 uM</th>\n",
       "      <th>Activity at 0.00818 uM</th>\n",
       "      <th>Compound QC</th>\n",
       "      <th>Panel ID</th>\n",
       "      <th>Panel Name</th>\n",
       "      <th>Panel Target</th>\n",
       "    </tr>\n",
       "  </thead>\n",
       "  <tbody>\n",
       "    <tr>\n",
       "      <th>0</th>\n",
       "      <td>1</td>\n",
       "      <td>842238</td>\n",
       "      <td>6602638.0</td>\n",
       "      <td>Inactive</td>\n",
       "      <td>NaN</td>\n",
       "      <td>NaN</td>\n",
       "      <td>NaN</td>\n",
       "      <td>1</td>\n",
       "      <td>Biodiverse</td>\n",
       "      <td>NaN</td>\n",
       "      <td>...</td>\n",
       "      <td>8.1486</td>\n",
       "      <td>NaN</td>\n",
       "      <td>-15.6281</td>\n",
       "      <td>NaN</td>\n",
       "      <td>NaN</td>\n",
       "      <td>NaN</td>\n",
       "      <td>QC'd by DPISMR</td>\n",
       "      <td>1</td>\n",
       "      <td>p450-cyp2c19</td>\n",
       "      <td>NP_000760.1</td>\n",
       "    </tr>\n",
       "    <tr>\n",
       "      <th>1</th>\n",
       "      <td>2</td>\n",
       "      <td>842238</td>\n",
       "      <td>6602638.0</td>\n",
       "      <td>Inconclusive</td>\n",
       "      <td>NaN</td>\n",
       "      <td>NaN</td>\n",
       "      <td>NaN</td>\n",
       "      <td>1</td>\n",
       "      <td>Biodiverse</td>\n",
       "      <td>NaN</td>\n",
       "      <td>...</td>\n",
       "      <td>-8.5062</td>\n",
       "      <td>NaN</td>\n",
       "      <td>-37.6308</td>\n",
       "      <td>NaN</td>\n",
       "      <td>NaN</td>\n",
       "      <td>NaN</td>\n",
       "      <td>QC'd by DPISMR</td>\n",
       "      <td>2</td>\n",
       "      <td>p450-cyp2d6</td>\n",
       "      <td>NP_001020332.1</td>\n",
       "    </tr>\n",
       "    <tr>\n",
       "      <th>2</th>\n",
       "      <td>3</td>\n",
       "      <td>842238</td>\n",
       "      <td>6602638.0</td>\n",
       "      <td>Inactive</td>\n",
       "      <td>NaN</td>\n",
       "      <td>NaN</td>\n",
       "      <td>NaN</td>\n",
       "      <td>1</td>\n",
       "      <td>Biodiverse</td>\n",
       "      <td>NaN</td>\n",
       "      <td>...</td>\n",
       "      <td>0.4027</td>\n",
       "      <td>NaN</td>\n",
       "      <td>-2.2935</td>\n",
       "      <td>NaN</td>\n",
       "      <td>-1.3363</td>\n",
       "      <td>NaN</td>\n",
       "      <td>QC'd by DPISMR</td>\n",
       "      <td>3</td>\n",
       "      <td>p450-cyp3a4</td>\n",
       "      <td>NP_059488.2</td>\n",
       "    </tr>\n",
       "    <tr>\n",
       "      <th>3</th>\n",
       "      <td>4</td>\n",
       "      <td>842238</td>\n",
       "      <td>6602638.0</td>\n",
       "      <td>Inactive</td>\n",
       "      <td>NaN</td>\n",
       "      <td>NaN</td>\n",
       "      <td>NaN</td>\n",
       "      <td>1</td>\n",
       "      <td>Biodiverse</td>\n",
       "      <td>NaN</td>\n",
       "      <td>...</td>\n",
       "      <td>-7.3920</td>\n",
       "      <td>NaN</td>\n",
       "      <td>-11.9048</td>\n",
       "      <td>NaN</td>\n",
       "      <td>NaN</td>\n",
       "      <td>NaN</td>\n",
       "      <td>QC'd by DPISMR</td>\n",
       "      <td>4</td>\n",
       "      <td>p450-cyp1a2</td>\n",
       "      <td>NP_000752.2</td>\n",
       "    </tr>\n",
       "    <tr>\n",
       "      <th>4</th>\n",
       "      <td>5</td>\n",
       "      <td>842238</td>\n",
       "      <td>6602638.0</td>\n",
       "      <td>Inconclusive</td>\n",
       "      <td>NaN</td>\n",
       "      <td>NaN</td>\n",
       "      <td>NaN</td>\n",
       "      <td>1</td>\n",
       "      <td>Biodiverse</td>\n",
       "      <td>NaN</td>\n",
       "      <td>...</td>\n",
       "      <td>-41.7035</td>\n",
       "      <td>NaN</td>\n",
       "      <td>-10.7694</td>\n",
       "      <td>NaN</td>\n",
       "      <td>NaN</td>\n",
       "      <td>NaN</td>\n",
       "      <td>QC'd by DPISMR</td>\n",
       "      <td>5</td>\n",
       "      <td>p450-cyp2c9</td>\n",
       "      <td>NP_000762.2</td>\n",
       "    </tr>\n",
       "  </tbody>\n",
       "</table>\n",
       "<p>5 rows × 44 columns</p>\n",
       "</div>"
      ],
      "text/plain": [
       "   PUBCHEM_RESULT_TAG  PUBCHEM_SID  PUBCHEM_CID PUBCHEM_ACTIVITY_OUTCOME  \\\n",
       "0                   1       842238    6602638.0                 Inactive   \n",
       "1                   2       842238    6602638.0             Inconclusive   \n",
       "2                   3       842238    6602638.0                 Inactive   \n",
       "3                   4       842238    6602638.0                 Inactive   \n",
       "4                   5       842238    6602638.0             Inconclusive   \n",
       "\n",
       "   PUBCHEM_ACTIVITY_SCORE  PUBCHEM_ACTIVITY_URL  PUBCHEM_ASSAYDATA_COMMENT  \\\n",
       "0                     NaN                   NaN                        NaN   \n",
       "1                     NaN                   NaN                        NaN   \n",
       "2                     NaN                   NaN                        NaN   \n",
       "3                     NaN                   NaN                        NaN   \n",
       "4                     NaN                   NaN                        NaN   \n",
       "\n",
       "   Inhibition Observed Approved Drug Collection  ...  Activity at 11.43 uM  \\\n",
       "0                    1    Biodiverse        NaN  ...                8.1486   \n",
       "1                    1    Biodiverse        NaN  ...               -8.5062   \n",
       "2                    1    Biodiverse        NaN  ...                0.4027   \n",
       "3                    1    Biodiverse        NaN  ...               -7.3920   \n",
       "4                    1    Biodiverse        NaN  ...              -41.7035   \n",
       "\n",
       "   Activity at 25.56 uM  Activity at 57.14 uM Activity at 0.00164 uM  \\\n",
       "0                   NaN              -15.6281                    NaN   \n",
       "1                   NaN              -37.6308                    NaN   \n",
       "2                   NaN               -2.2935                    NaN   \n",
       "3                   NaN              -11.9048                    NaN   \n",
       "4                   NaN              -10.7694                    NaN   \n",
       "\n",
       "   Activity at 0.00366 uM  Activity at 0.00818 uM     Compound QC  Panel ID  \\\n",
       "0                     NaN                     NaN  QC'd by DPISMR         1   \n",
       "1                     NaN                     NaN  QC'd by DPISMR         2   \n",
       "2                 -1.3363                     NaN  QC'd by DPISMR         3   \n",
       "3                     NaN                     NaN  QC'd by DPISMR         4   \n",
       "4                     NaN                     NaN  QC'd by DPISMR         5   \n",
       "\n",
       "     Panel Name    Panel Target  \n",
       "0  p450-cyp2c19     NP_000760.1  \n",
       "1   p450-cyp2d6  NP_001020332.1  \n",
       "2   p450-cyp3a4     NP_059488.2  \n",
       "3   p450-cyp1a2     NP_000752.2  \n",
       "4   p450-cyp2c9     NP_000762.2  \n",
       "\n",
       "[5 rows x 44 columns]"
      ]
     },
     "execution_count": 6,
     "metadata": {},
     "output_type": "execute_result"
    }
   ],
   "source": [
    "cyto_assay.head()"
   ]
  },
  {
   "cell_type": "code",
   "execution_count": 7,
   "id": "continent-occurrence",
   "metadata": {},
   "outputs": [
    {
     "data": {
      "text/plain": [
       "array([1, 0])"
      ]
     },
     "execution_count": 7,
     "metadata": {},
     "output_type": "execute_result"
    }
   ],
   "source": [
    "cyto_assay['Inhibition Observed'].unique()"
   ]
  },
  {
   "cell_type": "code",
   "execution_count": 8,
   "id": "assigned-retirement",
   "metadata": {},
   "outputs": [
    {
     "data": {
      "text/plain": [
       "0          842238\n",
       "1          842238\n",
       "2          842238\n",
       "3          842238\n",
       "4          842238\n",
       "           ...   \n",
       "85710    26751441\n",
       "85711    26751441\n",
       "85712    26751441\n",
       "85713    26751441\n",
       "85714    26751441\n",
       "Name: PUBCHEM_SID, Length: 85715, dtype: int64"
      ]
     },
     "execution_count": 8,
     "metadata": {},
     "output_type": "execute_result"
    }
   ],
   "source": [
    "cyto_assay['PUBCHEM_SID']"
   ]
  },
  {
   "cell_type": "code",
   "execution_count": 9,
   "id": "white-discovery",
   "metadata": {},
   "outputs": [],
   "source": [
    "# Separate out SID to use in PubChem's Data Download Tool to get SMILES data\n",
    "pubchemsid = cyto_assay['PUBCHEM_SID']"
   ]
  },
  {
   "cell_type": "code",
   "execution_count": 10,
   "id": "dangerous-sewing",
   "metadata": {},
   "outputs": [],
   "source": [
    "# Save SID files\n",
    "pubchemsid.to_csv('data/pubchemSID.csv', index=False)"
   ]
  },
  {
   "cell_type": "markdown",
   "id": "higher-rolling",
   "metadata": {},
   "source": [
    "## Combine SMILES with cyto_assay"
   ]
  },
  {
   "cell_type": "code",
   "execution_count": 11,
   "id": "overhead-graphics",
   "metadata": {},
   "outputs": [],
   "source": [
    "# From https://github.com/comp-pharm/ml-psychs/blob/main/src/data/make_dataset.py and heavily modified\n",
    "\n",
    "def make_data():\n",
    "    # Load the SID to Activity data\n",
    "#     datatable = pd.read_csv(\"data/AID_1851_datatable_all.csv\", skiprows=[1, 2, 3, 4])\n",
    "    datatable = pd.read_csv('data/AID_1851_datatable_all.csv', skipinitialspace=True, skiprows=[1, 2, 3, 4])\n",
    "    sid_to_outcome = datatable[[\"PUBCHEM_SID\", \"PUBCHEM_ACTIVITY_OUTCOME\"]]\n",
    "    sid_to_outcome = sid_to_outcome.replace(\n",
    "        {\"PUBCHEM_ACTIVITY_OUTCOME\": {\"Inactive\": 0, \"Active\": 1, \"Inconclusive\": 2}}\n",
    "    )\n",
    "\n",
    "    # Load the SID to SMILES data\n",
    "    smiles = pd.read_csv(\"data/SIDtoSMILES.txt\", names=[\"PUBCHEM_SID\", \"SMILES\"], delim_whitespace=True)\n",
    "\n",
    "    # Create the SMILES to SID data\n",
    "    data = pd.merge(sid_to_outcome, smiles, how=\"inner\", on=\"PUBCHEM_SID\")\n",
    "    data.dropna(inplace=True)  # One SID has no SMILES string, drop it\n",
    "    data.drop(\"PUBCHEM_SID\", axis=1, inplace=True)  # Drop the SID column as we are done with it\n",
    "    data = data[[\"SMILES\", \"PUBCHEM_ACTIVITY_OUTCOME\"]]  # Reorder\n",
    "\n",
    "    data.to_csv(\"data/SMILES_to_Activity.csv\")"
   ]
  },
  {
   "cell_type": "code",
   "execution_count": 12,
   "id": "architectural-liabilities",
   "metadata": {},
   "outputs": [],
   "source": [
    "make_data()"
   ]
  },
  {
   "cell_type": "markdown",
   "id": "overhead-orchestra",
   "metadata": {},
   "source": [
    "## Feature Creation - Will have to add Fingerprint info/change this section later"
   ]
  },
  {
   "cell_type": "markdown",
   "id": "confidential-tampa",
   "metadata": {},
   "source": [
    "In this section I will be using rdkit to create the features used in SwissADME's models   \n",
    "\n",
    "This will be moved to the data dictionary later"
   ]
  },
  {
   "cell_type": "markdown",
   "id": "gentle-portal",
   "metadata": {},
   "source": [
    "Source: https://static-content.springer.com/esm/art%3A10.1038%2Fsrep42717/MediaObjects/41598_2017_BFsrep42717_MOESM91_ESM.pdf  \n",
    "\n",
    "\n",
    "|#|Variable|Description|\n",
    "|---|---|---|\n",
    "|1|nF |number of fluorine atoms|\n",
    "|2|sbonds |number of single bonds|\n",
    "|3|dbonds|number of double bonds|\n",
    "|4|tbonds|number of triple bonds|\n",
    "|5|abonds|number of aromatic bonds|\n",
    "|6|GetMolWt|molecular weight|\n",
    "|7|NumAtoms|number of atoms|\n",
    "|8|NumHvyAtoms|number of heavy atoms|\n",
    "|9|AP|aromatic portion|\n",
    "|10|NumAcceptor|number of H-bond acceptors|\n",
    "|11|NumDonor|number of H-bond donors|\n",
    "|12|Num Carbon|number of carbon atoms|\n",
    "|13|NumHetero|number of heteroatoms|\n",
    "|14|NumAromatic|number of aromatic atoms|\n",
    "|15|NumRotors|number of rotatable bonds|\n",
    "|16|NumRing|number of rings|\n",
    "|17|TPSA|topological surface area|\n",
    "|18|MR|molecular refractivityty|\n",
    "|19|MlogpCX|weighted sum of carbon and halogen atoms|\n",
    "|20|MlogpNO|total number of nitrogen and oxygen atoms|\n",
    "|21|MLogpUB|number of undsaturated bonds|\n",
    "|22|MLogpRNG|presence of ring structures|\n",
    "|23|MLogpNO2|number of nitro groups|\n",
    "|24|MLogpNCS|presence of thiocyanate or isothiocynanate|\n",
    "|25|MLogpQN|presence of quarternary nitrogen or N-oxide|\n",
    "|26|MLogpALK|presence of alane, alkene cyclocalckane or cycloalkene|\n",
    "|27|MLogpHB|presence of intramolecular H-bond|\n",
    "|28|MLogpPOL|number af aromatic substituents|\n",
    "|29|MLogpBLM|presence of beta-lactam|\n",
    "|30|MLogpAMP|presence of amphoteric property|\n",
    "|31|MLogpPRX|proximity effect of nitrogen and oxygen atoms|\n",
    "|32|mlogp|MLOGP|\n",
    "|33|mhlogp|NC+NHET log <em>P</em>|\n",
    "|34|alogp|WLOGP|\n",
    "|35|logP|OpeBabel log <em>P</em>|\n",
    "|36|NumSpiro|number of spiro groups|\n",
    "|37|NumBridge|number of ringbridging atoms|\n",
    "|38|NumStero|number of stereocenters|\n",
    "|39|NumMacrocycle|number of macrocycles|\n",
    "|40|sizePenalty|size penalty|\n",
    "|41|macrocyclePenalty|macrocycle penalty|\n",
    "|42|stereoComplexity|stereo complexity|\n",
    "|43|ringComplexity|ring complexity|\n",
    "|44|complexityPenalty|complexity penalty|\n",
    "|45|ilogp|IGLOP|\n",
    "|46|xlogp3|XLOGP3|\n",
    "|47|silicos_logP|Filter-IT log <em>P</em>|\n",
    "|48|logSwE|ESOL log <em>S</em>|\n",
    "|49|logSwA|Ali log <em>S</em>|\n",
    "|50|silicos_logS|Filter-IT log <em>S</em>|\n"
   ]
  },
  {
   "cell_type": "code",
   "execution_count": 13,
   "id": "featured-illustration",
   "metadata": {},
   "outputs": [
    {
     "data": {
      "text/html": [
       "<div>\n",
       "<style scoped>\n",
       "    .dataframe tbody tr th:only-of-type {\n",
       "        vertical-align: middle;\n",
       "    }\n",
       "\n",
       "    .dataframe tbody tr th {\n",
       "        vertical-align: top;\n",
       "    }\n",
       "\n",
       "    .dataframe thead th {\n",
       "        text-align: right;\n",
       "    }\n",
       "</style>\n",
       "<table border=\"1\" class=\"dataframe\">\n",
       "  <thead>\n",
       "    <tr style=\"text-align: right;\">\n",
       "      <th></th>\n",
       "      <th>842238</th>\n",
       "      <th>CC1=C(SC=C1)C(=O)NNC(=O)[C@@H]2[C@@H]3C[C@H]([C@H]2C(=O)O)C=C3</th>\n",
       "    </tr>\n",
       "  </thead>\n",
       "  <tbody>\n",
       "    <tr>\n",
       "      <th>0</th>\n",
       "      <td>842250</td>\n",
       "      <td>CC1=CC(=NO1)C(=O)NN=CC2=CC=CC=C2Br</td>\n",
       "    </tr>\n",
       "    <tr>\n",
       "      <th>1</th>\n",
       "      <td>842319</td>\n",
       "      <td>C1=CC=NC(=C1)C=NNC(=O)C2=CC=C(C=C2)N3C=CC=C3</td>\n",
       "    </tr>\n",
       "    <tr>\n",
       "      <th>2</th>\n",
       "      <td>842408</td>\n",
       "      <td>CC1=C(C=C(C=C1)NC(=O)CCCC2=CC=CC=C2)[N+](=O)[O-]</td>\n",
       "    </tr>\n",
       "    <tr>\n",
       "      <th>3</th>\n",
       "      <td>842584</td>\n",
       "      <td>CCC[C@@H](C)C(=O)NC1=CC=CC=C1F</td>\n",
       "    </tr>\n",
       "    <tr>\n",
       "      <th>4</th>\n",
       "      <td>842618</td>\n",
       "      <td>C1OC2=C(O1)C=C(C=C2)C=CC(=O)NC3=NC=CC=N3</td>\n",
       "    </tr>\n",
       "  </tbody>\n",
       "</table>\n",
       "</div>"
      ],
      "text/plain": [
       "   842238 CC1=C(SC=C1)C(=O)NNC(=O)[C@@H]2[C@@H]3C[C@H]([C@H]2C(=O)O)C=C3\n",
       "0  842250                 CC1=CC(=NO1)C(=O)NN=CC2=CC=CC=C2Br            \n",
       "1  842319       C1=CC=NC(=C1)C=NNC(=O)C2=CC=C(C=C2)N3C=CC=C3            \n",
       "2  842408   CC1=C(C=C(C=C1)NC(=O)CCCC2=CC=CC=C2)[N+](=O)[O-]            \n",
       "3  842584                     CCC[C@@H](C)C(=O)NC1=CC=CC=C1F            \n",
       "4  842618           C1OC2=C(O1)C=C(C=C2)C=CC(=O)NC3=NC=CC=N3            "
      ]
     },
     "execution_count": 13,
     "metadata": {},
     "output_type": "execute_result"
    }
   ],
   "source": [
    "# Read in SIDtoSMILES data to prep for use with rdkit\n",
    "remove_SID = pd.read_csv('data/SIDtoSMILES.txt', delim_whitespace=True)\n",
    "remove_SID.head()"
   ]
  },
  {
   "cell_type": "code",
   "execution_count": 14,
   "id": "pacific-sector",
   "metadata": {},
   "outputs": [
    {
     "data": {
      "text/html": [
       "<div>\n",
       "<style scoped>\n",
       "    .dataframe tbody tr th:only-of-type {\n",
       "        vertical-align: middle;\n",
       "    }\n",
       "\n",
       "    .dataframe tbody tr th {\n",
       "        vertical-align: top;\n",
       "    }\n",
       "\n",
       "    .dataframe thead th {\n",
       "        text-align: right;\n",
       "    }\n",
       "</style>\n",
       "<table border=\"1\" class=\"dataframe\">\n",
       "  <thead>\n",
       "    <tr style=\"text-align: right;\">\n",
       "      <th></th>\n",
       "      <th>CC1=C(SC=C1)C(=O)NNC(=O)[C@@H]2[C@@H]3C[C@H]([C@H]2C(=O)O)C=C3</th>\n",
       "    </tr>\n",
       "  </thead>\n",
       "  <tbody>\n",
       "    <tr>\n",
       "      <th>0</th>\n",
       "      <td>CC1=CC(=NO1)C(=O)NN=CC2=CC=CC=C2Br</td>\n",
       "    </tr>\n",
       "    <tr>\n",
       "      <th>1</th>\n",
       "      <td>C1=CC=NC(=C1)C=NNC(=O)C2=CC=C(C=C2)N3C=CC=C3</td>\n",
       "    </tr>\n",
       "    <tr>\n",
       "      <th>2</th>\n",
       "      <td>CC1=C(C=C(C=C1)NC(=O)CCCC2=CC=CC=C2)[N+](=O)[O-]</td>\n",
       "    </tr>\n",
       "    <tr>\n",
       "      <th>3</th>\n",
       "      <td>CCC[C@@H](C)C(=O)NC1=CC=CC=C1F</td>\n",
       "    </tr>\n",
       "    <tr>\n",
       "      <th>4</th>\n",
       "      <td>C1OC2=C(O1)C=C(C=C2)C=CC(=O)NC3=NC=CC=N3</td>\n",
       "    </tr>\n",
       "  </tbody>\n",
       "</table>\n",
       "</div>"
      ],
      "text/plain": [
       "  CC1=C(SC=C1)C(=O)NNC(=O)[C@@H]2[C@@H]3C[C@H]([C@H]2C(=O)O)C=C3\n",
       "0                 CC1=CC(=NO1)C(=O)NN=CC2=CC=CC=C2Br            \n",
       "1       C1=CC=NC(=C1)C=NNC(=O)C2=CC=C(C=C2)N3C=CC=C3            \n",
       "2   CC1=C(C=C(C=C1)NC(=O)CCCC2=CC=CC=C2)[N+](=O)[O-]            \n",
       "3                     CCC[C@@H](C)C(=O)NC1=CC=CC=C1F            \n",
       "4           C1OC2=C(O1)C=C(C=C2)C=CC(=O)NC3=NC=CC=N3            "
      ]
     },
     "execution_count": 14,
     "metadata": {},
     "output_type": "execute_result"
    }
   ],
   "source": [
    "# Remove SID from SMILES data so SMILES data is useable in rdkit\n",
    "remove_SID = remove_SID.drop(columns='842238')\n",
    "remove_SID.head()"
   ]
  },
  {
   "cell_type": "code",
   "execution_count": 15,
   "id": "mexican-module",
   "metadata": {},
   "outputs": [],
   "source": [
    "# Save file as txt with no header or indexes\n",
    "remove_SID.to_csv('data/smiles_only.csv', header=1, index=False, mode=\"a\")"
   ]
  },
  {
   "cell_type": "code",
   "execution_count": 16,
   "id": "supreme-surprise",
   "metadata": {},
   "outputs": [
    {
     "data": {
      "text/plain": [
       "list"
      ]
     },
     "execution_count": 16,
     "metadata": {},
     "output_type": "execute_result"
    }
   ],
   "source": [
    "# Read in SMILES-only data\n",
    "# Iterate through smiles data to create mol_list\n",
    "smiles_list = pd.read_csv('data/smiles_only.csv')\n",
    "mol_list = [Chem.MolFromSmiles(data[0]) for idx, data in smiles_list.iterrows()]\n",
    "type(mol_list)"
   ]
  },
  {
   "cell_type": "code",
   "execution_count": 17,
   "id": "sealed-belly",
   "metadata": {},
   "outputs": [
    {
     "data": {
      "text/plain": [
       "pandas.core.frame.DataFrame"
      ]
     },
     "execution_count": 17,
     "metadata": {},
     "output_type": "execute_result"
    }
   ],
   "source": [
    "type(smiles_list)"
   ]
  },
  {
   "cell_type": "code",
   "execution_count": 18,
   "id": "adapted-customer",
   "metadata": {},
   "outputs": [
    {
     "data": {
      "text/plain": [
       "(188569, 1)"
      ]
     },
     "execution_count": 18,
     "metadata": {},
     "output_type": "execute_result"
    }
   ],
   "source": [
    "smiles_list.shape"
   ]
  },
  {
   "cell_type": "code",
   "execution_count": 19,
   "id": "angry-nudist",
   "metadata": {},
   "outputs": [
    {
     "data": {
      "text/html": [
       "<div>\n",
       "<style scoped>\n",
       "    .dataframe tbody tr th:only-of-type {\n",
       "        vertical-align: middle;\n",
       "    }\n",
       "\n",
       "    .dataframe tbody tr th {\n",
       "        vertical-align: top;\n",
       "    }\n",
       "\n",
       "    .dataframe thead th {\n",
       "        text-align: right;\n",
       "    }\n",
       "</style>\n",
       "<table border=\"1\" class=\"dataframe\">\n",
       "  <thead>\n",
       "    <tr style=\"text-align: right;\">\n",
       "      <th></th>\n",
       "      <th>CC1=CC(=NO1)C(=O)NN=CC2=CC=CC=C2Br</th>\n",
       "    </tr>\n",
       "  </thead>\n",
       "  <tbody>\n",
       "    <tr>\n",
       "      <th>0</th>\n",
       "      <td>C1=CC=NC(=C1)C=NNC(=O)C2=CC=C(C=C2)N3C=CC=C3</td>\n",
       "    </tr>\n",
       "    <tr>\n",
       "      <th>1</th>\n",
       "      <td>CC1=C(C=C(C=C1)NC(=O)CCCC2=CC=CC=C2)[N+](=O)[O-]</td>\n",
       "    </tr>\n",
       "    <tr>\n",
       "      <th>2</th>\n",
       "      <td>CCC[C@@H](C)C(=O)NC1=CC=CC=C1F</td>\n",
       "    </tr>\n",
       "    <tr>\n",
       "      <th>3</th>\n",
       "      <td>C1OC2=C(O1)C=C(C=C2)C=CC(=O)NC3=NC=CC=N3</td>\n",
       "    </tr>\n",
       "    <tr>\n",
       "      <th>4</th>\n",
       "      <td>CC[C@H](C)OC(=O)C1=C(SC2=C1CCCC2)N</td>\n",
       "    </tr>\n",
       "  </tbody>\n",
       "</table>\n",
       "</div>"
      ],
      "text/plain": [
       "                 CC1=CC(=NO1)C(=O)NN=CC2=CC=CC=C2Br\n",
       "0      C1=CC=NC(=C1)C=NNC(=O)C2=CC=C(C=C2)N3C=CC=C3\n",
       "1  CC1=C(C=C(C=C1)NC(=O)CCCC2=CC=CC=C2)[N+](=O)[O-]\n",
       "2                    CCC[C@@H](C)C(=O)NC1=CC=CC=C1F\n",
       "3          C1OC2=C(O1)C=C(C=C2)C=CC(=O)NC3=NC=CC=N3\n",
       "4                CC[C@H](C)OC(=O)C1=C(SC2=C1CCCC2)N"
      ]
     },
     "execution_count": 19,
     "metadata": {},
     "output_type": "execute_result"
    }
   ],
   "source": [
    "smiles_list.head()"
   ]
  },
  {
   "cell_type": "code",
   "execution_count": 20,
   "id": "divine-prince",
   "metadata": {},
   "outputs": [
    {
     "data": {
      "text/plain": [
       "188569"
      ]
     },
     "execution_count": 20,
     "metadata": {},
     "output_type": "execute_result"
    }
   ],
   "source": [
    "len(mol_list)"
   ]
  },
  {
   "cell_type": "code",
   "execution_count": 21,
   "id": "israeli-registration",
   "metadata": {},
   "outputs": [
    {
     "data": {
      "text/plain": [
       "15"
      ]
     },
     "execution_count": 21,
     "metadata": {},
     "output_type": "execute_result"
    }
   ],
   "source": [
    "mol_list[2].GetNumAtoms()"
   ]
  },
  {
   "cell_type": "code",
   "execution_count": 22,
   "id": "sustainable-harvest",
   "metadata": {},
   "outputs": [],
   "source": [
    "fp1 = pd.DataFrame([AllChem.GetMorganFingerprint(data, 2) for data in mol_list])"
   ]
  },
  {
   "cell_type": "code",
   "execution_count": 23,
   "id": "substantial-richards",
   "metadata": {},
   "outputs": [
    {
     "name": "stdout",
     "output_type": "stream",
     "text": [
      "0         <rdkit.DataStructs.cDataStructs.UIntSparseIntV...\n",
      "1         <rdkit.DataStructs.cDataStructs.UIntSparseIntV...\n",
      "2         <rdkit.DataStructs.cDataStructs.UIntSparseIntV...\n",
      "3         <rdkit.DataStructs.cDataStructs.UIntSparseIntV...\n",
      "4         <rdkit.DataStructs.cDataStructs.UIntSparseIntV...\n",
      "                                ...                        \n",
      "188564    <rdkit.DataStructs.cDataStructs.UIntSparseIntV...\n",
      "188565    <rdkit.DataStructs.cDataStructs.UIntSparseIntV...\n",
      "188566    <rdkit.DataStructs.cDataStructs.UIntSparseIntV...\n",
      "188567    <rdkit.DataStructs.cDataStructs.UIntSparseIntV...\n",
      "188568    <rdkit.DataStructs.cDataStructs.UIntSparseIntV...\n",
      "Name: 0, Length: 188569, dtype: object\n"
     ]
    }
   ],
   "source": [
    "print(fp1[0])"
   ]
  },
  {
   "cell_type": "code",
   "execution_count": 24,
   "id": "eleven-tunnel",
   "metadata": {},
   "outputs": [
    {
     "data": {
      "text/html": [
       "<div>\n",
       "<style scoped>\n",
       "    .dataframe tbody tr th:only-of-type {\n",
       "        vertical-align: middle;\n",
       "    }\n",
       "\n",
       "    .dataframe tbody tr th {\n",
       "        vertical-align: top;\n",
       "    }\n",
       "\n",
       "    .dataframe thead th {\n",
       "        text-align: right;\n",
       "    }\n",
       "</style>\n",
       "<table border=\"1\" class=\"dataframe\">\n",
       "  <thead>\n",
       "    <tr style=\"text-align: right;\">\n",
       "      <th></th>\n",
       "      <th>FINGERPRINT</th>\n",
       "    </tr>\n",
       "  </thead>\n",
       "  <tbody>\n",
       "    <tr>\n",
       "      <th>0</th>\n",
       "      <td>&lt;rdkit.DataStructs.cDataStructs.UIntSparseIntV...</td>\n",
       "    </tr>\n",
       "    <tr>\n",
       "      <th>1</th>\n",
       "      <td>&lt;rdkit.DataStructs.cDataStructs.UIntSparseIntV...</td>\n",
       "    </tr>\n",
       "    <tr>\n",
       "      <th>2</th>\n",
       "      <td>&lt;rdkit.DataStructs.cDataStructs.UIntSparseIntV...</td>\n",
       "    </tr>\n",
       "    <tr>\n",
       "      <th>3</th>\n",
       "      <td>&lt;rdkit.DataStructs.cDataStructs.UIntSparseIntV...</td>\n",
       "    </tr>\n",
       "    <tr>\n",
       "      <th>4</th>\n",
       "      <td>&lt;rdkit.DataStructs.cDataStructs.UIntSparseIntV...</td>\n",
       "    </tr>\n",
       "  </tbody>\n",
       "</table>\n",
       "</div>"
      ],
      "text/plain": [
       "                                         FINGERPRINT\n",
       "0  <rdkit.DataStructs.cDataStructs.UIntSparseIntV...\n",
       "1  <rdkit.DataStructs.cDataStructs.UIntSparseIntV...\n",
       "2  <rdkit.DataStructs.cDataStructs.UIntSparseIntV...\n",
       "3  <rdkit.DataStructs.cDataStructs.UIntSparseIntV...\n",
       "4  <rdkit.DataStructs.cDataStructs.UIntSparseIntV..."
      ]
     },
     "execution_count": 24,
     "metadata": {},
     "output_type": "execute_result"
    }
   ],
   "source": [
    "fp1.columns = ['FINGERPRINT']\n",
    "fp1.head()"
   ]
  },
  {
   "cell_type": "code",
   "execution_count": 25,
   "id": "cheap-spanking",
   "metadata": {},
   "outputs": [],
   "source": [
    "fp1.to_csv('data/fingerprints')"
   ]
  },
  {
   "cell_type": "code",
   "execution_count": 26,
   "id": "earned-pharmacology",
   "metadata": {},
   "outputs": [
    {
     "data": {
      "text/html": [
       "<div>\n",
       "<style scoped>\n",
       "    .dataframe tbody tr th:only-of-type {\n",
       "        vertical-align: middle;\n",
       "    }\n",
       "\n",
       "    .dataframe tbody tr th {\n",
       "        vertical-align: top;\n",
       "    }\n",
       "\n",
       "    .dataframe thead th {\n",
       "        text-align: right;\n",
       "    }\n",
       "</style>\n",
       "<table border=\"1\" class=\"dataframe\">\n",
       "  <thead>\n",
       "    <tr style=\"text-align: right;\">\n",
       "      <th></th>\n",
       "      <th>Unnamed: 0</th>\n",
       "      <th>FINGERPRINT</th>\n",
       "    </tr>\n",
       "  </thead>\n",
       "  <tbody>\n",
       "    <tr>\n",
       "      <th>0</th>\n",
       "      <td>0</td>\n",
       "      <td>&lt;rdkit.DataStructs.cDataStructs.UIntSparseIntV...</td>\n",
       "    </tr>\n",
       "    <tr>\n",
       "      <th>1</th>\n",
       "      <td>1</td>\n",
       "      <td>&lt;rdkit.DataStructs.cDataStructs.UIntSparseIntV...</td>\n",
       "    </tr>\n",
       "    <tr>\n",
       "      <th>2</th>\n",
       "      <td>2</td>\n",
       "      <td>&lt;rdkit.DataStructs.cDataStructs.UIntSparseIntV...</td>\n",
       "    </tr>\n",
       "    <tr>\n",
       "      <th>3</th>\n",
       "      <td>3</td>\n",
       "      <td>&lt;rdkit.DataStructs.cDataStructs.UIntSparseIntV...</td>\n",
       "    </tr>\n",
       "    <tr>\n",
       "      <th>4</th>\n",
       "      <td>4</td>\n",
       "      <td>&lt;rdkit.DataStructs.cDataStructs.UIntSparseIntV...</td>\n",
       "    </tr>\n",
       "  </tbody>\n",
       "</table>\n",
       "</div>"
      ],
      "text/plain": [
       "   Unnamed: 0                                        FINGERPRINT\n",
       "0           0  <rdkit.DataStructs.cDataStructs.UIntSparseIntV...\n",
       "1           1  <rdkit.DataStructs.cDataStructs.UIntSparseIntV...\n",
       "2           2  <rdkit.DataStructs.cDataStructs.UIntSparseIntV...\n",
       "3           3  <rdkit.DataStructs.cDataStructs.UIntSparseIntV...\n",
       "4           4  <rdkit.DataStructs.cDataStructs.UIntSparseIntV..."
      ]
     },
     "execution_count": 26,
     "metadata": {},
     "output_type": "execute_result"
    }
   ],
   "source": [
    "fingerprints = pd.read_csv('data/fingerprints')\n",
    "fingerprints.head()"
   ]
  },
  {
   "cell_type": "code",
   "execution_count": 27,
   "id": "heavy-exception",
   "metadata": {},
   "outputs": [
    {
     "data": {
      "text/html": [
       "<div>\n",
       "<style scoped>\n",
       "    .dataframe tbody tr th:only-of-type {\n",
       "        vertical-align: middle;\n",
       "    }\n",
       "\n",
       "    .dataframe tbody tr th {\n",
       "        vertical-align: top;\n",
       "    }\n",
       "\n",
       "    .dataframe thead th {\n",
       "        text-align: right;\n",
       "    }\n",
       "</style>\n",
       "<table border=\"1\" class=\"dataframe\">\n",
       "  <thead>\n",
       "    <tr style=\"text-align: right;\">\n",
       "      <th></th>\n",
       "      <th>Unnamed: 0</th>\n",
       "      <th>SMILES</th>\n",
       "      <th>PUBCHEM_ACTIVITY_OUTCOME</th>\n",
       "    </tr>\n",
       "  </thead>\n",
       "  <tbody>\n",
       "    <tr>\n",
       "      <th>0</th>\n",
       "      <td>0</td>\n",
       "      <td>CC1=C(SC=C1)C(=O)NNC(=O)[C@@H]2[C@@H]3C[C@H]([...</td>\n",
       "      <td>0</td>\n",
       "    </tr>\n",
       "    <tr>\n",
       "      <th>1</th>\n",
       "      <td>1</td>\n",
       "      <td>CC1=C(SC=C1)C(=O)NNC(=O)[C@@H]2[C@@H]3C[C@H]([...</td>\n",
       "      <td>2</td>\n",
       "    </tr>\n",
       "    <tr>\n",
       "      <th>2</th>\n",
       "      <td>2</td>\n",
       "      <td>CC1=C(SC=C1)C(=O)NNC(=O)[C@@H]2[C@@H]3C[C@H]([...</td>\n",
       "      <td>0</td>\n",
       "    </tr>\n",
       "    <tr>\n",
       "      <th>3</th>\n",
       "      <td>3</td>\n",
       "      <td>CC1=C(SC=C1)C(=O)NNC(=O)[C@@H]2[C@@H]3C[C@H]([...</td>\n",
       "      <td>0</td>\n",
       "    </tr>\n",
       "    <tr>\n",
       "      <th>4</th>\n",
       "      <td>4</td>\n",
       "      <td>CC1=C(SC=C1)C(=O)NNC(=O)[C@@H]2[C@@H]3C[C@H]([...</td>\n",
       "      <td>2</td>\n",
       "    </tr>\n",
       "  </tbody>\n",
       "</table>\n",
       "</div>"
      ],
      "text/plain": [
       "   Unnamed: 0                                             SMILES  \\\n",
       "0           0  CC1=C(SC=C1)C(=O)NNC(=O)[C@@H]2[C@@H]3C[C@H]([...   \n",
       "1           1  CC1=C(SC=C1)C(=O)NNC(=O)[C@@H]2[C@@H]3C[C@H]([...   \n",
       "2           2  CC1=C(SC=C1)C(=O)NNC(=O)[C@@H]2[C@@H]3C[C@H]([...   \n",
       "3           3  CC1=C(SC=C1)C(=O)NNC(=O)[C@@H]2[C@@H]3C[C@H]([...   \n",
       "4           4  CC1=C(SC=C1)C(=O)NNC(=O)[C@@H]2[C@@H]3C[C@H]([...   \n",
       "\n",
       "   PUBCHEM_ACTIVITY_OUTCOME  \n",
       "0                         0  \n",
       "1                         2  \n",
       "2                         0  \n",
       "3                         0  \n",
       "4                         2  "
      ]
     },
     "execution_count": 27,
     "metadata": {},
     "output_type": "execute_result"
    }
   ],
   "source": [
    "data = pd.read_csv('data/SMILES_to_Activity.csv')\n",
    "data['Unnamed: 0'] = data.index\n",
    "data.head()"
   ]
  },
  {
   "cell_type": "code",
   "execution_count": 28,
   "id": "colored-citizen",
   "metadata": {},
   "outputs": [],
   "source": [
    "fp_data = data.merge(fingerprints, how='inner')"
   ]
  },
  {
   "cell_type": "code",
   "execution_count": 29,
   "id": "extended-joyce",
   "metadata": {},
   "outputs": [
    {
     "data": {
      "text/html": [
       "<div>\n",
       "<style scoped>\n",
       "    .dataframe tbody tr th:only-of-type {\n",
       "        vertical-align: middle;\n",
       "    }\n",
       "\n",
       "    .dataframe tbody tr th {\n",
       "        vertical-align: top;\n",
       "    }\n",
       "\n",
       "    .dataframe thead th {\n",
       "        text-align: right;\n",
       "    }\n",
       "</style>\n",
       "<table border=\"1\" class=\"dataframe\">\n",
       "  <thead>\n",
       "    <tr style=\"text-align: right;\">\n",
       "      <th></th>\n",
       "      <th>Unnamed: 0</th>\n",
       "      <th>SMILES</th>\n",
       "      <th>PUBCHEM_ACTIVITY_OUTCOME</th>\n",
       "      <th>FINGERPRINT</th>\n",
       "    </tr>\n",
       "  </thead>\n",
       "  <tbody>\n",
       "    <tr>\n",
       "      <th>0</th>\n",
       "      <td>0</td>\n",
       "      <td>CC1=C(SC=C1)C(=O)NNC(=O)[C@@H]2[C@@H]3C[C@H]([...</td>\n",
       "      <td>0</td>\n",
       "      <td>&lt;rdkit.DataStructs.cDataStructs.UIntSparseIntV...</td>\n",
       "    </tr>\n",
       "    <tr>\n",
       "      <th>1</th>\n",
       "      <td>1</td>\n",
       "      <td>CC1=C(SC=C1)C(=O)NNC(=O)[C@@H]2[C@@H]3C[C@H]([...</td>\n",
       "      <td>2</td>\n",
       "      <td>&lt;rdkit.DataStructs.cDataStructs.UIntSparseIntV...</td>\n",
       "    </tr>\n",
       "    <tr>\n",
       "      <th>2</th>\n",
       "      <td>2</td>\n",
       "      <td>CC1=C(SC=C1)C(=O)NNC(=O)[C@@H]2[C@@H]3C[C@H]([...</td>\n",
       "      <td>0</td>\n",
       "      <td>&lt;rdkit.DataStructs.cDataStructs.UIntSparseIntV...</td>\n",
       "    </tr>\n",
       "    <tr>\n",
       "      <th>3</th>\n",
       "      <td>3</td>\n",
       "      <td>CC1=C(SC=C1)C(=O)NNC(=O)[C@@H]2[C@@H]3C[C@H]([...</td>\n",
       "      <td>0</td>\n",
       "      <td>&lt;rdkit.DataStructs.cDataStructs.UIntSparseIntV...</td>\n",
       "    </tr>\n",
       "    <tr>\n",
       "      <th>4</th>\n",
       "      <td>4</td>\n",
       "      <td>CC1=C(SC=C1)C(=O)NNC(=O)[C@@H]2[C@@H]3C[C@H]([...</td>\n",
       "      <td>2</td>\n",
       "      <td>&lt;rdkit.DataStructs.cDataStructs.UIntSparseIntV...</td>\n",
       "    </tr>\n",
       "  </tbody>\n",
       "</table>\n",
       "</div>"
      ],
      "text/plain": [
       "   Unnamed: 0                                             SMILES  \\\n",
       "0           0  CC1=C(SC=C1)C(=O)NNC(=O)[C@@H]2[C@@H]3C[C@H]([...   \n",
       "1           1  CC1=C(SC=C1)C(=O)NNC(=O)[C@@H]2[C@@H]3C[C@H]([...   \n",
       "2           2  CC1=C(SC=C1)C(=O)NNC(=O)[C@@H]2[C@@H]3C[C@H]([...   \n",
       "3           3  CC1=C(SC=C1)C(=O)NNC(=O)[C@@H]2[C@@H]3C[C@H]([...   \n",
       "4           4  CC1=C(SC=C1)C(=O)NNC(=O)[C@@H]2[C@@H]3C[C@H]([...   \n",
       "\n",
       "   PUBCHEM_ACTIVITY_OUTCOME                                        FINGERPRINT  \n",
       "0                         0  <rdkit.DataStructs.cDataStructs.UIntSparseIntV...  \n",
       "1                         2  <rdkit.DataStructs.cDataStructs.UIntSparseIntV...  \n",
       "2                         0  <rdkit.DataStructs.cDataStructs.UIntSparseIntV...  \n",
       "3                         0  <rdkit.DataStructs.cDataStructs.UIntSparseIntV...  \n",
       "4                         2  <rdkit.DataStructs.cDataStructs.UIntSparseIntV...  "
      ]
     },
     "execution_count": 29,
     "metadata": {},
     "output_type": "execute_result"
    }
   ],
   "source": [
    "fp_data.head()"
   ]
  },
  {
   "cell_type": "code",
   "execution_count": 30,
   "id": "educated-ontario",
   "metadata": {},
   "outputs": [
    {
     "data": {
      "text/plain": [
       "array([0, 2, 1])"
      ]
     },
     "execution_count": 30,
     "metadata": {},
     "output_type": "execute_result"
    }
   ],
   "source": [
    "fp_data['PUBCHEM_ACTIVITY_OUTCOME'].unique()"
   ]
  },
  {
   "cell_type": "code",
   "execution_count": 31,
   "id": "ethical-access",
   "metadata": {},
   "outputs": [],
   "source": [
    "fp_data.to_csv('data/fingerprint_merged')"
   ]
  },
  {
   "cell_type": "code",
   "execution_count": 32,
   "id": "grave-niagara",
   "metadata": {},
   "outputs": [],
   "source": [
    "# Check to make sure it saved correctly\n",
    "data = pd.read_csv(\"data/fingerprint_merged\")"
   ]
  },
  {
   "cell_type": "code",
   "execution_count": 33,
   "id": "roman-islam",
   "metadata": {},
   "outputs": [
    {
     "data": {
      "text/html": [
       "<div>\n",
       "<style scoped>\n",
       "    .dataframe tbody tr th:only-of-type {\n",
       "        vertical-align: middle;\n",
       "    }\n",
       "\n",
       "    .dataframe tbody tr th {\n",
       "        vertical-align: top;\n",
       "    }\n",
       "\n",
       "    .dataframe thead th {\n",
       "        text-align: right;\n",
       "    }\n",
       "</style>\n",
       "<table border=\"1\" class=\"dataframe\">\n",
       "  <thead>\n",
       "    <tr style=\"text-align: right;\">\n",
       "      <th></th>\n",
       "      <th>Unnamed: 0</th>\n",
       "      <th>Unnamed: 0.1</th>\n",
       "      <th>SMILES</th>\n",
       "      <th>PUBCHEM_ACTIVITY_OUTCOME</th>\n",
       "      <th>FINGERPRINT</th>\n",
       "    </tr>\n",
       "  </thead>\n",
       "  <tbody>\n",
       "    <tr>\n",
       "      <th>0</th>\n",
       "      <td>0</td>\n",
       "      <td>0</td>\n",
       "      <td>CC1=C(SC=C1)C(=O)NNC(=O)[C@@H]2[C@@H]3C[C@H]([...</td>\n",
       "      <td>0</td>\n",
       "      <td>&lt;rdkit.DataStructs.cDataStructs.UIntSparseIntV...</td>\n",
       "    </tr>\n",
       "    <tr>\n",
       "      <th>1</th>\n",
       "      <td>1</td>\n",
       "      <td>1</td>\n",
       "      <td>CC1=C(SC=C1)C(=O)NNC(=O)[C@@H]2[C@@H]3C[C@H]([...</td>\n",
       "      <td>2</td>\n",
       "      <td>&lt;rdkit.DataStructs.cDataStructs.UIntSparseIntV...</td>\n",
       "    </tr>\n",
       "    <tr>\n",
       "      <th>2</th>\n",
       "      <td>2</td>\n",
       "      <td>2</td>\n",
       "      <td>CC1=C(SC=C1)C(=O)NNC(=O)[C@@H]2[C@@H]3C[C@H]([...</td>\n",
       "      <td>0</td>\n",
       "      <td>&lt;rdkit.DataStructs.cDataStructs.UIntSparseIntV...</td>\n",
       "    </tr>\n",
       "    <tr>\n",
       "      <th>3</th>\n",
       "      <td>3</td>\n",
       "      <td>3</td>\n",
       "      <td>CC1=C(SC=C1)C(=O)NNC(=O)[C@@H]2[C@@H]3C[C@H]([...</td>\n",
       "      <td>0</td>\n",
       "      <td>&lt;rdkit.DataStructs.cDataStructs.UIntSparseIntV...</td>\n",
       "    </tr>\n",
       "    <tr>\n",
       "      <th>4</th>\n",
       "      <td>4</td>\n",
       "      <td>4</td>\n",
       "      <td>CC1=C(SC=C1)C(=O)NNC(=O)[C@@H]2[C@@H]3C[C@H]([...</td>\n",
       "      <td>2</td>\n",
       "      <td>&lt;rdkit.DataStructs.cDataStructs.UIntSparseIntV...</td>\n",
       "    </tr>\n",
       "  </tbody>\n",
       "</table>\n",
       "</div>"
      ],
      "text/plain": [
       "   Unnamed: 0  Unnamed: 0.1  \\\n",
       "0           0             0   \n",
       "1           1             1   \n",
       "2           2             2   \n",
       "3           3             3   \n",
       "4           4             4   \n",
       "\n",
       "                                              SMILES  \\\n",
       "0  CC1=C(SC=C1)C(=O)NNC(=O)[C@@H]2[C@@H]3C[C@H]([...   \n",
       "1  CC1=C(SC=C1)C(=O)NNC(=O)[C@@H]2[C@@H]3C[C@H]([...   \n",
       "2  CC1=C(SC=C1)C(=O)NNC(=O)[C@@H]2[C@@H]3C[C@H]([...   \n",
       "3  CC1=C(SC=C1)C(=O)NNC(=O)[C@@H]2[C@@H]3C[C@H]([...   \n",
       "4  CC1=C(SC=C1)C(=O)NNC(=O)[C@@H]2[C@@H]3C[C@H]([...   \n",
       "\n",
       "   PUBCHEM_ACTIVITY_OUTCOME                                        FINGERPRINT  \n",
       "0                         0  <rdkit.DataStructs.cDataStructs.UIntSparseIntV...  \n",
       "1                         2  <rdkit.DataStructs.cDataStructs.UIntSparseIntV...  \n",
       "2                         0  <rdkit.DataStructs.cDataStructs.UIntSparseIntV...  \n",
       "3                         0  <rdkit.DataStructs.cDataStructs.UIntSparseIntV...  \n",
       "4                         2  <rdkit.DataStructs.cDataStructs.UIntSparseIntV...  "
      ]
     },
     "execution_count": 33,
     "metadata": {},
     "output_type": "execute_result"
    }
   ],
   "source": [
    "data.head()"
   ]
  },
  {
   "cell_type": "code",
   "execution_count": 34,
   "id": "integral-citizenship",
   "metadata": {},
   "outputs": [
    {
     "data": {
      "text/plain": [
       "(85715, 5)"
      ]
     },
     "execution_count": 34,
     "metadata": {},
     "output_type": "execute_result"
    }
   ],
   "source": [
    "data.shape"
   ]
  },
  {
   "cell_type": "code",
   "execution_count": 35,
   "id": "communist-paint",
   "metadata": {},
   "outputs": [],
   "source": [
    "# Setup train/test/val datasets, train_test_split and save to csv\n",
    "\n",
    "def split_data():\n",
    "    # Load the prepared data\n",
    "    data = pd.read_csv(\"data/fingerprint_merged\")\n",
    "    X_train, X_testval, y_train, y_testval = train_test_split(data[\"SMILES\"], data[\"PUBCHEM_ACTIVITY_OUTCOME\"],\n",
    "                                                              stratify=data[\"PUBCHEM_ACTIVITY_OUTCOME\"], test_size=0.2)\n",
    "    X_val, X_test, y_val, y_test = train_test_split(X_testval, y_testval,\n",
    "                                                    stratify=y_testval, test_size=0.5)\n",
    "\n",
    "    train_data = pd.DataFrame({\"SMILES\": X_train, \"PUBCHEM_ACTIVITY_OUTCOME\": y_train})\n",
    "    val_data = pd.DataFrame({\"SMILES\": X_val, \"PUBCHEM_ACTIVITY_OUTCOME\": y_val})\n",
    "    test_data = pd.DataFrame({\"SMILES\": X_test, \"PUBCHEM_ACTIVITY_OUTCOME\": y_test})\n",
    "\n",
    "    train_data.to_csv(\"data/train_SMILES_to_Activity.csv\", index=False)\n",
    "    val_data.to_csv(\"data/val_SMILES_to_Activity.csv\", index=False)\n",
    "    test_data.to_csv(\"data/test_SMILES_to_Activity.csv\", index=False)\n",
    "\n",
    "\n",
    "if __name__ == \"__main__\":\n",
    "    make_data()\n",
    "    split_data()"
   ]
  },
  {
   "cell_type": "code",
   "execution_count": 36,
   "id": "constitutional-yukon",
   "metadata": {},
   "outputs": [],
   "source": [
    "#Instantiate split_data\n",
    "split_data()"
   ]
  },
  {
   "cell_type": "markdown",
   "id": "identified-grass",
   "metadata": {},
   "source": [
    "## Split into individual CYP450 enzymes"
   ]
  },
  {
   "cell_type": "markdown",
   "id": "comparable-dimension",
   "metadata": {},
   "source": [
    "#### To be implemented after testing modeling for MVP"
   ]
  },
  {
   "cell_type": "code",
   "execution_count": 37,
   "id": "focal-calculator",
   "metadata": {},
   "outputs": [],
   "source": [
    "# cyp2c19 =  cyto_assay[cyto_assay['Panel Name'] == 'p450-cyp2c19']\n",
    "# print(cyp2c19.shape)\n",
    "# # cyp2c19.to_csv()"
   ]
  },
  {
   "cell_type": "code",
   "execution_count": 38,
   "id": "appropriate-incident",
   "metadata": {},
   "outputs": [],
   "source": [
    "# cyp2c9 =  cyto_assay[cyto_assay['Panel Name'] == 'p450-cyp2c9']\n",
    "# print(cyp2c9.shape)"
   ]
  },
  {
   "cell_type": "code",
   "execution_count": 39,
   "id": "cardiac-legislation",
   "metadata": {},
   "outputs": [],
   "source": [
    "# cyp1a2 =  cyto_assay[cyto_assay['Panel Name'] == 'p450-cyp1a2']\n",
    "# print(cyp1a2.shape)"
   ]
  },
  {
   "cell_type": "code",
   "execution_count": 40,
   "id": "interior-finding",
   "metadata": {},
   "outputs": [],
   "source": [
    "# cyp2d6 =  cyto_assay[cyto_assay['Panel Name'] == 'p450-cyp2d6']\n",
    "# print(cyp2d6.shape)"
   ]
  },
  {
   "cell_type": "code",
   "execution_count": 41,
   "id": "junior-mapping",
   "metadata": {},
   "outputs": [],
   "source": [
    "# cyp3a4 =  cyto_assay[cyto_assay['Panel Name'] == 'p450-cyp3a4']\n",
    "# print(cyp3a4.shape)"
   ]
  }
 ],
 "metadata": {
  "kernelspec": {
   "display_name": "Python 3",
   "language": "python",
   "name": "python3"
  },
  "language_info": {
   "codemirror_mode": {
    "name": "ipython",
    "version": 3
   },
   "file_extension": ".py",
   "mimetype": "text/x-python",
   "name": "python",
   "nbconvert_exporter": "python",
   "pygments_lexer": "ipython3",
   "version": "3.8.5"
  }
 },
 "nbformat": 4,
 "nbformat_minor": 5
}
