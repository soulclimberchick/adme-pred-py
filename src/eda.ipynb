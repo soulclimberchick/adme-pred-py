{
 "cells": [
  {
   "cell_type": "code",
   "execution_count": 1,
   "id": "living-configuration",
   "metadata": {},
   "outputs": [],
   "source": [
    "import pandas as pd\n",
    "import matplotlib.pyplot as plt\n",
    "import seaborn as sns\n",
    "\n",
    "import warnings\n",
    "warnings.filterwarnings('ignore')"
   ]
  },
  {
   "cell_type": "code",
   "execution_count": 2,
   "id": "based-techno",
   "metadata": {},
   "outputs": [],
   "source": [
    "# Import data and remove unnecessary header rows\n",
    "cyto_assay = pd.read_csv('AID_1851_datatable_all.csv', header=[0,4])"
   ]
  },
  {
   "cell_type": "code",
   "execution_count": 3,
   "id": "united-title",
   "metadata": {},
   "outputs": [],
   "source": [
    "# Drop the bottom level of the multi-index\n",
    "cyto_assay.columns = cyto_assay.columns.droplevel(1)"
   ]
  },
  {
   "cell_type": "code",
   "execution_count": 4,
   "id": "announced-opposition",
   "metadata": {},
   "outputs": [
    {
     "data": {
      "text/html": [
       "<div>\n",
       "<style scoped>\n",
       "    .dataframe tbody tr th:only-of-type {\n",
       "        vertical-align: middle;\n",
       "    }\n",
       "\n",
       "    .dataframe tbody tr th {\n",
       "        vertical-align: top;\n",
       "    }\n",
       "\n",
       "    .dataframe thead th {\n",
       "        text-align: right;\n",
       "    }\n",
       "</style>\n",
       "<table border=\"1\" class=\"dataframe\">\n",
       "  <thead>\n",
       "    <tr style=\"text-align: right;\">\n",
       "      <th></th>\n",
       "      <th>PUBCHEM_RESULT_TAG</th>\n",
       "      <th>PUBCHEM_SID</th>\n",
       "      <th>PUBCHEM_CID</th>\n",
       "      <th>PUBCHEM_ACTIVITY_OUTCOME</th>\n",
       "      <th>PUBCHEM_ACTIVITY_SCORE</th>\n",
       "      <th>PUBCHEM_ACTIVITY_URL</th>\n",
       "      <th>PUBCHEM_ASSAYDATA_COMMENT</th>\n",
       "      <th>Inhibition Observed</th>\n",
       "      <th>Approved Drug</th>\n",
       "      <th>Collection</th>\n",
       "      <th>...</th>\n",
       "      <th>Activity at 11.43 uM</th>\n",
       "      <th>Activity at 25.56 uM</th>\n",
       "      <th>Activity at 57.14 uM</th>\n",
       "      <th>Activity at 0.00164 uM</th>\n",
       "      <th>Activity at 0.00366 uM</th>\n",
       "      <th>Activity at 0.00818 uM</th>\n",
       "      <th>Compound QC</th>\n",
       "      <th>Panel ID</th>\n",
       "      <th>Panel Name</th>\n",
       "      <th>Panel Target</th>\n",
       "    </tr>\n",
       "  </thead>\n",
       "  <tbody>\n",
       "    <tr>\n",
       "      <th>0</th>\n",
       "      <td>1</td>\n",
       "      <td>842238</td>\n",
       "      <td>6602638.0</td>\n",
       "      <td>Inactive</td>\n",
       "      <td>NaN</td>\n",
       "      <td>NaN</td>\n",
       "      <td>NaN</td>\n",
       "      <td>True</td>\n",
       "      <td>Biodiverse</td>\n",
       "      <td>NaN</td>\n",
       "      <td>...</td>\n",
       "      <td>8.1486</td>\n",
       "      <td>NaN</td>\n",
       "      <td>-15.6281</td>\n",
       "      <td>NaN</td>\n",
       "      <td>NaN</td>\n",
       "      <td>NaN</td>\n",
       "      <td>QC'd by DPISMR</td>\n",
       "      <td>1</td>\n",
       "      <td>p450-cyp2c19</td>\n",
       "      <td>NP_000760.1</td>\n",
       "    </tr>\n",
       "    <tr>\n",
       "      <th>1</th>\n",
       "      <td>2</td>\n",
       "      <td>842238</td>\n",
       "      <td>6602638.0</td>\n",
       "      <td>Inconclusive</td>\n",
       "      <td>NaN</td>\n",
       "      <td>NaN</td>\n",
       "      <td>NaN</td>\n",
       "      <td>True</td>\n",
       "      <td>Biodiverse</td>\n",
       "      <td>NaN</td>\n",
       "      <td>...</td>\n",
       "      <td>-8.5062</td>\n",
       "      <td>NaN</td>\n",
       "      <td>-37.6308</td>\n",
       "      <td>NaN</td>\n",
       "      <td>NaN</td>\n",
       "      <td>NaN</td>\n",
       "      <td>QC'd by DPISMR</td>\n",
       "      <td>2</td>\n",
       "      <td>p450-cyp2d6</td>\n",
       "      <td>NP_001020332.1</td>\n",
       "    </tr>\n",
       "    <tr>\n",
       "      <th>2</th>\n",
       "      <td>3</td>\n",
       "      <td>842238</td>\n",
       "      <td>6602638.0</td>\n",
       "      <td>Inactive</td>\n",
       "      <td>NaN</td>\n",
       "      <td>NaN</td>\n",
       "      <td>NaN</td>\n",
       "      <td>True</td>\n",
       "      <td>Biodiverse</td>\n",
       "      <td>NaN</td>\n",
       "      <td>...</td>\n",
       "      <td>0.4027</td>\n",
       "      <td>NaN</td>\n",
       "      <td>-2.2935</td>\n",
       "      <td>NaN</td>\n",
       "      <td>-1.3363</td>\n",
       "      <td>NaN</td>\n",
       "      <td>QC'd by DPISMR</td>\n",
       "      <td>3</td>\n",
       "      <td>p450-cyp3a4</td>\n",
       "      <td>NP_059488.2</td>\n",
       "    </tr>\n",
       "    <tr>\n",
       "      <th>3</th>\n",
       "      <td>4</td>\n",
       "      <td>842238</td>\n",
       "      <td>6602638.0</td>\n",
       "      <td>Inactive</td>\n",
       "      <td>NaN</td>\n",
       "      <td>NaN</td>\n",
       "      <td>NaN</td>\n",
       "      <td>True</td>\n",
       "      <td>Biodiverse</td>\n",
       "      <td>NaN</td>\n",
       "      <td>...</td>\n",
       "      <td>-7.3920</td>\n",
       "      <td>NaN</td>\n",
       "      <td>-11.9048</td>\n",
       "      <td>NaN</td>\n",
       "      <td>NaN</td>\n",
       "      <td>NaN</td>\n",
       "      <td>QC'd by DPISMR</td>\n",
       "      <td>4</td>\n",
       "      <td>p450-cyp1a2</td>\n",
       "      <td>NP_000752.2</td>\n",
       "    </tr>\n",
       "    <tr>\n",
       "      <th>4</th>\n",
       "      <td>5</td>\n",
       "      <td>842238</td>\n",
       "      <td>6602638.0</td>\n",
       "      <td>Inconclusive</td>\n",
       "      <td>NaN</td>\n",
       "      <td>NaN</td>\n",
       "      <td>NaN</td>\n",
       "      <td>True</td>\n",
       "      <td>Biodiverse</td>\n",
       "      <td>NaN</td>\n",
       "      <td>...</td>\n",
       "      <td>-41.7035</td>\n",
       "      <td>NaN</td>\n",
       "      <td>-10.7694</td>\n",
       "      <td>NaN</td>\n",
       "      <td>NaN</td>\n",
       "      <td>NaN</td>\n",
       "      <td>QC'd by DPISMR</td>\n",
       "      <td>5</td>\n",
       "      <td>p450-cyp2c9</td>\n",
       "      <td>NP_000762.2</td>\n",
       "    </tr>\n",
       "  </tbody>\n",
       "</table>\n",
       "<p>5 rows × 44 columns</p>\n",
       "</div>"
      ],
      "text/plain": [
       "   PUBCHEM_RESULT_TAG  PUBCHEM_SID  PUBCHEM_CID PUBCHEM_ACTIVITY_OUTCOME  \\\n",
       "0                   1       842238    6602638.0                 Inactive   \n",
       "1                   2       842238    6602638.0             Inconclusive   \n",
       "2                   3       842238    6602638.0                 Inactive   \n",
       "3                   4       842238    6602638.0                 Inactive   \n",
       "4                   5       842238    6602638.0             Inconclusive   \n",
       "\n",
       "   PUBCHEM_ACTIVITY_SCORE  PUBCHEM_ACTIVITY_URL  PUBCHEM_ASSAYDATA_COMMENT  \\\n",
       "0                     NaN                   NaN                        NaN   \n",
       "1                     NaN                   NaN                        NaN   \n",
       "2                     NaN                   NaN                        NaN   \n",
       "3                     NaN                   NaN                        NaN   \n",
       "4                     NaN                   NaN                        NaN   \n",
       "\n",
       "   Inhibition Observed Approved Drug Collection  ...  Activity at 11.43 uM  \\\n",
       "0                 True    Biodiverse        NaN  ...                8.1486   \n",
       "1                 True    Biodiverse        NaN  ...               -8.5062   \n",
       "2                 True    Biodiverse        NaN  ...                0.4027   \n",
       "3                 True    Biodiverse        NaN  ...               -7.3920   \n",
       "4                 True    Biodiverse        NaN  ...              -41.7035   \n",
       "\n",
       "   Activity at 25.56 uM  Activity at 57.14 uM Activity at 0.00164 uM  \\\n",
       "0                   NaN              -15.6281                    NaN   \n",
       "1                   NaN              -37.6308                    NaN   \n",
       "2                   NaN               -2.2935                    NaN   \n",
       "3                   NaN              -11.9048                    NaN   \n",
       "4                   NaN              -10.7694                    NaN   \n",
       "\n",
       "   Activity at 0.00366 uM  Activity at 0.00818 uM     Compound QC  Panel ID  \\\n",
       "0                     NaN                     NaN  QC'd by DPISMR         1   \n",
       "1                     NaN                     NaN  QC'd by DPISMR         2   \n",
       "2                 -1.3363                     NaN  QC'd by DPISMR         3   \n",
       "3                     NaN                     NaN  QC'd by DPISMR         4   \n",
       "4                     NaN                     NaN  QC'd by DPISMR         5   \n",
       "\n",
       "     Panel Name    Panel Target  \n",
       "0  p450-cyp2c19     NP_000760.1  \n",
       "1   p450-cyp2d6  NP_001020332.1  \n",
       "2   p450-cyp3a4     NP_059488.2  \n",
       "3   p450-cyp1a2     NP_000752.2  \n",
       "4   p450-cyp2c9     NP_000762.2  \n",
       "\n",
       "[5 rows x 44 columns]"
      ]
     },
     "execution_count": 4,
     "metadata": {},
     "output_type": "execute_result"
    }
   ],
   "source": [
    "cyto_assay.head()"
   ]
  },
  {
   "cell_type": "code",
   "execution_count": 5,
   "id": "loose-innocent",
   "metadata": {},
   "outputs": [
    {
     "data": {
      "text/plain": [
       "PUBCHEM_RESULT_TAG               0\n",
       "PUBCHEM_SID                      0\n",
       "PUBCHEM_CID                    110\n",
       "PUBCHEM_ACTIVITY_OUTCOME         0\n",
       "PUBCHEM_ACTIVITY_SCORE       85715\n",
       "PUBCHEM_ACTIVITY_URL         85715\n",
       "PUBCHEM_ASSAYDATA_COMMENT    85715\n",
       "Inhibition Observed              0\n",
       "Approved Drug                    0\n",
       "Collection                   80145\n",
       "Analysis Comment             85715\n",
       "Activity Score                   0\n",
       "Potency                      45031\n",
       "Curve_Description            42460\n",
       "Fit_LogAC50                  42606\n",
       "Fit_HillSlope                42606\n",
       "Fit_R2                       42606\n",
       "Fit_InfiniteActivity         42606\n",
       "Fit_ZeroActivity             42606\n",
       "Fit_CurveClass                   0\n",
       "Excluded_Points              42606\n",
       "Max_Response                     0\n",
       "Activity at 0.0007 uM        58389\n",
       "Activity at 0.00160 uM       73752\n",
       "Activity at 0.00368 uM       20779\n",
       "Activity at 0.00820 uM       73638\n",
       "Activity at 0.018 uM          1556\n",
       "Activity at 0.041 uM         71654\n",
       "Activity at 0.091 uM          3344\n",
       "Activity at 0.204 uM         72410\n",
       "Activity at 0.457 uM           875\n",
       "Activity at 1.022 uM         71564\n",
       "Activity at 2.286 uM            82\n",
       "Activity at 5.111 uM         71564\n",
       "Activity at 11.43 uM          4750\n",
       "Activity at 25.56 uM         71564\n",
       "Activity at 57.14 uM         21031\n",
       "Activity at 0.00164 uM       83680\n",
       "Activity at 0.00366 uM       68917\n",
       "Activity at 0.00818 uM       83720\n",
       "Compound QC                      0\n",
       "Panel ID                         0\n",
       "Panel Name                       0\n",
       "Panel Target                     0\n",
       "dtype: int64"
      ]
     },
     "execution_count": 5,
     "metadata": {},
     "output_type": "execute_result"
    }
   ],
   "source": [
    "cyto_assay.isnull().sum()"
   ]
  },
  {
   "cell_type": "code",
   "execution_count": 6,
   "id": "indie-conservation",
   "metadata": {},
   "outputs": [
    {
     "name": "stdout",
     "output_type": "stream",
     "text": [
      "<class 'pandas.core.frame.DataFrame'>\n",
      "RangeIndex: 85715 entries, 0 to 85714\n",
      "Data columns (total 44 columns):\n",
      " #   Column                     Non-Null Count  Dtype  \n",
      "---  ------                     --------------  -----  \n",
      " 0   PUBCHEM_RESULT_TAG         85715 non-null  int64  \n",
      " 1   PUBCHEM_SID                85715 non-null  int64  \n",
      " 2   PUBCHEM_CID                85605 non-null  float64\n",
      " 3   PUBCHEM_ACTIVITY_OUTCOME   85715 non-null  object \n",
      " 4   PUBCHEM_ACTIVITY_SCORE     0 non-null      float64\n",
      " 5   PUBCHEM_ACTIVITY_URL       0 non-null      float64\n",
      " 6   PUBCHEM_ASSAYDATA_COMMENT  0 non-null      float64\n",
      " 7   Inhibition Observed        85715 non-null  bool   \n",
      " 8   Approved Drug              85715 non-null  object \n",
      " 9   Collection                 5570 non-null   object \n",
      " 10  Analysis Comment           0 non-null      float64\n",
      " 11  Activity Score             85715 non-null  int64  \n",
      " 12  Potency                    40684 non-null  float64\n",
      " 13  Curve_Description          43255 non-null  object \n",
      " 14  Fit_LogAC50                43109 non-null  float64\n",
      " 15  Fit_HillSlope              43109 non-null  float64\n",
      " 16  Fit_R2                     43109 non-null  float64\n",
      " 17  Fit_InfiniteActivity       43109 non-null  float64\n",
      " 18  Fit_ZeroActivity           43109 non-null  float64\n",
      " 19  Fit_CurveClass             85715 non-null  float64\n",
      " 20  Excluded_Points            43109 non-null  object \n",
      " 21  Max_Response               85715 non-null  float64\n",
      " 22  Activity at 0.0007 uM      27326 non-null  float64\n",
      " 23  Activity at 0.00160 uM     11963 non-null  float64\n",
      " 24  Activity at 0.00368 uM     64936 non-null  float64\n",
      " 25  Activity at 0.00820 uM     12077 non-null  float64\n",
      " 26  Activity at 0.018 uM       84159 non-null  float64\n",
      " 27  Activity at 0.041 uM       14061 non-null  float64\n",
      " 28  Activity at 0.091 uM       82371 non-null  float64\n",
      " 29  Activity at 0.204 uM       13305 non-null  float64\n",
      " 30  Activity at 0.457 uM       84840 non-null  float64\n",
      " 31  Activity at 1.022 uM       14151 non-null  float64\n",
      " 32  Activity at 2.286 uM       85633 non-null  float64\n",
      " 33  Activity at 5.111 uM       14151 non-null  float64\n",
      " 34  Activity at 11.43 uM       80965 non-null  float64\n",
      " 35  Activity at 25.56 uM       14151 non-null  float64\n",
      " 36  Activity at 57.14 uM       64684 non-null  float64\n",
      " 37  Activity at 0.00164 uM     2035 non-null   float64\n",
      " 38  Activity at 0.00366 uM     16798 non-null  float64\n",
      " 39  Activity at 0.00818 uM     1995 non-null   float64\n",
      " 40  Compound QC                85715 non-null  object \n",
      " 41  Panel ID                   85715 non-null  int64  \n",
      " 42  Panel Name                 85715 non-null  object \n",
      " 43  Panel Target               85715 non-null  object \n",
      "dtypes: bool(1), float64(31), int64(4), object(8)\n",
      "memory usage: 28.2+ MB\n"
     ]
    }
   ],
   "source": [
    "cyto_assay.info()"
   ]
  },
  {
   "cell_type": "code",
   "execution_count": 7,
   "id": "committed-alpha",
   "metadata": {},
   "outputs": [],
   "source": [
    "cyto_assay[('Inhibition Observed')] = cyto_assay[('Inhibition Observed')].replace({'TRUE':'1', 'True':'1', 'FALSE':'0', 'False':'0', 'nan':'0', 'NaN':'0', 'NAN':'0'}).astype(float)\n",
    "# pd.to_numeric(cyto_assay['Inhibition Observed'], errors='coerce')"
   ]
  },
  {
   "cell_type": "code",
   "execution_count": 8,
   "id": "constant-softball",
   "metadata": {},
   "outputs": [
    {
     "data": {
      "text/plain": [
       "array([1., 0.])"
      ]
     },
     "execution_count": 8,
     "metadata": {},
     "output_type": "execute_result"
    }
   ],
   "source": [
    "cyto_assay[('Inhibition Observed')].unique()"
   ]
  },
  {
   "cell_type": "code",
   "execution_count": 11,
   "id": "accomplished-prophet",
   "metadata": {},
   "outputs": [
    {
     "data": {
      "text/html": [
       "<div>\n",
       "<style scoped>\n",
       "    .dataframe tbody tr th:only-of-type {\n",
       "        vertical-align: middle;\n",
       "    }\n",
       "\n",
       "    .dataframe tbody tr th {\n",
       "        vertical-align: top;\n",
       "    }\n",
       "\n",
       "    .dataframe thead th {\n",
       "        text-align: right;\n",
       "    }\n",
       "</style>\n",
       "<table border=\"1\" class=\"dataframe\">\n",
       "  <thead>\n",
       "    <tr style=\"text-align: right;\">\n",
       "      <th></th>\n",
       "      <th>Inhibition Observed</th>\n",
       "    </tr>\n",
       "  </thead>\n",
       "  <tbody>\n",
       "    <tr>\n",
       "      <th>Inhibition Observed</th>\n",
       "      <td>1.000000e+00</td>\n",
       "    </tr>\n",
       "    <tr>\n",
       "      <th>Activity Score</th>\n",
       "      <td>2.915571e-01</td>\n",
       "    </tr>\n",
       "    <tr>\n",
       "      <th>Activity at 0.00366 uM</th>\n",
       "      <td>7.033316e-02</td>\n",
       "    </tr>\n",
       "    <tr>\n",
       "      <th>Activity at 0.00164 uM</th>\n",
       "      <td>6.621039e-02</td>\n",
       "    </tr>\n",
       "    <tr>\n",
       "      <th>PUBCHEM_SID</th>\n",
       "      <td>5.134221e-02</td>\n",
       "    </tr>\n",
       "    <tr>\n",
       "      <th>PUBCHEM_RESULT_TAG</th>\n",
       "      <td>3.583945e-02</td>\n",
       "    </tr>\n",
       "    <tr>\n",
       "      <th>Activity at 0.00368 uM</th>\n",
       "      <td>3.316173e-02</td>\n",
       "    </tr>\n",
       "    <tr>\n",
       "      <th>Activity at 0.0007 uM</th>\n",
       "      <td>2.891249e-02</td>\n",
       "    </tr>\n",
       "    <tr>\n",
       "      <th>Activity at 0.018 uM</th>\n",
       "      <td>2.753763e-02</td>\n",
       "    </tr>\n",
       "    <tr>\n",
       "      <th>Activity at 0.00820 uM</th>\n",
       "      <td>1.995518e-02</td>\n",
       "    </tr>\n",
       "    <tr>\n",
       "      <th>Activity at 0.041 uM</th>\n",
       "      <td>1.794951e-02</td>\n",
       "    </tr>\n",
       "    <tr>\n",
       "      <th>Activity at 0.00818 uM</th>\n",
       "      <td>1.565848e-02</td>\n",
       "    </tr>\n",
       "    <tr>\n",
       "      <th>Activity at 0.091 uM</th>\n",
       "      <td>3.563709e-03</td>\n",
       "    </tr>\n",
       "    <tr>\n",
       "      <th>Panel ID</th>\n",
       "      <td>-6.364272e-16</td>\n",
       "    </tr>\n",
       "    <tr>\n",
       "      <th>Activity at 0.00160 uM</th>\n",
       "      <td>-3.058101e-02</td>\n",
       "    </tr>\n",
       "    <tr>\n",
       "      <th>Activity at 0.457 uM</th>\n",
       "      <td>-3.182339e-02</td>\n",
       "    </tr>\n",
       "    <tr>\n",
       "      <th>PUBCHEM_CID</th>\n",
       "      <td>-4.061329e-02</td>\n",
       "    </tr>\n",
       "    <tr>\n",
       "      <th>Activity at 0.204 uM</th>\n",
       "      <td>-6.038734e-02</td>\n",
       "    </tr>\n",
       "    <tr>\n",
       "      <th>Activity at 1.022 uM</th>\n",
       "      <td>-1.029053e-01</td>\n",
       "    </tr>\n",
       "    <tr>\n",
       "      <th>Activity at 2.286 uM</th>\n",
       "      <td>-1.150876e-01</td>\n",
       "    </tr>\n",
       "    <tr>\n",
       "      <th>Activity at 5.111 uM</th>\n",
       "      <td>-1.830307e-01</td>\n",
       "    </tr>\n",
       "    <tr>\n",
       "      <th>Activity at 11.43 uM</th>\n",
       "      <td>-1.914658e-01</td>\n",
       "    </tr>\n",
       "    <tr>\n",
       "      <th>Activity at 57.14 uM</th>\n",
       "      <td>-2.074953e-01</td>\n",
       "    </tr>\n",
       "    <tr>\n",
       "      <th>Max_Response</th>\n",
       "      <td>-2.657326e-01</td>\n",
       "    </tr>\n",
       "    <tr>\n",
       "      <th>Activity at 25.56 uM</th>\n",
       "      <td>-2.854363e-01</td>\n",
       "    </tr>\n",
       "    <tr>\n",
       "      <th>Fit_CurveClass</th>\n",
       "      <td>-3.724744e-01</td>\n",
       "    </tr>\n",
       "    <tr>\n",
       "      <th>PUBCHEM_ACTIVITY_SCORE</th>\n",
       "      <td>NaN</td>\n",
       "    </tr>\n",
       "    <tr>\n",
       "      <th>PUBCHEM_ACTIVITY_URL</th>\n",
       "      <td>NaN</td>\n",
       "    </tr>\n",
       "    <tr>\n",
       "      <th>PUBCHEM_ASSAYDATA_COMMENT</th>\n",
       "      <td>NaN</td>\n",
       "    </tr>\n",
       "    <tr>\n",
       "      <th>Analysis Comment</th>\n",
       "      <td>NaN</td>\n",
       "    </tr>\n",
       "    <tr>\n",
       "      <th>Potency</th>\n",
       "      <td>NaN</td>\n",
       "    </tr>\n",
       "    <tr>\n",
       "      <th>Fit_LogAC50</th>\n",
       "      <td>NaN</td>\n",
       "    </tr>\n",
       "    <tr>\n",
       "      <th>Fit_HillSlope</th>\n",
       "      <td>NaN</td>\n",
       "    </tr>\n",
       "    <tr>\n",
       "      <th>Fit_R2</th>\n",
       "      <td>NaN</td>\n",
       "    </tr>\n",
       "    <tr>\n",
       "      <th>Fit_InfiniteActivity</th>\n",
       "      <td>NaN</td>\n",
       "    </tr>\n",
       "    <tr>\n",
       "      <th>Fit_ZeroActivity</th>\n",
       "      <td>NaN</td>\n",
       "    </tr>\n",
       "  </tbody>\n",
       "</table>\n",
       "</div>"
      ],
      "text/plain": [
       "                           Inhibition Observed\n",
       "Inhibition Observed               1.000000e+00\n",
       "Activity Score                    2.915571e-01\n",
       "Activity at 0.00366 uM            7.033316e-02\n",
       "Activity at 0.00164 uM            6.621039e-02\n",
       "PUBCHEM_SID                       5.134221e-02\n",
       "PUBCHEM_RESULT_TAG                3.583945e-02\n",
       "Activity at 0.00368 uM            3.316173e-02\n",
       "Activity at 0.0007 uM             2.891249e-02\n",
       "Activity at 0.018 uM              2.753763e-02\n",
       "Activity at 0.00820 uM            1.995518e-02\n",
       "Activity at 0.041 uM              1.794951e-02\n",
       "Activity at 0.00818 uM            1.565848e-02\n",
       "Activity at 0.091 uM              3.563709e-03\n",
       "Panel ID                         -6.364272e-16\n",
       "Activity at 0.00160 uM           -3.058101e-02\n",
       "Activity at 0.457 uM             -3.182339e-02\n",
       "PUBCHEM_CID                      -4.061329e-02\n",
       "Activity at 0.204 uM             -6.038734e-02\n",
       "Activity at 1.022 uM             -1.029053e-01\n",
       "Activity at 2.286 uM             -1.150876e-01\n",
       "Activity at 5.111 uM             -1.830307e-01\n",
       "Activity at 11.43 uM             -1.914658e-01\n",
       "Activity at 57.14 uM             -2.074953e-01\n",
       "Max_Response                     -2.657326e-01\n",
       "Activity at 25.56 uM             -2.854363e-01\n",
       "Fit_CurveClass                   -3.724744e-01\n",
       "PUBCHEM_ACTIVITY_SCORE                     NaN\n",
       "PUBCHEM_ACTIVITY_URL                       NaN\n",
       "PUBCHEM_ASSAYDATA_COMMENT                  NaN\n",
       "Analysis Comment                           NaN\n",
       "Potency                                    NaN\n",
       "Fit_LogAC50                                NaN\n",
       "Fit_HillSlope                              NaN\n",
       "Fit_R2                                     NaN\n",
       "Fit_InfiniteActivity                       NaN\n",
       "Fit_ZeroActivity                           NaN"
      ]
     },
     "execution_count": 11,
     "metadata": {},
     "output_type": "execute_result"
    }
   ],
   "source": [
    "cyto_assay_corr = (cyto_assay.corr()[[('Inhibition Observed')]].sort_values(by=('Inhibition Observed'), ascending=False))\n",
    "cyto_assay_corr"
   ]
  },
  {
   "cell_type": "code",
   "execution_count": 12,
   "id": "loose-watershed",
   "metadata": {},
   "outputs": [
    {
     "ename": "SyntaxError",
     "evalue": "cannot assign to function call (<ipython-input-12-a97327f775a8>, line 3)",
     "output_type": "error",
     "traceback": [
      "\u001b[0;36m  File \u001b[0;32m\"<ipython-input-12-a97327f775a8>\"\u001b[0;36m, line \u001b[0;32m3\u001b[0m\n\u001b[0;31m    sns.heatmap(cyto_assay_corr, ascending=False), vmin=0, vmax=1, annot=True,cmap = cmap)\u001b[0m\n\u001b[0m    ^\u001b[0m\n\u001b[0;31mSyntaxError\u001b[0m\u001b[0;31m:\u001b[0m cannot assign to function call\n"
     ]
    }
   ],
   "source": [
    "cmap = sns.cubehelix_palette(start=.5, rot=-.5, as_cmap=True)\n",
    "plt.figure(figsize = (12,12))\n",
    "sns.heatmap(cyto_assay_corr, ascending=False), vmin=0, vmax=1, annot=True,cmap = cmap)\n",
    "# plt.title('Correlation Heatmap', color='white')\n",
    "# plt.xlabel('Inhibition Observed', color='white')\n",
    "# plt.ylabel('Features', color='white')\n",
    "# plt.xticks(color='white')\n",
    "# plt.yticks(color='white')\n",
    "# plt.savefig('datasets/correlation_heatmap_graph', transparent=True);"
   ]
  },
  {
   "cell_type": "code",
   "execution_count": 13,
   "id": "comic-evans",
   "metadata": {},
   "outputs": [
    {
     "data": {
      "text/plain": [
       "PUBCHEM_RESULT_TAG               0\n",
       "PUBCHEM_SID                      0\n",
       "PUBCHEM_CID                    110\n",
       "PUBCHEM_ACTIVITY_OUTCOME         0\n",
       "PUBCHEM_ACTIVITY_SCORE       85715\n",
       "PUBCHEM_ACTIVITY_URL         85715\n",
       "PUBCHEM_ASSAYDATA_COMMENT    85715\n",
       "Inhibition Observed              0\n",
       "Approved Drug                    0\n",
       "Collection                   80145\n",
       "Analysis Comment             85715\n",
       "Activity Score                   0\n",
       "Potency                      45031\n",
       "Curve_Description            42460\n",
       "Fit_LogAC50                  42606\n",
       "Fit_HillSlope                42606\n",
       "Fit_R2                       42606\n",
       "Fit_InfiniteActivity         42606\n",
       "Fit_ZeroActivity             42606\n",
       "Fit_CurveClass                   0\n",
       "Excluded_Points              42606\n",
       "Max_Response                     0\n",
       "Activity at 0.0007 uM        58389\n",
       "Activity at 0.00160 uM       73752\n",
       "Activity at 0.00368 uM       20779\n",
       "Activity at 0.00820 uM       73638\n",
       "Activity at 0.018 uM          1556\n",
       "Activity at 0.041 uM         71654\n",
       "Activity at 0.091 uM          3344\n",
       "Activity at 0.204 uM         72410\n",
       "Activity at 0.457 uM           875\n",
       "Activity at 1.022 uM         71564\n",
       "Activity at 2.286 uM            82\n",
       "Activity at 5.111 uM         71564\n",
       "Activity at 11.43 uM          4750\n",
       "Activity at 25.56 uM         71564\n",
       "Activity at 57.14 uM         21031\n",
       "Activity at 0.00164 uM       83680\n",
       "Activity at 0.00366 uM       68917\n",
       "Activity at 0.00818 uM       83720\n",
       "Compound QC                      0\n",
       "Panel ID                         0\n",
       "Panel Name                       0\n",
       "Panel Target                     0\n",
       "dtype: int64"
      ]
     },
     "execution_count": 13,
     "metadata": {},
     "output_type": "execute_result"
    }
   ],
   "source": [
    "cyto_assay.isnull().sum()"
   ]
  },
  {
   "cell_type": "code",
   "execution_count": 14,
   "id": "violent-seeking",
   "metadata": {},
   "outputs": [],
   "source": [
    "features = cyto_assay.select_dtypes(include=['float64','int64'])\n",
    "\n",
    "X = features\n",
    "y = 'Inhibition Observed'"
   ]
  },
  {
   "cell_type": "code",
   "execution_count": 15,
   "id": "magnetic-prior",
   "metadata": {},
   "outputs": [
    {
     "data": {
      "text/plain": [
       "array(['Biodiverse', 'Exploratory'], dtype=object)"
      ]
     },
     "execution_count": 15,
     "metadata": {},
     "output_type": "execute_result"
    }
   ],
   "source": [
    "cyto_assay['Approved Drug'].unique()"
   ]
  },
  {
   "cell_type": "code",
   "execution_count": 16,
   "id": "embedded-catholic",
   "metadata": {},
   "outputs": [],
   "source": [
    "cyto_assay['Approved Drug'] = cyto_assay['Approved Drug'].replace({'Biodiverse':'1', 'Exploratory':'0'}).astype(float)"
   ]
  },
  {
   "cell_type": "code",
   "execution_count": 17,
   "id": "second-movie",
   "metadata": {},
   "outputs": [
    {
     "data": {
      "image/png": "[encoded data removed]",
      "text/plain": [
       "<Figure size 432x288 with 1 Axes>"
      ]
     },
     "metadata": {
      "needs_background": "light"
     },
     "output_type": "display_data"
    }
   ],
   "source": [
    "plt.hist(X);"
   ]
  },
  {
   "cell_type": "code",
   "execution_count": 18,
   "id": "sufficient-stream",
   "metadata": {},
   "outputs": [
    {
     "data": {
      "image/png": "[encoded data removed]",
      "text/plain": [
       "<Figure size 432x288 with 1 Axes>"
      ]
     },
     "metadata": {
      "needs_background": "light"
     },
     "output_type": "display_data"
    }
   ],
   "source": [
    "plt.hist(y);"
   ]
  },
  {
   "cell_type": "code",
   "execution_count": 19,
   "id": "alleged-instrument",
   "metadata": {},
   "outputs": [
    {
     "data": {
      "text/plain": [
       "array([\"QC'd by DPISMR\", \"QC'd by Pharmacopeia\", \"QC'd by NCI\",\n",
       "       \"QC'd by Prestwick\", \"QC'd by SigmaAldrich\", \"QC'd by Tocris\",\n",
       "       \"QC'd by UPCMLD\", \"QC'd by ChemBridge\", \"QC'd by BUCMLD\"],\n",
       "      dtype=object)"
      ]
     },
     "execution_count": 19,
     "metadata": {},
     "output_type": "execute_result"
    }
   ],
   "source": [
    "cyto_assay['Compound QC'].unique()"
   ]
  },
  {
   "cell_type": "code",
   "execution_count": 27,
   "id": "studied-saint",
   "metadata": {},
   "outputs": [
    {
     "data": {
      "image/png": "[encoded data removed]",
      "text/plain": [
       "<Figure size 432x288 with 1 Axes>"
      ]
     },
     "metadata": {
      "needs_background": "light"
     },
     "output_type": "display_data"
    }
   ],
   "source": [
    "plt.hist(cyto_assay['Activity at 11.43 uM'])\n",
    "plt.tight_layout();"
   ]
  },
  {
   "cell_type": "code",
   "execution_count": 26,
   "id": "experienced-doubt",
   "metadata": {},
   "outputs": [
    {
     "data": {
      "image/png": "[encoded data removed]",
      "text/plain": [
       "<Figure size 432x288 with 1 Axes>"
      ]
     },
     "metadata": {
      "needs_background": "light"
     },
     "output_type": "display_data"
    }
   ],
   "source": [
    "plt.hist(cyto_assay['Activity at 57.14 uM'])\n",
    "plt.tight_layout();"
   ]
  },
  {
   "cell_type": "code",
   "execution_count": 28,
   "id": "chronic-brand",
   "metadata": {},
   "outputs": [
    {
     "data": {
      "image/png": "[encoded data removed]",
      "text/plain": [
       "<Figure size 432x288 with 1 Axes>"
      ]
     },
     "metadata": {
      "needs_background": "light"
     },
     "output_type": "display_data"
    }
   ],
   "source": [
    "plt.hist(cyto_assay['Potency'])\n",
    "plt.tight_layout();"
   ]
  },
  {
   "cell_type": "code",
   "execution_count": null,
   "id": "driving-antique",
   "metadata": {},
   "outputs": [],
   "source": []
  }
 ],
 "metadata": {
  "kernelspec": {
   "display_name": "Python 3",
   "language": "python",
   "name": "python3"
  },
  "language_info": {
   "codemirror_mode": {
    "name": "ipython",
    "version": 3
   },
   "file_extension": ".py",
   "mimetype": "text/x-python",
   "name": "python",
   "nbconvert_exporter": "python",
   "pygments_lexer": "ipython3",
   "version": "3.9.1"
  }
 },
 "nbformat": 4,
 "nbformat_minor": 5
}
