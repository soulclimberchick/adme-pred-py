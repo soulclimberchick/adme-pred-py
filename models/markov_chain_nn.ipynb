{
 "cells": [
  {
   "cell_type": "markdown",
   "id": "south-civilian",
   "metadata": {},
   "source": [
    "# Markov Chain Neural Network \n",
    "#### With Keras"
   ]
  },
  {
   "cell_type": "markdown",
   "id": "described-tours",
   "metadata": {},
   "source": [
    "#### Imports:"
   ]
  },
  {
   "cell_type": "code",
   "execution_count": 1,
   "id": "returning-activity",
   "metadata": {},
   "outputs": [],
   "source": [
    "import numpy as np\n",
    "import pandas as pd\n",
    "import os\n",
    "import shutil\n",
    "\n",
    "from sklearn.model_selection import train_test_split\n",
    "\n",
    "import molvs as mv\n",
    "from rdkit import Chem\n",
    "from rdkit.Chem import DataStructs, AllChem\n",
    "from sklearn import metrics, model_selection\n",
    "from sklearn.metrics import roc_auc_score, accuracy_score\n",
    "import tensorflow.keras as keras\n",
    "import tqdm\n",
    "\n",
    "from keras.regularizers import l2\n",
    "from keras.layers import Input, Dense, Dropout\n",
    "from keras import Model, optimizers\n",
    "from keras.callbacks import EarlyStopping, ModelCheckpoint\n",
    "\n",
    "import warnings\n",
    "warnings.filterwarnings('ignore')"
   ]
  },
  {
   "cell_type": "markdown",
   "id": "applied-billion",
   "metadata": {},
   "source": [
    "## Data Imports"
   ]
  },
  {
   "cell_type": "markdown",
   "id": "continued-mitchell",
   "metadata": {},
   "source": [
    "#### Morgan Fingerprint"
   ]
  },
  {
   "cell_type": "code",
   "execution_count": 2,
   "id": "worst-duplicate",
   "metadata": {},
   "outputs": [],
   "source": [
    "cyp2c19_df = pd.read_pickle(\"../data/cyp_datasets/cyp2c19.pkl\")\n",
    "cyp2c9_df = pd.read_pickle(\"../data/cyp_datasets/cyp2c9.pkl\")\n",
    "cyp1a2_df = pd.read_pickle(\"../data/cyp_datasets/cyp1a2.pkl\")\n",
    "cyp2d6_df = pd.read_pickle(\"../data/cyp_datasets/cyp2d6.pkl\")\n",
    "cyp3a4_df = pd.read_pickle(\"../data/cyp_datasets/cyp3a4.pkl\")"
   ]
  },
  {
   "cell_type": "markdown",
   "id": "stock-fifty",
   "metadata": {},
   "source": [
    "#### SwissADME Feature Set"
   ]
  },
  {
   "cell_type": "code",
   "execution_count": 3,
   "id": "victorian-blocking",
   "metadata": {},
   "outputs": [],
   "source": [
    "cyp2c19_swiss_feat = pd.read_pickle('../data/cyp_datasets/cyp2c19_swiss_feat.pkl')\n",
    "cyp2c9_swiss_feat = pd.read_pickle('../data/cyp_datasets/cyp2c9_swiss_feat.pkl')\n",
    "cyp2d6_swiss_feat = pd.read_pickle('../data/cyp_datasets/cyp2d6_swiss_feat.pkl')\n",
    "cyp1a2_swiss_feat = pd.read_pickle('../data/cyp_datasets/cyp1a2_swiss_feat.pkl')\n",
    "cyp3a4_swiss_feat = pd.read_pickle('../data/cyp_datasets/cyp3a4_swiss_feat.pkl')"
   ]
  },
  {
   "cell_type": "markdown",
   "id": "twelve-edmonton",
   "metadata": {},
   "source": [
    "### Train, Test, Split with validation data"
   ]
  },
  {
   "cell_type": "code",
   "execution_count": 4,
   "id": "upset-bulgaria",
   "metadata": {},
   "outputs": [],
   "source": [
    "# Train, test, valid set split\n",
    "def split_var(data_set):   \n",
    "    X_data = np.array(data_set)\n",
    "    y_data = np.array(data_set['Inhibition Observed'])\n",
    "    X_train, X_test, y_train, y_test = model_selection.train_test_split(X_data, y_data, test_size = 0.1)\n",
    "    X_train, X_valid, y_train, y_valid = model_selection.train_test_split(X_train, y_train, test_size = 0.11)\n",
    "    return X_train, X_test, X_valid, y_train, y_test, y_valid"
   ]
  },
  {
   "cell_type": "markdown",
   "id": "dominican-failure",
   "metadata": {},
   "source": [
    "### Markov Chain Neural Network"
   ]
  },
  {
   "cell_type": "code",
   "execution_count": 5,
   "id": "stuck-trail",
   "metadata": {},
   "outputs": [],
   "source": [
    "def MC_NN(X_train, X_test, X_valid, y_train, y_test, y_valid, activation = None, hidden_nodes = 1024, dr = 0, sample_time = 300):\n",
    "    \n",
    "    X_train = np.array(X_train)\n",
    "    X_valid = np.array(X_valid)\n",
    "    X_test = np.array(X_test)\n",
    "   \n",
    "    inputShape=(X_train.shape[1] , )    \n",
    "    inputs = Input(inputShape, name = 'Input')\n",
    "    x = Dropout(dr)(inputs)\n",
    "    x = Dense(hidden_nodes, activation = activation, kernel_regularizer = l2(1e-4))(x)\n",
    "    x = Dropout(0.5)(x, training = True)\n",
    "    y = Dense(1, activation = 'sigmoid', name = 'Output')(x)\n",
    " \n",
    "    model = Model(inputs=inputs, outputs = y)\n",
    "    model.compile(optimizer=optimizers.Adam(0.0001), loss='binary_crossentropy', metrics=['accuracy']) \n",
    "    early_stopping = EarlyStopping(monitor='val_loss', patience=10, verbose=0)\n",
    "    \n",
    "    improvement_dir = 'Weights_improvement'\n",
    "    if not os.path.exists(improvement_dir):\n",
    "        os.mkdir(improvement_dir)\n",
    "    filepath=\"%s/weights-improvement-{epoch:02d}-{val_loss:.2f}.hdf5\" % improvement_dir\n",
    "    checkpoint = ModelCheckpoint(filepath, monitor='val_loss', verbose=0, save_best_only=True, mode='auto')\n",
    "    history = model.fit(X_train, y_train, batch_size= 200, epochs= 300, validation_data=(X_valid, y_valid), callbacks=[checkpoint, early_stopping], verbose=0)\n",
    "    if os.path.exists(improvement_dir):\n",
    "        shutil.rmtree(improvement_dir)\n",
    "\n",
    "    mc_predictions = []\n",
    "    for i in tqdm.tqdm(range(sample_time)):\n",
    "        y_p = model.predict(X_test, batch_size=200)\n",
    "        mc_predictions.append(y_p)\n",
    "    y_std = np.std(np.array(mc_predictions), axis = 0)\n",
    "    y_mean = np.mean(np.array(mc_predictions), axis = 0)\n",
    "\n",
    "    y_pred = y_mean.copy()\n",
    "    auc = roc_auc_score(y_test, y_pred)\n",
    "    y_pred[y_pred >= 0.5] = 1\n",
    "    y_pred[y_pred < 0.5] = 0\n",
    "    acc = accuracy_score(y_test, y_pred)\n",
    "    mc_pred = [mc_predictions,y_mean, y_std]\n",
    "    print ('Dropout rate = %s, AUC: %.3f, ACC: %.3f' % (dr, auc, acc))\n",
    "    return model, history, auc, acc, mc_pred"
   ]
  },
  {
   "cell_type": "markdown",
   "id": "requested-brooklyn",
   "metadata": {},
   "source": [
    "### Morgan Fingerprint MC_NN"
   ]
  },
  {
   "cell_type": "markdown",
   "id": "cleared-century",
   "metadata": {},
   "source": [
    "#### CYP2c19"
   ]
  },
  {
   "cell_type": "code",
   "execution_count": 6,
   "id": "introductory-triumph",
   "metadata": {},
   "outputs": [
    {
     "name": "stderr",
     "output_type": "stream",
     "text": [
      "100%|██████████| 300/300 [00:15<00:00, 19.52it/s]"
     ]
    },
    {
     "name": "stdout",
     "output_type": "stream",
     "text": [
      "Dropout rate = 0, AUC: 0.547, ACC: 0.950\n"
     ]
    },
    {
     "name": "stderr",
     "output_type": "stream",
     "text": [
      "\n"
     ]
    }
   ],
   "source": [
    "X = cyp2c19_df.drop(cyp2c19_df[['index', 'Inhibition Observed']], axis=1)\n",
    "y = cyp2c19_df['Inhibition Observed']\n",
    "X_train, X_test, X_valid, y_train, y_test, y_valid = split_var(cyp2c19_df)\n",
    "cyp2c19_nn = MC_NN(X_train, X_test, X_valid, y_train, y_test, y_valid)"
   ]
  },
  {
   "cell_type": "code",
   "execution_count": 7,
   "id": "annual-employer",
   "metadata": {},
   "outputs": [],
   "source": [
    "cyp2c19_nn = pd.DataFrame(cyp2c19_nn[2:5])\n",
    "cyp2c19_nn.reset_index(inplace = True)\n",
    "cyp2c19_nn.columns = ['index', 'Scores']\n",
    "cyp2c19_nn.to_csv('../data/model_output/cyp2c19_nn.csv')"
   ]
  },
  {
   "cell_type": "code",
   "execution_count": 8,
   "id": "million-animal",
   "metadata": {},
   "outputs": [
    {
     "data": {
      "text/html": [
       "<div>\n",
       "<style scoped>\n",
       "    .dataframe tbody tr th:only-of-type {\n",
       "        vertical-align: middle;\n",
       "    }\n",
       "\n",
       "    .dataframe tbody tr th {\n",
       "        vertical-align: top;\n",
       "    }\n",
       "\n",
       "    .dataframe thead th {\n",
       "        text-align: right;\n",
       "    }\n",
       "</style>\n",
       "<table border=\"1\" class=\"dataframe\">\n",
       "  <thead>\n",
       "    <tr style=\"text-align: right;\">\n",
       "      <th></th>\n",
       "      <th>index</th>\n",
       "      <th>Scores</th>\n",
       "    </tr>\n",
       "  </thead>\n",
       "  <tbody>\n",
       "    <tr>\n",
       "      <th>0</th>\n",
       "      <td>0</td>\n",
       "      <td>0.546824</td>\n",
       "    </tr>\n",
       "    <tr>\n",
       "      <th>1</th>\n",
       "      <td>1</td>\n",
       "      <td>0.950437</td>\n",
       "    </tr>\n",
       "    <tr>\n",
       "      <th>2</th>\n",
       "      <td>2</td>\n",
       "      <td>[[[[1.], [1.], [1.], [1.], [1.], [1.], [1.], [...</td>\n",
       "    </tr>\n",
       "  </tbody>\n",
       "</table>\n",
       "</div>"
      ],
      "text/plain": [
       "   index                                             Scores\n",
       "0      0                                           0.546824\n",
       "1      1                                           0.950437\n",
       "2      2  [[[[1.], [1.], [1.], [1.], [1.], [1.], [1.], [..."
      ]
     },
     "execution_count": 8,
     "metadata": {},
     "output_type": "execute_result"
    }
   ],
   "source": [
    "cyp2c19_nn.head()"
   ]
  },
  {
   "cell_type": "markdown",
   "id": "marked-mentor",
   "metadata": {},
   "source": [
    "#### CYP2c9"
   ]
  },
  {
   "cell_type": "code",
   "execution_count": 9,
   "id": "actual-notification",
   "metadata": {},
   "outputs": [
    {
     "name": "stderr",
     "output_type": "stream",
     "text": [
      "100%|██████████| 300/300 [00:14<00:00, 20.10it/s]\n"
     ]
    },
    {
     "name": "stdout",
     "output_type": "stream",
     "text": [
      "Dropout rate = 0, AUC: 0.588, ACC: 0.930\n"
     ]
    }
   ],
   "source": [
    "X = cyp2c9_df.drop(cyp2c9_df[['index', 'Inhibition Observed']], axis=1)\n",
    "y = cyp2c9_df['Inhibition Observed']\n",
    "X_train, X_test, X_valid, y_train, y_test, y_valid = split_var(cyp2c9_df)\n",
    "cyp2c9_nn = MC_NN(X_train, X_test, X_valid, y_train, y_test, y_valid)"
   ]
  },
  {
   "cell_type": "code",
   "execution_count": 10,
   "id": "brief-development",
   "metadata": {},
   "outputs": [],
   "source": [
    "cyp2c9_nn = pd.DataFrame(cyp2c9_nn[2:5])\n",
    "cyp2c9_nn.reset_index(inplace = True)\n",
    "cyp2c9_nn.columns = ['index', 'Scores']\n",
    "cyp2c9_nn.to_csv('../data/model_output/cyp2c9_nn.csv')"
   ]
  },
  {
   "cell_type": "markdown",
   "id": "requested-difference",
   "metadata": {},
   "source": [
    "#### CYP2d6"
   ]
  },
  {
   "cell_type": "code",
   "execution_count": 11,
   "id": "applicable-tennis",
   "metadata": {},
   "outputs": [
    {
     "name": "stderr",
     "output_type": "stream",
     "text": [
      "100%|██████████| 300/300 [00:14<00:00, 21.27it/s]"
     ]
    },
    {
     "name": "stdout",
     "output_type": "stream",
     "text": [
      "Dropout rate = 0, AUC: 0.489, ACC: 0.948\n"
     ]
    },
    {
     "name": "stderr",
     "output_type": "stream",
     "text": [
      "\n"
     ]
    }
   ],
   "source": [
    "X = cyp2d6_df.drop(cyp2d6_df[['index', 'Inhibition Observed']], axis=1)\n",
    "y = cyp2d6_df['Inhibition Observed']\n",
    "X_train, X_test, X_valid, y_train, y_test, y_valid = split_var(cyp2d6_df)\n",
    "cyp2d6_nn = MC_NN(X_train, X_test, X_valid, y_train, y_test, y_valid)"
   ]
  },
  {
   "cell_type": "code",
   "execution_count": 12,
   "id": "vanilla-cambodia",
   "metadata": {},
   "outputs": [],
   "source": [
    "cyp2d6_nn = pd.DataFrame(cyp2d6_nn[2:5])\n",
    "cyp2d6_nn.reset_index(inplace = True)\n",
    "cyp2d6_nn.columns = ['index', 'Scores']\n",
    "cyp2d6_nn.to_csv('../data/model_output/cyp2d6_nn.csv')"
   ]
  },
  {
   "cell_type": "markdown",
   "id": "handy-municipality",
   "metadata": {},
   "source": [
    "#### CYP1a2"
   ]
  },
  {
   "cell_type": "code",
   "execution_count": 13,
   "id": "rising-fountain",
   "metadata": {},
   "outputs": [
    {
     "name": "stderr",
     "output_type": "stream",
     "text": [
      "100%|██████████| 300/300 [00:14<00:00, 21.39it/s]"
     ]
    },
    {
     "name": "stdout",
     "output_type": "stream",
     "text": [
      "Dropout rate = 0, AUC: 0.514, ACC: 0.942\n"
     ]
    },
    {
     "name": "stderr",
     "output_type": "stream",
     "text": [
      "\n"
     ]
    }
   ],
   "source": [
    "X = cyp1a2_df.drop(cyp1a2_df[['index', 'Inhibition Observed']], axis=1)\n",
    "y = cyp1a2_df['Inhibition Observed']\n",
    "X_train, X_test, X_valid, y_train, y_test, y_valid = split_var(cyp1a2_df)\n",
    "cyp1a2_nn = MC_NN(X_train, X_test, X_valid, y_train, y_test, y_valid)"
   ]
  },
  {
   "cell_type": "code",
   "execution_count": 14,
   "id": "changed-lecture",
   "metadata": {},
   "outputs": [],
   "source": [
    "cyp1a2_nn = pd.DataFrame(cyp1a2_nn[2:5])\n",
    "cyp1a2_nn.reset_index(inplace = True)\n",
    "cyp1a2_nn.columns = ['index', 'Scores']\n",
    "cyp1a2_nn.to_csv('../data/model_output/cyp1a2_nn.csv')"
   ]
  },
  {
   "cell_type": "markdown",
   "id": "pointed-exposure",
   "metadata": {},
   "source": [
    "#### CYp3a4"
   ]
  },
  {
   "cell_type": "code",
   "execution_count": 15,
   "id": "average-pocket",
   "metadata": {},
   "outputs": [
    {
     "name": "stderr",
     "output_type": "stream",
     "text": [
      "100%|██████████| 300/300 [00:14<00:00, 21.03it/s]"
     ]
    },
    {
     "name": "stdout",
     "output_type": "stream",
     "text": [
      "Dropout rate = 0, AUC: 0.519, ACC: 0.953\n"
     ]
    },
    {
     "name": "stderr",
     "output_type": "stream",
     "text": [
      "\n"
     ]
    }
   ],
   "source": [
    "X = cyp3a4_df.drop(cyp3a4_df[['index', 'Inhibition Observed']], axis=1)\n",
    "y = cyp3a4_df['Inhibition Observed']\n",
    "X_train, X_test, X_valid, y_train, y_test, y_valid = split_var(cyp3a4_df)\n",
    "cyp3a4_nn = MC_NN(X_train, X_test, X_valid, y_train, y_test, y_valid)"
   ]
  },
  {
   "cell_type": "code",
   "execution_count": 16,
   "id": "hearing-skiing",
   "metadata": {},
   "outputs": [],
   "source": [
    "cyp3a4_nn = pd.DataFrame(cyp3a4_nn[2:5])\n",
    "cyp3a4_nn.reset_index(inplace = True)\n",
    "cyp3a4_nn.columns = ['index', 'Scores']\n",
    "cyp3a4_nn.to_csv('../data/model_output/cyp3a4_nn.csv')"
   ]
  },
  {
   "cell_type": "markdown",
   "id": "confirmed-venezuela",
   "metadata": {},
   "source": [
    "### SwissADME Features MC_NN"
   ]
  },
  {
   "cell_type": "markdown",
   "id": "nearby-organization",
   "metadata": {},
   "source": [
    "#### CYP2c19"
   ]
  },
  {
   "cell_type": "code",
   "execution_count": 20,
   "id": "italian-cardiff",
   "metadata": {},
   "outputs": [
    {
     "name": "stderr",
     "output_type": "stream",
     "text": [
      "100%|██████████| 300/300 [00:14<00:00, 20.63it/s]"
     ]
    },
    {
     "name": "stdout",
     "output_type": "stream",
     "text": [
      "Dropout rate = 0, AUC: 0.490, ACC: 0.956\n"
     ]
    },
    {
     "name": "stderr",
     "output_type": "stream",
     "text": [
      "\n"
     ]
    }
   ],
   "source": [
    "X = cyp2c19_swiss_feat.drop(cyp2c19_swiss_feat[['index', 'Inhibition Observed']], axis=1)\n",
    "y = cyp2c19_swiss_feat['Inhibition Observed']\n",
    "X_train, X_test, X_valid, y_train, y_test, y_valid = split_var(cyp2c9_df)\n",
    "cyp2c19_sw_nn = MC_NN(X_train, X_test, X_valid, y_train, y_test, y_valid)"
   ]
  },
  {
   "cell_type": "code",
   "execution_count": 21,
   "id": "departmental-flavor",
   "metadata": {},
   "outputs": [],
   "source": [
    "cyp2c19_sw_nn = pd.DataFrame(cyp2c19_sw_nn[2:5])\n",
    "cyp2c19_sw_nn.reset_index(inplace = True)\n",
    "cyp2c19_sw_nn.columns = ['index', 'Scores']\n",
    "cyp2c19_sw_nn.to_csv('../data/model_output/cyp2c19_sw_nn.csv')"
   ]
  },
  {
   "cell_type": "markdown",
   "id": "functional-table",
   "metadata": {},
   "source": [
    "#### CYP2c9"
   ]
  },
  {
   "cell_type": "code",
   "execution_count": 25,
   "id": "banner-toyota",
   "metadata": {},
   "outputs": [
    {
     "name": "stderr",
     "output_type": "stream",
     "text": [
      "100%|██████████| 300/300 [00:14<00:00, 20.09it/s]"
     ]
    },
    {
     "name": "stdout",
     "output_type": "stream",
     "text": [
      "Dropout rate = 0, AUC: 0.432, ACC: 0.927\n"
     ]
    },
    {
     "name": "stderr",
     "output_type": "stream",
     "text": [
      "\n"
     ]
    }
   ],
   "source": [
    "X = cyp2c9_swiss_feat.drop(cyp2c9_swiss_feat[['index', 'Inhibition Observed']], axis=1)\n",
    "y = cyp2c9_swiss_feat['Inhibition Observed']\n",
    "X_train, X_test, X_valid, y_train, y_test, y_valid = split_var(cyp2c9_df)\n",
    "cyp2c9_sw_nn = MC_NN(X_train, X_test, X_valid, y_train, y_test, y_valid)"
   ]
  },
  {
   "cell_type": "code",
   "execution_count": 26,
   "id": "floating-heaven",
   "metadata": {},
   "outputs": [],
   "source": [
    "cyp2c9_sw_nn = pd.DataFrame(cyp2c9_sw_nn[2:5])\n",
    "cyp2c9_sw_nn.reset_index(inplace = True)\n",
    "cyp2c9_sw_nn.columns = ['index', 'Scores']\n",
    "cyp2c9_sw_nn.to_csv('../data/model_output/cyp2c9_sw_nn.csv')"
   ]
  },
  {
   "cell_type": "markdown",
   "id": "terminal-investigation",
   "metadata": {},
   "source": [
    "#### CYP2d6"
   ]
  },
  {
   "cell_type": "code",
   "execution_count": 27,
   "id": "decreased-matrix",
   "metadata": {},
   "outputs": [
    {
     "name": "stderr",
     "output_type": "stream",
     "text": [
      "100%|██████████| 300/300 [00:14<00:00, 20.38it/s]\n"
     ]
    },
    {
     "name": "stdout",
     "output_type": "stream",
     "text": [
      "Dropout rate = 0, AUC: 0.525, ACC: 0.915\n"
     ]
    }
   ],
   "source": [
    "X = cyp2d6_swiss_feat.drop(cyp2d6_swiss_feat[['index', 'Inhibition Observed']], axis=1)\n",
    "y = cyp2d6_swiss_feat['Inhibition Observed']\n",
    "X_train, X_test, X_valid, y_train, y_test, y_valid = split_var(cyp2d6_df)\n",
    "cyp2d6_sw_nn = MC_NN(X_train, X_test, X_valid, y_train, y_test, y_valid)"
   ]
  },
  {
   "cell_type": "code",
   "execution_count": 28,
   "id": "documented-drinking",
   "metadata": {},
   "outputs": [],
   "source": [
    "cyp2d6_sw_nn = pd.DataFrame(cyp2d6_sw_nn[2:5])\n",
    "cyp2d6_sw_nn.reset_index(inplace = True)\n",
    "cyp2d6_sw_nn.columns = ['index', 'Scores']\n",
    "cyp2c9_sw_nn.to_csv('../data/model_output/cyp2d6_sw_nn.csv')"
   ]
  },
  {
   "cell_type": "markdown",
   "id": "professional-conflict",
   "metadata": {},
   "source": [
    "#### CYP1a2"
   ]
  },
  {
   "cell_type": "code",
   "execution_count": 29,
   "id": "coupled-medicine",
   "metadata": {},
   "outputs": [
    {
     "name": "stderr",
     "output_type": "stream",
     "text": [
      "100%|██████████| 300/300 [00:14<00:00, 20.82it/s]"
     ]
    },
    {
     "name": "stdout",
     "output_type": "stream",
     "text": [
      "Dropout rate = 0, AUC: 0.632, ACC: 0.945\n"
     ]
    },
    {
     "name": "stderr",
     "output_type": "stream",
     "text": [
      "\n"
     ]
    }
   ],
   "source": [
    "X = cyp1a2_swiss_feat.drop(cyp1a2_swiss_feat[['index', 'Inhibition Observed']], axis=1)\n",
    "y = cyp1a2_swiss_feat['Inhibition Observed']\n",
    "X_train, X_test, X_valid, y_train, y_test, y_valid = split_var(cyp1a2_df)\n",
    "cyp1a2_sw_nn = MC_NN(X_train, X_test, X_valid, y_train, y_test, y_valid)"
   ]
  },
  {
   "cell_type": "code",
   "execution_count": 30,
   "id": "controlling-iceland",
   "metadata": {},
   "outputs": [],
   "source": [
    "cyp1a2_sw_nn = pd.DataFrame(cyp1a2_sw_nn[2:5])\n",
    "cyp1a2_sw_nn.reset_index(inplace = True)\n",
    "cyp1a2_sw_nn.columns = ['index', 'Scores']\n",
    "cyp1a2_sw_nn.to_csv('../data/model_output/cyp1a2_sw_nn.csv')"
   ]
  },
  {
   "cell_type": "markdown",
   "id": "detailed-negative",
   "metadata": {},
   "source": [
    "#### CYp3a4"
   ]
  },
  {
   "cell_type": "code",
   "execution_count": 31,
   "id": "accessible-filter",
   "metadata": {},
   "outputs": [
    {
     "name": "stderr",
     "output_type": "stream",
     "text": [
      "100%|██████████| 300/300 [00:15<00:00, 19.94it/s]\n"
     ]
    },
    {
     "name": "stdout",
     "output_type": "stream",
     "text": [
      "Dropout rate = 0, AUC: 0.527, ACC: 0.948\n"
     ]
    }
   ],
   "source": [
    "X = cyp3a4_swiss_feat.drop(cyp3a4_swiss_feat[['index', 'Inhibition Observed']], axis=1)\n",
    "y = cyp3a4_swiss_feat['Inhibition Observed']\n",
    "X_train, X_test, X_valid, y_train, y_test, y_valid = split_var(cyp3a4_df)\n",
    "cyp3a4_sw_nn = MC_NN(X_train, X_test, X_valid, y_train, y_test, y_valid)"
   ]
  },
  {
   "cell_type": "code",
   "execution_count": 32,
   "id": "passive-giant",
   "metadata": {},
   "outputs": [],
   "source": [
    "cyp3a4_sw_nn = pd.DataFrame(cyp3a4_sw_nn[2:5])\n",
    "cyp3a4_sw_nn.reset_index(inplace = True)\n",
    "cyp3a4_sw_nn.columns = ['index', 'Scores']\n",
    "cyp2d6_sw_nn.to_csv('../data/model_output/cyp3a4_sw_nn.csv')"
   ]
  },
  {
   "cell_type": "markdown",
   "id": "median-marriage",
   "metadata": {},
   "source": [
    "### Merge datasets into fingerprint and swiss feature lists"
   ]
  },
  {
   "cell_type": "code",
   "execution_count": 33,
   "id": "therapeutic-blind",
   "metadata": {},
   "outputs": [],
   "source": [
    "df_list = [cyp2c19_nn, cyp2c9_nn, cyp2d6_nn, cyp1a2_nn, cyp3a4_nn]\n",
    "df1_list = [cyp2c19_sw_nn, cyp2c9_sw_nn, cyp2d6_sw_nn, cyp1a2_sw_nn, cyp3a4_sw_nn]\n",
    "\n",
    "# Save concatonated results\n",
    "cyp_nn_results = pd.concat(df_list)\n",
    "cyp_sw_nn_results = pd.concat(df1_list)\n",
    "\n",
    "# All Results together \n",
    "cyp_nn_results_ALL = [cyp_nn_results, cyp_sw_nn_results]\n",
    "cyp_nn_results_ALL = pd.concat(cyp_nn_results_ALL)"
   ]
  },
  {
   "cell_type": "code",
   "execution_count": 34,
   "id": "neural-liberal",
   "metadata": {},
   "outputs": [],
   "source": [
    "cyp_nn_results.to_pickle('../data/model_output/cyp_nn_results.pkl')\n",
    "cyp_sw_nn_results.to_pickle('../data/model_output/cyp_sw_nn_results.pkl')\n",
    "cyp_nn_results_ALL.to_pickle('../data/model_output/cyp_nn_results_ALL.pkl')"
   ]
  },
  {
   "cell_type": "code",
   "execution_count": null,
   "id": "cardiac-saver",
   "metadata": {},
   "outputs": [],
   "source": []
  }
 ],
 "metadata": {
  "kernelspec": {
   "display_name": "Python 3",
   "language": "python",
   "name": "python3"
  },
  "language_info": {
   "codemirror_mode": {
    "name": "ipython",
    "version": 3
   },
   "file_extension": ".py",
   "mimetype": "text/x-python",
   "name": "python",
   "nbconvert_exporter": "python",
   "pygments_lexer": "ipython3",
   "version": "3.8.5"
  }
 },
 "nbformat": 4,
 "nbformat_minor": 5
}
