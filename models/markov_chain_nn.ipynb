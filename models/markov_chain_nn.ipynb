{
 "cells": [
  {
   "cell_type": "markdown",
   "id": "educated-isaac",
   "metadata": {},
   "source": [
    "# Markov Chain Neural Network \n",
    "#### With Keras"
   ]
  },
  {
   "cell_type": "markdown",
   "id": "happy-party",
   "metadata": {},
   "source": [
    "#### Imports:"
   ]
  },
  {
   "cell_type": "code",
   "execution_count": 1,
   "id": "consolidated-coupon",
   "metadata": {},
   "outputs": [],
   "source": [
    "import numpy as np\n",
    "import pandas as pd\n",
    "import os\n",
    "import shutil\n",
    "\n",
    "from sklearn.model_selection import train_test_split\n",
    "\n",
    "import molvs as mv\n",
    "from rdkit import Chem\n",
    "from rdkit.Chem import DataStructs, AllChem\n",
    "from sklearn import metrics, model_selection\n",
    "from sklearn.metrics import roc_auc_score, accuracy_score\n",
    "import tensorflow.keras as keras\n",
    "import tqdm\n",
    "\n",
    "from keras.regularizers import l2\n",
    "from keras.layers import Input, Dense, Dropout\n",
    "from keras import Model, optimizers\n",
    "from keras.callbacks import EarlyStopping, ModelCheckpoint\n",
    "\n",
    "import warnings\n",
    "warnings.filterwarnings('ignore')"
   ]
  },
  {
   "cell_type": "markdown",
   "id": "behavioral-representative",
   "metadata": {},
   "source": [
    "## Data Imports"
   ]
  },
  {
   "cell_type": "markdown",
   "id": "unavailable-bunch",
   "metadata": {},
   "source": [
    "#### Morgan Fingerprint"
   ]
  },
  {
   "cell_type": "code",
   "execution_count": 2,
   "id": "proof-collection",
   "metadata": {},
   "outputs": [],
   "source": [
    "cyp2c19_df = pd.read_pickle(\"./data/cyp_datasets/cyp2c19.pkl\")\n",
    "cyp2c9_df = pd.read_pickle(\"./data/cyp_datasets/cyp2c9.pkl\")\n",
    "cyp1a2_df = pd.read_pickle(\"./data/cyp_datasets/cyp1a2.pkl\")\n",
    "cyp2d6_df = pd.read_pickle(\"./data/cyp_datasets/cyp2d6.pkl\")\n",
    "cyp3a4_df = pd.read_pickle(\"./data/cyp_datasets/cyp3a4.pkl\")"
   ]
  },
  {
   "cell_type": "markdown",
   "id": "encouraging-schema",
   "metadata": {},
   "source": [
    "#### SwissADME Feature Set"
   ]
  },
  {
   "cell_type": "code",
   "execution_count": 3,
   "id": "western-livestock",
   "metadata": {},
   "outputs": [],
   "source": [
    "cyp2c19_swiss_feat = pd.read_pickle('./data/cyp_datasets/cyp2c19_swiss_feat.pkl')\n",
    "cyp2c9_swiss_feat = pd.read_pickle('./data/cyp_datasets/cyp2c9_swiss_feat.pkl')\n",
    "cyp2d6_swiss_feat = pd.read_pickle('./data/cyp_datasets/cyp2d6_swiss_feat.pkl')\n",
    "cyp1a2_swiss_feat = pd.read_pickle('./data/cyp_datasets/cyp1a2_swiss_feat.pkl')\n",
    "cyp3a4_swiss_feat = pd.read_pickle('./data/cyp_datasets/cyp3a4_swiss_feat.pkl')"
   ]
  },
  {
   "cell_type": "markdown",
   "id": "unnecessary-image",
   "metadata": {},
   "source": [
    "### Train, Test, Split with validation data"
   ]
  },
  {
   "cell_type": "code",
   "execution_count": 4,
   "id": "dominican-bundle",
   "metadata": {},
   "outputs": [],
   "source": [
    "# Train, test, valid set split\n",
    "def split_var(data_set):   \n",
    "    X_data = np.array(data_set)\n",
    "    y_data = np.array(data_set['Inhibition Observed'])\n",
    "    X_train, X_test, y_train, y_test = model_selection.train_test_split(X_data, y_data, test_size = 0.1)\n",
    "    X_train, X_valid, y_train, y_valid = model_selection.train_test_split(X_train, y_train, test_size = 0.11)\n",
    "    return X_train, X_test, X_valid, y_train, y_test, y_valid"
   ]
  },
  {
   "cell_type": "markdown",
   "id": "figured-clearing",
   "metadata": {},
   "source": [
    "### Markov Chain Neural Network"
   ]
  },
  {
   "cell_type": "code",
   "execution_count": 5,
   "id": "advised-advocacy",
   "metadata": {},
   "outputs": [],
   "source": [
    "def MC_NN(X_train, X_test, X_valid, y_train, y_test, y_valid, activation = None, hidden_nodes = 1024, dr = 0, sample_time = 300):\n",
    "    \n",
    "    X_train = np.array(X_train)\n",
    "    X_valid = np.array(X_valid)\n",
    "    X_test = np.array(X_test)\n",
    "   \n",
    "    inputShape=(X_train.shape[1] , )    \n",
    "    inputs = Input(inputShape, name = 'Input')\n",
    "    x = Dropout(dr)(inputs)\n",
    "    x = Dense(hidden_nodes, activation = activation, kernel_regularizer = l2(1e-4))(x)\n",
    "    x = Dropout(0.5)(x, training = True)\n",
    "    y = Dense(1, activation = 'sigmoid', name = 'Output')(x)\n",
    " \n",
    "    model = Model(inputs=inputs, outputs = y)\n",
    "    model.compile(optimizer=optimizers.Adam(0.0001), loss='binary_crossentropy', metrics=['accuracy']) \n",
    "    early_stopping = EarlyStopping(monitor='val_loss', patience=10, verbose=0)\n",
    "    \n",
    "    improvement_dir = 'Weights_improvement'\n",
    "    if not os.path.exists(improvement_dir):\n",
    "        os.mkdir(improvement_dir)\n",
    "    filepath=\"%s/weights-improvement-{epoch:02d}-{val_loss:.2f}.hdf5\" % improvement_dir\n",
    "    checkpoint = ModelCheckpoint(filepath, monitor='val_loss', verbose=0, save_best_only=True, mode='auto')\n",
    "    history = model.fit(X_train, y_train, batch_size= 200, epochs= 300, validation_data=(X_valid, y_valid), callbacks=[checkpoint, early_stopping], verbose=0)\n",
    "    if os.path.exists(improvement_dir):\n",
    "        shutil.rmtree(improvement_dir)\n",
    "\n",
    "    mc_predictions = []\n",
    "    for i in tqdm.tqdm(range(sample_time)):\n",
    "        y_p = model.predict(X_test, batch_size=200)\n",
    "        mc_predictions.append(y_p)\n",
    "    y_std = np.std(np.array(mc_predictions), axis = 0)\n",
    "    y_mean = np.mean(np.array(mc_predictions), axis = 0)\n",
    "\n",
    "    y_pred = y_mean.copy()\n",
    "    auc = roc_auc_score(y_test, y_pred)\n",
    "    y_pred[y_pred >= 0.5] = 1\n",
    "    y_pred[y_pred < 0.5] = 0\n",
    "    acc = accuracy_score(y_test, y_pred)\n",
    "    mc_pred = [mc_predictions,y_mean, y_std]\n",
    "    print ('Dropout rate = %s, AUC: %.3f, ACC: %.3f' % (dr, auc, acc))\n",
    "    return model, history, auc, acc, mc_pred"
   ]
  },
  {
   "cell_type": "markdown",
   "id": "seventh-active",
   "metadata": {},
   "source": [
    "### Morgan Fingerprint MC_NN"
   ]
  },
  {
   "cell_type": "markdown",
   "id": "behavioral-graph",
   "metadata": {},
   "source": [
    "#### CYP2c19"
   ]
  },
  {
   "cell_type": "code",
   "execution_count": 6,
   "id": "electrical-bracelet",
   "metadata": {},
   "outputs": [
    {
     "name": "stderr",
     "output_type": "stream",
     "text": [
      "100%|██████████| 300/300 [00:14<00:00, 20.58it/s]"
     ]
    },
    {
     "name": "stdout",
     "output_type": "stream",
     "text": [
      "Dropout rate = 0, AUC: 0.478, ACC: 0.953\n"
     ]
    },
    {
     "name": "stderr",
     "output_type": "stream",
     "text": [
      "\n"
     ]
    }
   ],
   "source": [
    "X = cyp2c19_df.drop(cyp2c19_df[['index', 'Inhibition Observed']], axis=1)\n",
    "y = cyp2c19_df['Inhibition Observed']\n",
    "X_train, X_test, X_valid, y_train, y_test, y_valid = split_var(cyp2c19_df)\n",
    "cyp2c19_nn = MC_NN(X_train, X_test, X_valid, y_train, y_test, y_valid)"
   ]
  },
  {
   "cell_type": "code",
   "execution_count": 7,
   "id": "brave-update",
   "metadata": {},
   "outputs": [],
   "source": [
    "cyp2c19_nn = pd.DataFrame(cyp2c19_nn[2:5])\n",
    "cyp2c19_nn.reset_index(inplace = True)\n",
    "cyp2c19_nn.columns = ['index', 'Scores']\n",
    "cyp2c19_nn.to_csv('./data/model_output/cyp2c19_nn.csv')"
   ]
  },
  {
   "cell_type": "code",
   "execution_count": 8,
   "id": "considerable-array",
   "metadata": {},
   "outputs": [
    {
     "data": {
      "text/html": [
       "<div>\n",
       "<style scoped>\n",
       "    .dataframe tbody tr th:only-of-type {\n",
       "        vertical-align: middle;\n",
       "    }\n",
       "\n",
       "    .dataframe tbody tr th {\n",
       "        vertical-align: top;\n",
       "    }\n",
       "\n",
       "    .dataframe thead th {\n",
       "        text-align: right;\n",
       "    }\n",
       "</style>\n",
       "<table border=\"1\" class=\"dataframe\">\n",
       "  <thead>\n",
       "    <tr style=\"text-align: right;\">\n",
       "      <th></th>\n",
       "      <th>index</th>\n",
       "      <th>Scores</th>\n",
       "    </tr>\n",
       "  </thead>\n",
       "  <tbody>\n",
       "    <tr>\n",
       "      <th>0</th>\n",
       "      <td>0</td>\n",
       "      <td>0.478211</td>\n",
       "    </tr>\n",
       "    <tr>\n",
       "      <th>1</th>\n",
       "      <td>1</td>\n",
       "      <td>0.953353</td>\n",
       "    </tr>\n",
       "    <tr>\n",
       "      <th>2</th>\n",
       "      <td>2</td>\n",
       "      <td>[[[[1.], [1.], [1.], [1.], [1.], [2.813853e-35...</td>\n",
       "    </tr>\n",
       "  </tbody>\n",
       "</table>\n",
       "</div>"
      ],
      "text/plain": [
       "   index                                             Scores\n",
       "0      0                                           0.478211\n",
       "1      1                                           0.953353\n",
       "2      2  [[[[1.], [1.], [1.], [1.], [1.], [2.813853e-35..."
      ]
     },
     "execution_count": 8,
     "metadata": {},
     "output_type": "execute_result"
    }
   ],
   "source": [
    "cyp2c19_nn.head()"
   ]
  },
  {
   "cell_type": "markdown",
   "id": "forbidden-fashion",
   "metadata": {},
   "source": [
    "#### CYP2c9"
   ]
  },
  {
   "cell_type": "code",
   "execution_count": 9,
   "id": "pointed-evanescence",
   "metadata": {},
   "outputs": [
    {
     "name": "stderr",
     "output_type": "stream",
     "text": [
      "100%|██████████| 300/300 [00:14<00:00, 20.97it/s]"
     ]
    },
    {
     "name": "stdout",
     "output_type": "stream",
     "text": [
      "Dropout rate = 0, AUC: 0.460, ACC: 0.915\n"
     ]
    },
    {
     "name": "stderr",
     "output_type": "stream",
     "text": [
      "\n"
     ]
    }
   ],
   "source": [
    "X = cyp2c9_df.drop(cyp2c9_df[['index', 'Inhibition Observed']], axis=1)\n",
    "y = cyp2c9_df['Inhibition Observed']\n",
    "X_train, X_test, X_valid, y_train, y_test, y_valid = split_var(cyp2c9_df)\n",
    "cyp2c9_nn = MC_NN(X_train, X_test, X_valid, y_train, y_test, y_valid)"
   ]
  },
  {
   "cell_type": "code",
   "execution_count": 10,
   "id": "promising-actress",
   "metadata": {},
   "outputs": [],
   "source": [
    "cyp2c9_nn = pd.DataFrame(cyp2c9_nn[2:5])\n",
    "cyp2c9_nn.reset_index(inplace = True)\n",
    "cyp2c9_nn.columns = ['index', 'Scores']\n",
    "cyp2c9_nn.to_csv('./data/model_output/cyp2c9_nn.csv')"
   ]
  },
  {
   "cell_type": "markdown",
   "id": "indirect-harbor",
   "metadata": {},
   "source": [
    "#### CYP2d6"
   ]
  },
  {
   "cell_type": "code",
   "execution_count": 11,
   "id": "expected-egyptian",
   "metadata": {},
   "outputs": [
    {
     "name": "stderr",
     "output_type": "stream",
     "text": [
      "100%|██████████| 300/300 [00:14<00:00, 20.47it/s]"
     ]
    },
    {
     "name": "stdout",
     "output_type": "stream",
     "text": [
      "Dropout rate = 0, AUC: 0.531, ACC: 0.924\n"
     ]
    },
    {
     "name": "stderr",
     "output_type": "stream",
     "text": [
      "\n"
     ]
    }
   ],
   "source": [
    "X = cyp2d6_df.drop(cyp2d6_df[['index', 'Inhibition Observed']], axis=1)\n",
    "y = cyp2d6_df['Inhibition Observed']\n",
    "X_train, X_test, X_valid, y_train, y_test, y_valid = split_var(cyp2d6_df)\n",
    "cyp2d6_nn = MC_NN(X_train, X_test, X_valid, y_train, y_test, y_valid)"
   ]
  },
  {
   "cell_type": "code",
   "execution_count": 12,
   "id": "essential-utilization",
   "metadata": {},
   "outputs": [],
   "source": [
    "cyp2d6_nn = pd.DataFrame(cyp2d6_nn[2:5])\n",
    "cyp2d6_nn.reset_index(inplace = True)\n",
    "cyp2d6_nn.columns = ['index', 'Scores']\n",
    "cyp2d6_nn.to_csv('./data/model_output/cyp2d6_nn.csv')"
   ]
  },
  {
   "cell_type": "markdown",
   "id": "conventional-princeton",
   "metadata": {},
   "source": [
    "#### CYP1a2"
   ]
  },
  {
   "cell_type": "code",
   "execution_count": 16,
   "id": "caring-attendance",
   "metadata": {},
   "outputs": [
    {
     "name": "stderr",
     "output_type": "stream",
     "text": [
      "100%|██████████| 300/300 [00:15<00:00, 19.72it/s]"
     ]
    },
    {
     "name": "stdout",
     "output_type": "stream",
     "text": [
      "Dropout rate = 0, AUC: 0.524, ACC: 0.942\n"
     ]
    },
    {
     "name": "stderr",
     "output_type": "stream",
     "text": [
      "\n"
     ]
    }
   ],
   "source": [
    "X = cyp1a2_df.drop(cyp1a2_df[['index', 'Inhibition Observed']], axis=1)\n",
    "y = cyp1a2_df['Inhibition Observed']\n",
    "X_train, X_test, X_valid, y_train, y_test, y_valid = split_var(cyp1a2_df)\n",
    "cyp1a2_nn = MC_NN(X_train, X_test, X_valid, y_train, y_test, y_valid)"
   ]
  },
  {
   "cell_type": "code",
   "execution_count": 17,
   "id": "persistent-promotion",
   "metadata": {},
   "outputs": [],
   "source": [
    "cyp1a2_nn = pd.DataFrame(cyp1a2_nn[2:5])\n",
    "cyp1a2_nn.reset_index(inplace = True)\n",
    "cyp1a2_nn.columns = ['index', 'Scores']\n",
    "cyp1a2_nn.to_csv('./data/model_output/cyp1a2_nn.csv')"
   ]
  },
  {
   "cell_type": "markdown",
   "id": "satisfied-review",
   "metadata": {},
   "source": [
    "#### CYp3a4"
   ]
  },
  {
   "cell_type": "code",
   "execution_count": 18,
   "id": "precious-jacksonville",
   "metadata": {},
   "outputs": [
    {
     "name": "stderr",
     "output_type": "stream",
     "text": [
      "100%|██████████| 300/300 [00:14<00:00, 20.21it/s]"
     ]
    },
    {
     "name": "stdout",
     "output_type": "stream",
     "text": [
      "Dropout rate = 0, AUC: 0.579, ACC: 0.945\n"
     ]
    },
    {
     "name": "stderr",
     "output_type": "stream",
     "text": [
      "\n"
     ]
    }
   ],
   "source": [
    "X = cyp3a4_df.drop(cyp3a4_df[['index', 'Inhibition Observed']], axis=1)\n",
    "y = cyp3a4_df['Inhibition Observed']\n",
    "X_train, X_test, X_valid, y_train, y_test, y_valid = split_var(cyp3a4_df)\n",
    "cyp3a4_nn = MC_NN(X_train, X_test, X_valid, y_train, y_test, y_valid)"
   ]
  },
  {
   "cell_type": "code",
   "execution_count": 19,
   "id": "inappropriate-cancer",
   "metadata": {},
   "outputs": [],
   "source": [
    "cyp3a4_nn = pd.DataFrame(cyp3a4_nn[2:5])\n",
    "cyp3a4_nn.reset_index(inplace = True)\n",
    "cyp3a4_nn.columns = ['index', 'Scores']\n",
    "cyp3a4_nn.to_csv('./data/model_output/cyp3a4_nn.csv')"
   ]
  },
  {
   "cell_type": "markdown",
   "id": "imperial-bobby",
   "metadata": {},
   "source": [
    "### SwissADME Features MC_NN"
   ]
  },
  {
   "cell_type": "markdown",
   "id": "future-classics",
   "metadata": {},
   "source": [
    "#### CYP2c19"
   ]
  },
  {
   "cell_type": "code",
   "execution_count": 20,
   "id": "written-wells",
   "metadata": {},
   "outputs": [
    {
     "name": "stderr",
     "output_type": "stream",
     "text": [
      "100%|██████████| 300/300 [00:15<00:00, 19.20it/s]"
     ]
    },
    {
     "name": "stdout",
     "output_type": "stream",
     "text": [
      "Dropout rate = 0, AUC: 0.422, ACC: 0.942\n"
     ]
    },
    {
     "name": "stderr",
     "output_type": "stream",
     "text": [
      "\n"
     ]
    }
   ],
   "source": [
    "X = cyp2c19_swiss_feat.drop(cyp2c19_swiss_feat[['index', 'Inhibition Observed']], axis=1)\n",
    "y = cyp2c19_swiss_feat['Inhibition Observed']\n",
    "X_train, X_test, X_valid, y_train, y_test, y_valid = split_var(cyp2c9_df)\n",
    "cyp2c19_sw_nn = MC_NN(X_train, X_test, X_valid, y_train, y_test, y_valid)"
   ]
  },
  {
   "cell_type": "code",
   "execution_count": 21,
   "id": "brief-dutch",
   "metadata": {},
   "outputs": [],
   "source": [
    "cyp2c19_sw_nn = pd.DataFrame(cyp2c19_sw_nn[2:5])\n",
    "cyp2c19_sw_nn.reset_index(inplace = True)\n",
    "cyp2c19_sw_nn.columns = ['index', 'Scores']\n",
    "cyp2c19_sw_nn.to_csv('./data/model_output/cyp2c19_sw_nn.csv')"
   ]
  },
  {
   "cell_type": "markdown",
   "id": "polished-broadcasting",
   "metadata": {},
   "source": [
    "#### CYP2c9"
   ]
  },
  {
   "cell_type": "code",
   "execution_count": 25,
   "id": "cosmetic-thesaurus",
   "metadata": {},
   "outputs": [
    {
     "name": "stderr",
     "output_type": "stream",
     "text": [
      "100%|██████████| 300/300 [00:14<00:00, 20.39it/s]"
     ]
    },
    {
     "name": "stdout",
     "output_type": "stream",
     "text": [
      "Dropout rate = 0, AUC: 0.604, ACC: 0.939\n"
     ]
    },
    {
     "name": "stderr",
     "output_type": "stream",
     "text": [
      "\n"
     ]
    }
   ],
   "source": [
    "X = cyp2c9_swiss_feat.drop(cyp2c9_swiss_feat[['index', 'Inhibition Observed']], axis=1)\n",
    "y = cyp2c9_swiss_feat['Inhibition Observed']\n",
    "X_train, X_test, X_valid, y_train, y_test, y_valid = split_var(cyp2c9_df)\n",
    "cyp2c9_sw_nn = MC_NN(X_train, X_test, X_valid, y_train, y_test, y_valid)"
   ]
  },
  {
   "cell_type": "code",
   "execution_count": 28,
   "id": "elementary-azerbaijan",
   "metadata": {},
   "outputs": [],
   "source": [
    "cyp2c9_sw_nn = pd.DataFrame(cyp2c9_sw_nn[2:5])\n",
    "cyp2c9_sw_nn.reset_index(inplace = True)\n",
    "cyp2c9_sw_nn.columns = ['index', 'Scores']\n",
    "cyp2c9_sw_nn.to_csv('./data/model_output/cyp2c9_sw_nn.csv')"
   ]
  },
  {
   "cell_type": "markdown",
   "id": "breeding-wichita",
   "metadata": {},
   "source": [
    "#### CYP2d6"
   ]
  },
  {
   "cell_type": "code",
   "execution_count": 29,
   "id": "printable-phrase",
   "metadata": {},
   "outputs": [
    {
     "name": "stderr",
     "output_type": "stream",
     "text": [
      "100%|██████████| 300/300 [00:13<00:00, 21.64it/s]"
     ]
    },
    {
     "name": "stdout",
     "output_type": "stream",
     "text": [
      "Dropout rate = 0, AUC: 0.556, ACC: 0.959\n"
     ]
    },
    {
     "name": "stderr",
     "output_type": "stream",
     "text": [
      "\n"
     ]
    }
   ],
   "source": [
    "X = cyp2d6_swiss_feat.drop(cyp2d6_swiss_feat[['index', 'Inhibition Observed']], axis=1)\n",
    "y = cyp2d6_swiss_feat['Inhibition Observed']\n",
    "X_train, X_test, X_valid, y_train, y_test, y_valid = split_var(cyp2d6_df)\n",
    "cyp2d6_sw_nn = MC_NN(X_train, X_test, X_valid, y_train, y_test, y_valid)"
   ]
  },
  {
   "cell_type": "code",
   "execution_count": 32,
   "id": "julian-cinema",
   "metadata": {},
   "outputs": [],
   "source": [
    "cyp2d6_sw_nn = pd.DataFrame(cyp2d6_sw_nn[2:5])\n",
    "cyp2d6_sw_nn.reset_index(inplace = True)\n",
    "cyp2d6_sw_nn.columns = ['index', 'Scores']\n",
    "cyp2c9_sw_nn.to_csv('./data/model_output/cyp2d6_sw_nn.csv')"
   ]
  },
  {
   "cell_type": "markdown",
   "id": "aware-madagascar",
   "metadata": {},
   "source": [
    "#### CYP1a2"
   ]
  },
  {
   "cell_type": "code",
   "execution_count": 33,
   "id": "korean-invasion",
   "metadata": {},
   "outputs": [
    {
     "name": "stderr",
     "output_type": "stream",
     "text": [
      "100%|██████████| 300/300 [00:13<00:00, 21.91it/s]"
     ]
    },
    {
     "name": "stdout",
     "output_type": "stream",
     "text": [
      "Dropout rate = 0, AUC: 0.534, ACC: 0.945\n"
     ]
    },
    {
     "name": "stderr",
     "output_type": "stream",
     "text": [
      "\n"
     ]
    }
   ],
   "source": [
    "X = cyp1a2_swiss_feat.drop(cyp1a2_swiss_feat[['index', 'Inhibition Observed']], axis=1)\n",
    "y = cyp1a2_swiss_feat['Inhibition Observed']\n",
    "X_train, X_test, X_valid, y_train, y_test, y_valid = split_var(cyp1a2_df)\n",
    "cyp1a2_sw_nn = MC_NN(X_train, X_test, X_valid, y_train, y_test, y_valid)"
   ]
  },
  {
   "cell_type": "code",
   "execution_count": 34,
   "id": "vulnerable-miami",
   "metadata": {},
   "outputs": [],
   "source": [
    "cyp1a2_sw_nn = pd.DataFrame(cyp1a2_sw_nn[2:5])\n",
    "cyp1a2_sw_nn.reset_index(inplace = True)\n",
    "cyp1a2_sw_nn.columns = ['index', 'Scores']\n",
    "cyp1a2_sw_nn.to_csv('./data/model_output/cyp1a2_sw_nn.csv')"
   ]
  },
  {
   "cell_type": "markdown",
   "id": "sexual-exhaust",
   "metadata": {},
   "source": [
    "#### CYp3a4"
   ]
  },
  {
   "cell_type": "code",
   "execution_count": 35,
   "id": "spectacular-newman",
   "metadata": {},
   "outputs": [
    {
     "name": "stderr",
     "output_type": "stream",
     "text": [
      "100%|██████████| 300/300 [00:15<00:00, 19.93it/s]"
     ]
    },
    {
     "name": "stdout",
     "output_type": "stream",
     "text": [
      "Dropout rate = 0, AUC: 0.485, ACC: 0.942\n"
     ]
    },
    {
     "name": "stderr",
     "output_type": "stream",
     "text": [
      "\n"
     ]
    }
   ],
   "source": [
    "X = cyp3a4_swiss_feat.drop(cyp3a4_swiss_feat[['index', 'Inhibition Observed']], axis=1)\n",
    "y = cyp3a4_swiss_feat['Inhibition Observed']\n",
    "X_train, X_test, X_valid, y_train, y_test, y_valid = split_var(cyp3a4_df)\n",
    "cyp3a4_sw_nn = MC_NN(X_train, X_test, X_valid, y_train, y_test, y_valid)"
   ]
  },
  {
   "cell_type": "code",
   "execution_count": 36,
   "id": "chubby-transfer",
   "metadata": {},
   "outputs": [],
   "source": [
    "cyp3a4_sw_nn = pd.DataFrame(cyp3a4_sw_nn[2:5])\n",
    "cyp3a4_sw_nn.reset_index(inplace = True)\n",
    "cyp3a4_sw_nn.columns = ['index', 'Scores']\n",
    "cyp2d6_sw_nn.to_csv('./data/model_output/cyp3a4_sw_nn.csv')"
   ]
  },
  {
   "cell_type": "code",
   "execution_count": 53,
   "id": "chicken-terminology",
   "metadata": {},
   "outputs": [],
   "source": [
    "df_list = [cyp2c19_nn, cyp2c9_nn, cyp2d6_nn, cyp1a2_nn, cyp3a4_nn]\n",
    "df1_list = [cyp2c19_sw_nn, cyp2c9_sw_nn, cyp2d6_sw_nn, cyp1a2_sw_nn, cyp3a4_sw_nn]\n",
    "\n",
    "# Save concatonated results\n",
    "cyp_nn_results = pd.concat(df_list)\n",
    "cyp_sw_nn_results = pd.concat(df1_list)\n",
    "\n",
    "# All Results together \n",
    "cyp_nn_results_ALL = [cyp_nn_results, cyp_sw_nn_results]\n",
    "cyp_nn_results_ALL = pd.concat(cyp_nn_results_ALL)"
   ]
  },
  {
   "cell_type": "code",
   "execution_count": 55,
   "id": "listed-bottle",
   "metadata": {},
   "outputs": [],
   "source": [
    "cyp_nn_results.to_pickle('./data/model_output/cyp_nn_results.pkl')\n",
    "cyp_sw_nn_results.to_pickle('./data/model_output/cyp_sw_nn_results.pkl')\n",
    "cyp_nn_results_ALL.to_pickle('./data/model_output/cyp_nn_results_ALL.pkl')"
   ]
  }
 ],
 "metadata": {
  "kernelspec": {
   "display_name": "Python 3",
   "language": "python",
   "name": "python3"
  },
  "language_info": {
   "codemirror_mode": {
    "name": "ipython",
    "version": 3
   },
   "file_extension": ".py",
   "mimetype": "text/x-python",
   "name": "python",
   "nbconvert_exporter": "python",
   "pygments_lexer": "ipython3",
   "version": "3.8.5"
  }
 },
 "nbformat": 4,
 "nbformat_minor": 5
}
