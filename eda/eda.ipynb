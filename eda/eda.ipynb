{
 "cells": [
  {
   "cell_type": "markdown",
   "id": "recent-feedback",
   "metadata": {},
   "source": [
    "# Exploratory Data Analysis "
   ]
  },
  {
   "cell_type": "markdown",
   "id": "flying-welcome",
   "metadata": {},
   "source": [
    "This area needs a lot of love. I spent so much time learning how to convert the data to get it in a useable form that my time was limited for EDA. I was also working from a curated balanced dataset created by the SwissADME team, so I after a few quick looks around, it was clear that it was a clean dataset. I would still like to spend more time exploring the data more, especially as we add more features. "
   ]
  },
  {
   "cell_type": "markdown",
   "id": "measured-loading",
   "metadata": {},
   "source": [
    "### Imports"
   ]
  },
  {
   "cell_type": "code",
   "execution_count": 1,
   "id": "gentle-steam",
   "metadata": {},
   "outputs": [],
   "source": [
    "import pandas as pd\n",
    "import matplotlib.pyplot as plt\n",
    "import seaborn as sns\n",
    "import numpy as np\n",
    "from sklearn.ensemble import ExtraTreesClassifier\n",
    "\n",
    "%matplotlib inline\n",
    "%config InlineBackend.figure_format='retina'\n",
    "\n",
    "import warnings\n",
    "warnings.filterwarnings('ignore')"
   ]
  },
  {
   "cell_type": "markdown",
   "id": "driven-throw",
   "metadata": {},
   "source": [
    "# Import Data"
   ]
  },
  {
   "cell_type": "code",
   "execution_count": 2,
   "id": "governmental-throw",
   "metadata": {},
   "outputs": [],
   "source": [
    "cyto_assay = pd.read_csv('../data/train_data/cyto_assay_clean.csv')\n",
    "cyp2c19 = pd.read_pickle(\".././data/cyp_datasets/cyp2c19.pkl\")\n",
    "cyp2c19_128 = pd.read_pickle(\".././data/cyp_datasets/cyp2c19_128.pkl\")\n",
    "cyp2c19_512 = pd.read_pickle(\".././data/cyp_datasets/cyp2c19_128.pkl\")\n",
    "cyp2c9 = pd.read_pickle(\".././data/cyp_datasets/cyp2c9.pkl\")\n",
    "cyp1a2 = pd.read_pickle(\".././data/cyp_datasets/cyp1a2.pkl\")\n",
    "cyp2d6 = pd.read_pickle(\".././data/cyp_datasets/cyp2d6.pkl\")\n",
    "cyp3a4 = pd.read_pickle(\".././data/cyp_datasets/cyp3a4.pkl\")\n"
   ]
  },
  {
   "cell_type": "code",
   "execution_count": 3,
   "id": "commercial-vietnamese",
   "metadata": {},
   "outputs": [
    {
     "data": {
      "text/html": [
       "<div>\n",
       "<style scoped>\n",
       "    .dataframe tbody tr th:only-of-type {\n",
       "        vertical-align: middle;\n",
       "    }\n",
       "\n",
       "    .dataframe tbody tr th {\n",
       "        vertical-align: top;\n",
       "    }\n",
       "\n",
       "    .dataframe thead th {\n",
       "        text-align: right;\n",
       "    }\n",
       "</style>\n",
       "<table border=\"1\" class=\"dataframe\">\n",
       "  <thead>\n",
       "    <tr style=\"text-align: right;\">\n",
       "      <th></th>\n",
       "      <th>Unnamed: 0</th>\n",
       "      <th>index</th>\n",
       "      <th>PUBCHEM_RESULT_TAG</th>\n",
       "      <th>PUBCHEM_SID</th>\n",
       "      <th>PUBCHEM_CID</th>\n",
       "      <th>PUBCHEM_ACTIVITY_OUTCOME</th>\n",
       "      <th>PUBCHEM_ACTIVITY_SCORE</th>\n",
       "      <th>PUBCHEM_ACTIVITY_URL</th>\n",
       "      <th>PUBCHEM_ASSAYDATA_COMMENT</th>\n",
       "      <th>Inhibition Observed</th>\n",
       "      <th>...</th>\n",
       "      <th>Activity at 11.43 uM</th>\n",
       "      <th>Activity at 25.56 uM</th>\n",
       "      <th>Activity at 57.14 uM</th>\n",
       "      <th>Activity at 0.00164 uM</th>\n",
       "      <th>Activity at 0.00366 uM</th>\n",
       "      <th>Activity at 0.00818 uM</th>\n",
       "      <th>Compound QC</th>\n",
       "      <th>Panel ID</th>\n",
       "      <th>Panel Name</th>\n",
       "      <th>Panel Target</th>\n",
       "    </tr>\n",
       "  </thead>\n",
       "  <tbody>\n",
       "    <tr>\n",
       "      <th>0</th>\n",
       "      <td>0</td>\n",
       "      <td>0</td>\n",
       "      <td>1</td>\n",
       "      <td>842238</td>\n",
       "      <td>6602638.0</td>\n",
       "      <td>0</td>\n",
       "      <td>NaN</td>\n",
       "      <td>NaN</td>\n",
       "      <td>NaN</td>\n",
       "      <td>1</td>\n",
       "      <td>...</td>\n",
       "      <td>8.1486</td>\n",
       "      <td>NaN</td>\n",
       "      <td>-15.6281</td>\n",
       "      <td>NaN</td>\n",
       "      <td>NaN</td>\n",
       "      <td>NaN</td>\n",
       "      <td>QC'd by DPISMR</td>\n",
       "      <td>1</td>\n",
       "      <td>0</td>\n",
       "      <td>NP_000760.1</td>\n",
       "    </tr>\n",
       "    <tr>\n",
       "      <th>1</th>\n",
       "      <td>1</td>\n",
       "      <td>1</td>\n",
       "      <td>2</td>\n",
       "      <td>842238</td>\n",
       "      <td>6602638.0</td>\n",
       "      <td>2</td>\n",
       "      <td>NaN</td>\n",
       "      <td>NaN</td>\n",
       "      <td>NaN</td>\n",
       "      <td>1</td>\n",
       "      <td>...</td>\n",
       "      <td>-8.5062</td>\n",
       "      <td>NaN</td>\n",
       "      <td>-37.6308</td>\n",
       "      <td>NaN</td>\n",
       "      <td>NaN</td>\n",
       "      <td>NaN</td>\n",
       "      <td>QC'd by DPISMR</td>\n",
       "      <td>2</td>\n",
       "      <td>2</td>\n",
       "      <td>NP_001020332.1</td>\n",
       "    </tr>\n",
       "    <tr>\n",
       "      <th>2</th>\n",
       "      <td>2</td>\n",
       "      <td>2</td>\n",
       "      <td>3</td>\n",
       "      <td>842238</td>\n",
       "      <td>6602638.0</td>\n",
       "      <td>0</td>\n",
       "      <td>NaN</td>\n",
       "      <td>NaN</td>\n",
       "      <td>NaN</td>\n",
       "      <td>1</td>\n",
       "      <td>...</td>\n",
       "      <td>0.4027</td>\n",
       "      <td>NaN</td>\n",
       "      <td>-2.2935</td>\n",
       "      <td>NaN</td>\n",
       "      <td>-1.3363</td>\n",
       "      <td>NaN</td>\n",
       "      <td>QC'd by DPISMR</td>\n",
       "      <td>3</td>\n",
       "      <td>4</td>\n",
       "      <td>NP_059488.2</td>\n",
       "    </tr>\n",
       "    <tr>\n",
       "      <th>3</th>\n",
       "      <td>3</td>\n",
       "      <td>3</td>\n",
       "      <td>4</td>\n",
       "      <td>842238</td>\n",
       "      <td>6602638.0</td>\n",
       "      <td>0</td>\n",
       "      <td>NaN</td>\n",
       "      <td>NaN</td>\n",
       "      <td>NaN</td>\n",
       "      <td>1</td>\n",
       "      <td>...</td>\n",
       "      <td>-7.3920</td>\n",
       "      <td>NaN</td>\n",
       "      <td>-11.9048</td>\n",
       "      <td>NaN</td>\n",
       "      <td>NaN</td>\n",
       "      <td>NaN</td>\n",
       "      <td>QC'd by DPISMR</td>\n",
       "      <td>4</td>\n",
       "      <td>3</td>\n",
       "      <td>NP_000752.2</td>\n",
       "    </tr>\n",
       "    <tr>\n",
       "      <th>4</th>\n",
       "      <td>4</td>\n",
       "      <td>4</td>\n",
       "      <td>5</td>\n",
       "      <td>842238</td>\n",
       "      <td>6602638.0</td>\n",
       "      <td>2</td>\n",
       "      <td>NaN</td>\n",
       "      <td>NaN</td>\n",
       "      <td>NaN</td>\n",
       "      <td>1</td>\n",
       "      <td>...</td>\n",
       "      <td>-41.7035</td>\n",
       "      <td>NaN</td>\n",
       "      <td>-10.7694</td>\n",
       "      <td>NaN</td>\n",
       "      <td>NaN</td>\n",
       "      <td>NaN</td>\n",
       "      <td>QC'd by DPISMR</td>\n",
       "      <td>5</td>\n",
       "      <td>1</td>\n",
       "      <td>NP_000762.2</td>\n",
       "    </tr>\n",
       "  </tbody>\n",
       "</table>\n",
       "<p>5 rows × 46 columns</p>\n",
       "</div>"
      ],
      "text/plain": [
       "   Unnamed: 0  index  PUBCHEM_RESULT_TAG  PUBCHEM_SID  PUBCHEM_CID  \\\n",
       "0           0      0                   1       842238    6602638.0   \n",
       "1           1      1                   2       842238    6602638.0   \n",
       "2           2      2                   3       842238    6602638.0   \n",
       "3           3      3                   4       842238    6602638.0   \n",
       "4           4      4                   5       842238    6602638.0   \n",
       "\n",
       "   PUBCHEM_ACTIVITY_OUTCOME  PUBCHEM_ACTIVITY_SCORE  PUBCHEM_ACTIVITY_URL  \\\n",
       "0                         0                     NaN                   NaN   \n",
       "1                         2                     NaN                   NaN   \n",
       "2                         0                     NaN                   NaN   \n",
       "3                         0                     NaN                   NaN   \n",
       "4                         2                     NaN                   NaN   \n",
       "\n",
       "   PUBCHEM_ASSAYDATA_COMMENT  Inhibition Observed  ... Activity at 11.43 uM  \\\n",
       "0                        NaN                    1  ...               8.1486   \n",
       "1                        NaN                    1  ...              -8.5062   \n",
       "2                        NaN                    1  ...               0.4027   \n",
       "3                        NaN                    1  ...              -7.3920   \n",
       "4                        NaN                    1  ...             -41.7035   \n",
       "\n",
       "  Activity at 25.56 uM  Activity at 57.14 uM  Activity at 0.00164 uM  \\\n",
       "0                  NaN              -15.6281                     NaN   \n",
       "1                  NaN              -37.6308                     NaN   \n",
       "2                  NaN               -2.2935                     NaN   \n",
       "3                  NaN              -11.9048                     NaN   \n",
       "4                  NaN              -10.7694                     NaN   \n",
       "\n",
       "   Activity at 0.00366 uM Activity at 0.00818 uM     Compound QC  Panel ID  \\\n",
       "0                     NaN                    NaN  QC'd by DPISMR         1   \n",
       "1                     NaN                    NaN  QC'd by DPISMR         2   \n",
       "2                 -1.3363                    NaN  QC'd by DPISMR         3   \n",
       "3                     NaN                    NaN  QC'd by DPISMR         4   \n",
       "4                     NaN                    NaN  QC'd by DPISMR         5   \n",
       "\n",
       "   Panel Name    Panel Target  \n",
       "0           0     NP_000760.1  \n",
       "1           2  NP_001020332.1  \n",
       "2           4     NP_059488.2  \n",
       "3           3     NP_000752.2  \n",
       "4           1     NP_000762.2  \n",
       "\n",
       "[5 rows x 46 columns]"
      ]
     },
     "execution_count": 3,
     "metadata": {},
     "output_type": "execute_result"
    }
   ],
   "source": [
    "cyto_assay.head()"
   ]
  },
  {
   "cell_type": "code",
   "execution_count": 4,
   "id": "ignored-blind",
   "metadata": {},
   "outputs": [
    {
     "data": {
      "text/plain": [
       "Unnamed: 0                       0\n",
       "index                            0\n",
       "PUBCHEM_RESULT_TAG               0\n",
       "PUBCHEM_SID                      0\n",
       "PUBCHEM_CID                    110\n",
       "PUBCHEM_ACTIVITY_OUTCOME         0\n",
       "PUBCHEM_ACTIVITY_SCORE       85715\n",
       "PUBCHEM_ACTIVITY_URL         85715\n",
       "PUBCHEM_ASSAYDATA_COMMENT    85715\n",
       "Inhibition Observed              0\n",
       "Approved Drug                    0\n",
       "Collection                   80145\n",
       "Analysis Comment             85715\n",
       "Activity Score                   0\n",
       "Potency                      45031\n",
       "Curve_Description            42460\n",
       "Fit_LogAC50                  42606\n",
       "Fit_HillSlope                42606\n",
       "Fit_R2                       42606\n",
       "Fit_InfiniteActivity         42606\n",
       "Fit_ZeroActivity             42606\n",
       "Fit_CurveClass                   0\n",
       "Excluded_Points              42606\n",
       "Max_Response                     0\n",
       "Activity at 0.0007 uM        58389\n",
       "Activity at 0.00160 uM       73752\n",
       "Activity at 0.00368 uM       20779\n",
       "Activity at 0.00820 uM       73638\n",
       "Activity at 0.018 uM          1556\n",
       "Activity at 0.041 uM         71654\n",
       "Activity at 0.091 uM          3344\n",
       "Activity at 0.204 uM         72410\n",
       "Activity at 0.457 uM           875\n",
       "Activity at 1.022 uM         71564\n",
       "Activity at 2.286 uM            82\n",
       "Activity at 5.111 uM         71564\n",
       "Activity at 11.43 uM          4750\n",
       "Activity at 25.56 uM         71564\n",
       "Activity at 57.14 uM         21031\n",
       "Activity at 0.00164 uM       83680\n",
       "Activity at 0.00366 uM       68917\n",
       "Activity at 0.00818 uM       83720\n",
       "Compound QC                      0\n",
       "Panel ID                         0\n",
       "Panel Name                       0\n",
       "Panel Target                     0\n",
       "dtype: int64"
      ]
     },
     "execution_count": 4,
     "metadata": {},
     "output_type": "execute_result"
    }
   ],
   "source": [
    "cyto_assay.isnull().sum()"
   ]
  },
  {
   "cell_type": "code",
   "execution_count": 5,
   "id": "acting-vietnamese",
   "metadata": {},
   "outputs": [
    {
     "name": "stdout",
     "output_type": "stream",
     "text": [
      "<class 'pandas.core.frame.DataFrame'>\n",
      "RangeIndex: 85715 entries, 0 to 85714\n",
      "Data columns (total 46 columns):\n",
      " #   Column                     Non-Null Count  Dtype  \n",
      "---  ------                     --------------  -----  \n",
      " 0   Unnamed: 0                 85715 non-null  int64  \n",
      " 1   index                      85715 non-null  int64  \n",
      " 2   PUBCHEM_RESULT_TAG         85715 non-null  int64  \n",
      " 3   PUBCHEM_SID                85715 non-null  int64  \n",
      " 4   PUBCHEM_CID                85605 non-null  float64\n",
      " 5   PUBCHEM_ACTIVITY_OUTCOME   85715 non-null  int64  \n",
      " 6   PUBCHEM_ACTIVITY_SCORE     0 non-null      float64\n",
      " 7   PUBCHEM_ACTIVITY_URL       0 non-null      float64\n",
      " 8   PUBCHEM_ASSAYDATA_COMMENT  0 non-null      float64\n",
      " 9   Inhibition Observed        85715 non-null  int64  \n",
      " 10  Approved Drug              85715 non-null  object \n",
      " 11  Collection                 5570 non-null   object \n",
      " 12  Analysis Comment           0 non-null      float64\n",
      " 13  Activity Score             85715 non-null  int64  \n",
      " 14  Potency                    40684 non-null  float64\n",
      " 15  Curve_Description          43255 non-null  object \n",
      " 16  Fit_LogAC50                43109 non-null  float64\n",
      " 17  Fit_HillSlope              43109 non-null  float64\n",
      " 18  Fit_R2                     43109 non-null  float64\n",
      " 19  Fit_InfiniteActivity       43109 non-null  float64\n",
      " 20  Fit_ZeroActivity           43109 non-null  float64\n",
      " 21  Fit_CurveClass             85715 non-null  float64\n",
      " 22  Excluded_Points            43109 non-null  object \n",
      " 23  Max_Response               85715 non-null  float64\n",
      " 24  Activity at 0.0007 uM      27326 non-null  float64\n",
      " 25  Activity at 0.00160 uM     11963 non-null  float64\n",
      " 26  Activity at 0.00368 uM     64936 non-null  float64\n",
      " 27  Activity at 0.00820 uM     12077 non-null  float64\n",
      " 28  Activity at 0.018 uM       84159 non-null  float64\n",
      " 29  Activity at 0.041 uM       14061 non-null  float64\n",
      " 30  Activity at 0.091 uM       82371 non-null  float64\n",
      " 31  Activity at 0.204 uM       13305 non-null  float64\n",
      " 32  Activity at 0.457 uM       84840 non-null  float64\n",
      " 33  Activity at 1.022 uM       14151 non-null  float64\n",
      " 34  Activity at 2.286 uM       85633 non-null  float64\n",
      " 35  Activity at 5.111 uM       14151 non-null  float64\n",
      " 36  Activity at 11.43 uM       80965 non-null  float64\n",
      " 37  Activity at 25.56 uM       14151 non-null  float64\n",
      " 38  Activity at 57.14 uM       64684 non-null  float64\n",
      " 39  Activity at 0.00164 uM     2035 non-null   float64\n",
      " 40  Activity at 0.00366 uM     16798 non-null  float64\n",
      " 41  Activity at 0.00818 uM     1995 non-null   float64\n",
      " 42  Compound QC                85715 non-null  object \n",
      " 43  Panel ID                   85715 non-null  int64  \n",
      " 44  Panel Name                 85715 non-null  int64  \n",
      " 45  Panel Target               85715 non-null  object \n",
      "dtypes: float64(31), int64(9), object(6)\n",
      "memory usage: 30.1+ MB\n"
     ]
    }
   ],
   "source": [
    "cyto_assay.info()"
   ]
  },
  {
   "cell_type": "code",
   "execution_count": 6,
   "id": "atmospheric-pepper",
   "metadata": {},
   "outputs": [
    {
     "data": {
      "text/plain": [
       "array([1, 0])"
      ]
     },
     "execution_count": 6,
     "metadata": {},
     "output_type": "execute_result"
    }
   ],
   "source": [
    "cyto_assay['Inhibition Observed'].unique()"
   ]
  },
  {
   "cell_type": "code",
   "execution_count": 7,
   "id": "specialized-arizona",
   "metadata": {},
   "outputs": [
    {
     "data": {
      "text/plain": [
       "method"
      ]
     },
     "execution_count": 7,
     "metadata": {},
     "output_type": "execute_result"
    }
   ],
   "source": [
    "type(cyto_assay['Inhibition Observed'].items)"
   ]
  },
  {
   "cell_type": "code",
   "execution_count": 8,
   "id": "hindu-psychology",
   "metadata": {},
   "outputs": [],
   "source": [
    "cyto_assay['Inhibition Observed'] = cyto_assay['Inhibition Observed'].map({True:1, False:0}).astype(int)"
   ]
  },
  {
   "cell_type": "code",
   "execution_count": 9,
   "id": "after-twins",
   "metadata": {},
   "outputs": [],
   "source": [
    "# pd.to_numeric(cyto_assay['Inhibition Observed'], errors='coerce')"
   ]
  },
  {
   "cell_type": "code",
   "execution_count": 10,
   "id": "hydraulic-plymouth",
   "metadata": {},
   "outputs": [
    {
     "data": {
      "text/plain": [
       "array([1, 0])"
      ]
     },
     "execution_count": 10,
     "metadata": {},
     "output_type": "execute_result"
    }
   ],
   "source": [
    "cyto_assay['Inhibition Observed'].unique()"
   ]
  },
  {
   "cell_type": "code",
   "execution_count": 11,
   "id": "metropolitan-scanner",
   "metadata": {},
   "outputs": [
    {
     "data": {
      "text/html": [
       "<div>\n",
       "<style scoped>\n",
       "    .dataframe tbody tr th:only-of-type {\n",
       "        vertical-align: middle;\n",
       "    }\n",
       "\n",
       "    .dataframe tbody tr th {\n",
       "        vertical-align: top;\n",
       "    }\n",
       "\n",
       "    .dataframe thead th {\n",
       "        text-align: right;\n",
       "    }\n",
       "</style>\n",
       "<table border=\"1\" class=\"dataframe\">\n",
       "  <thead>\n",
       "    <tr style=\"text-align: right;\">\n",
       "      <th></th>\n",
       "      <th>Inhibition Observed</th>\n",
       "    </tr>\n",
       "  </thead>\n",
       "  <tbody>\n",
       "    <tr>\n",
       "      <th>Inhibition Observed</th>\n",
       "      <td>1.000000e+00</td>\n",
       "    </tr>\n",
       "    <tr>\n",
       "      <th>PUBCHEM_ACTIVITY_OUTCOME</th>\n",
       "      <td>3.474567e-01</td>\n",
       "    </tr>\n",
       "    <tr>\n",
       "      <th>Activity Score</th>\n",
       "      <td>2.915571e-01</td>\n",
       "    </tr>\n",
       "    <tr>\n",
       "      <th>Activity at 0.00366 uM</th>\n",
       "      <td>7.033316e-02</td>\n",
       "    </tr>\n",
       "    <tr>\n",
       "      <th>Activity at 0.00164 uM</th>\n",
       "      <td>6.621039e-02</td>\n",
       "    </tr>\n",
       "    <tr>\n",
       "      <th>PUBCHEM_SID</th>\n",
       "      <td>5.134221e-02</td>\n",
       "    </tr>\n",
       "    <tr>\n",
       "      <th>Unnamed: 0</th>\n",
       "      <td>3.583945e-02</td>\n",
       "    </tr>\n",
       "    <tr>\n",
       "      <th>PUBCHEM_RESULT_TAG</th>\n",
       "      <td>3.583945e-02</td>\n",
       "    </tr>\n",
       "    <tr>\n",
       "      <th>index</th>\n",
       "      <td>3.583945e-02</td>\n",
       "    </tr>\n",
       "    <tr>\n",
       "      <th>Activity at 0.00368 uM</th>\n",
       "      <td>3.316173e-02</td>\n",
       "    </tr>\n",
       "    <tr>\n",
       "      <th>Activity at 0.0007 uM</th>\n",
       "      <td>2.891249e-02</td>\n",
       "    </tr>\n",
       "    <tr>\n",
       "      <th>Activity at 0.018 uM</th>\n",
       "      <td>2.753763e-02</td>\n",
       "    </tr>\n",
       "    <tr>\n",
       "      <th>Activity at 0.00820 uM</th>\n",
       "      <td>1.995518e-02</td>\n",
       "    </tr>\n",
       "    <tr>\n",
       "      <th>Activity at 0.041 uM</th>\n",
       "      <td>1.794951e-02</td>\n",
       "    </tr>\n",
       "    <tr>\n",
       "      <th>Activity at 0.00818 uM</th>\n",
       "      <td>1.565848e-02</td>\n",
       "    </tr>\n",
       "    <tr>\n",
       "      <th>Activity at 0.091 uM</th>\n",
       "      <td>3.563709e-03</td>\n",
       "    </tr>\n",
       "    <tr>\n",
       "      <th>Panel ID</th>\n",
       "      <td>5.482093e-21</td>\n",
       "    </tr>\n",
       "    <tr>\n",
       "      <th>Panel Name</th>\n",
       "      <td>0.000000e+00</td>\n",
       "    </tr>\n",
       "    <tr>\n",
       "      <th>Activity at 0.00160 uM</th>\n",
       "      <td>-3.058101e-02</td>\n",
       "    </tr>\n",
       "    <tr>\n",
       "      <th>Activity at 0.457 uM</th>\n",
       "      <td>-3.182339e-02</td>\n",
       "    </tr>\n",
       "    <tr>\n",
       "      <th>PUBCHEM_CID</th>\n",
       "      <td>-4.061329e-02</td>\n",
       "    </tr>\n",
       "    <tr>\n",
       "      <th>Activity at 0.204 uM</th>\n",
       "      <td>-6.038734e-02</td>\n",
       "    </tr>\n",
       "    <tr>\n",
       "      <th>Activity at 1.022 uM</th>\n",
       "      <td>-1.029053e-01</td>\n",
       "    </tr>\n",
       "    <tr>\n",
       "      <th>Activity at 2.286 uM</th>\n",
       "      <td>-1.150876e-01</td>\n",
       "    </tr>\n",
       "    <tr>\n",
       "      <th>Activity at 5.111 uM</th>\n",
       "      <td>-1.830307e-01</td>\n",
       "    </tr>\n",
       "    <tr>\n",
       "      <th>Activity at 11.43 uM</th>\n",
       "      <td>-1.914658e-01</td>\n",
       "    </tr>\n",
       "    <tr>\n",
       "      <th>Activity at 57.14 uM</th>\n",
       "      <td>-2.074953e-01</td>\n",
       "    </tr>\n",
       "    <tr>\n",
       "      <th>Max_Response</th>\n",
       "      <td>-2.657326e-01</td>\n",
       "    </tr>\n",
       "    <tr>\n",
       "      <th>Activity at 25.56 uM</th>\n",
       "      <td>-2.854363e-01</td>\n",
       "    </tr>\n",
       "    <tr>\n",
       "      <th>Fit_CurveClass</th>\n",
       "      <td>-3.724744e-01</td>\n",
       "    </tr>\n",
       "    <tr>\n",
       "      <th>PUBCHEM_ACTIVITY_SCORE</th>\n",
       "      <td>NaN</td>\n",
       "    </tr>\n",
       "    <tr>\n",
       "      <th>PUBCHEM_ACTIVITY_URL</th>\n",
       "      <td>NaN</td>\n",
       "    </tr>\n",
       "    <tr>\n",
       "      <th>PUBCHEM_ASSAYDATA_COMMENT</th>\n",
       "      <td>NaN</td>\n",
       "    </tr>\n",
       "    <tr>\n",
       "      <th>Analysis Comment</th>\n",
       "      <td>NaN</td>\n",
       "    </tr>\n",
       "    <tr>\n",
       "      <th>Potency</th>\n",
       "      <td>NaN</td>\n",
       "    </tr>\n",
       "    <tr>\n",
       "      <th>Fit_LogAC50</th>\n",
       "      <td>NaN</td>\n",
       "    </tr>\n",
       "    <tr>\n",
       "      <th>Fit_HillSlope</th>\n",
       "      <td>NaN</td>\n",
       "    </tr>\n",
       "    <tr>\n",
       "      <th>Fit_R2</th>\n",
       "      <td>NaN</td>\n",
       "    </tr>\n",
       "    <tr>\n",
       "      <th>Fit_InfiniteActivity</th>\n",
       "      <td>NaN</td>\n",
       "    </tr>\n",
       "    <tr>\n",
       "      <th>Fit_ZeroActivity</th>\n",
       "      <td>NaN</td>\n",
       "    </tr>\n",
       "  </tbody>\n",
       "</table>\n",
       "</div>"
      ],
      "text/plain": [
       "                           Inhibition Observed\n",
       "Inhibition Observed               1.000000e+00\n",
       "PUBCHEM_ACTIVITY_OUTCOME          3.474567e-01\n",
       "Activity Score                    2.915571e-01\n",
       "Activity at 0.00366 uM            7.033316e-02\n",
       "Activity at 0.00164 uM            6.621039e-02\n",
       "PUBCHEM_SID                       5.134221e-02\n",
       "Unnamed: 0                        3.583945e-02\n",
       "PUBCHEM_RESULT_TAG                3.583945e-02\n",
       "index                             3.583945e-02\n",
       "Activity at 0.00368 uM            3.316173e-02\n",
       "Activity at 0.0007 uM             2.891249e-02\n",
       "Activity at 0.018 uM              2.753763e-02\n",
       "Activity at 0.00820 uM            1.995518e-02\n",
       "Activity at 0.041 uM              1.794951e-02\n",
       "Activity at 0.00818 uM            1.565848e-02\n",
       "Activity at 0.091 uM              3.563709e-03\n",
       "Panel ID                          5.482093e-21\n",
       "Panel Name                        0.000000e+00\n",
       "Activity at 0.00160 uM           -3.058101e-02\n",
       "Activity at 0.457 uM             -3.182339e-02\n",
       "PUBCHEM_CID                      -4.061329e-02\n",
       "Activity at 0.204 uM             -6.038734e-02\n",
       "Activity at 1.022 uM             -1.029053e-01\n",
       "Activity at 2.286 uM             -1.150876e-01\n",
       "Activity at 5.111 uM             -1.830307e-01\n",
       "Activity at 11.43 uM             -1.914658e-01\n",
       "Activity at 57.14 uM             -2.074953e-01\n",
       "Max_Response                     -2.657326e-01\n",
       "Activity at 25.56 uM             -2.854363e-01\n",
       "Fit_CurveClass                   -3.724744e-01\n",
       "PUBCHEM_ACTIVITY_SCORE                     NaN\n",
       "PUBCHEM_ACTIVITY_URL                       NaN\n",
       "PUBCHEM_ASSAYDATA_COMMENT                  NaN\n",
       "Analysis Comment                           NaN\n",
       "Potency                                    NaN\n",
       "Fit_LogAC50                                NaN\n",
       "Fit_HillSlope                              NaN\n",
       "Fit_R2                                     NaN\n",
       "Fit_InfiniteActivity                       NaN\n",
       "Fit_ZeroActivity                           NaN"
      ]
     },
     "execution_count": 11,
     "metadata": {},
     "output_type": "execute_result"
    }
   ],
   "source": [
    "cyto_assay_corr = (cyto_assay.corr()[['Inhibition Observed']].sort_values(by='Inhibition Observed', ascending=False))\n",
    "cyto_assay_corr"
   ]
  },
  {
   "cell_type": "code",
   "execution_count": 12,
   "id": "painted-cancellation",
   "metadata": {},
   "outputs": [
    {
     "data": {
      "text/plain": [
       "Unnamed: 0                       0\n",
       "index                            0\n",
       "PUBCHEM_RESULT_TAG               0\n",
       "PUBCHEM_SID                      0\n",
       "PUBCHEM_CID                    110\n",
       "PUBCHEM_ACTIVITY_OUTCOME         0\n",
       "PUBCHEM_ACTIVITY_SCORE       85715\n",
       "PUBCHEM_ACTIVITY_URL         85715\n",
       "PUBCHEM_ASSAYDATA_COMMENT    85715\n",
       "Inhibition Observed              0\n",
       "Approved Drug                    0\n",
       "Collection                   80145\n",
       "Analysis Comment             85715\n",
       "Activity Score                   0\n",
       "Potency                      45031\n",
       "Curve_Description            42460\n",
       "Fit_LogAC50                  42606\n",
       "Fit_HillSlope                42606\n",
       "Fit_R2                       42606\n",
       "Fit_InfiniteActivity         42606\n",
       "Fit_ZeroActivity             42606\n",
       "Fit_CurveClass                   0\n",
       "Excluded_Points              42606\n",
       "Max_Response                     0\n",
       "Activity at 0.0007 uM        58389\n",
       "Activity at 0.00160 uM       73752\n",
       "Activity at 0.00368 uM       20779\n",
       "Activity at 0.00820 uM       73638\n",
       "Activity at 0.018 uM          1556\n",
       "Activity at 0.041 uM         71654\n",
       "Activity at 0.091 uM          3344\n",
       "Activity at 0.204 uM         72410\n",
       "Activity at 0.457 uM           875\n",
       "Activity at 1.022 uM         71564\n",
       "Activity at 2.286 uM            82\n",
       "Activity at 5.111 uM         71564\n",
       "Activity at 11.43 uM          4750\n",
       "Activity at 25.56 uM         71564\n",
       "Activity at 57.14 uM         21031\n",
       "Activity at 0.00164 uM       83680\n",
       "Activity at 0.00366 uM       68917\n",
       "Activity at 0.00818 uM       83720\n",
       "Compound QC                      0\n",
       "Panel ID                         0\n",
       "Panel Name                       0\n",
       "Panel Target                     0\n",
       "dtype: int64"
      ]
     },
     "execution_count": 12,
     "metadata": {},
     "output_type": "execute_result"
    }
   ],
   "source": [
    "cyto_assay.isnull().sum()"
   ]
  },
  {
   "cell_type": "code",
   "execution_count": 13,
   "id": "dependent-trader",
   "metadata": {},
   "outputs": [],
   "source": [
    "features = cyto_assay.select_dtypes(include=['float64','int64'])\n",
    "\n",
    "X = features\n",
    "y = 'Inhibition Observed'"
   ]
  },
  {
   "cell_type": "code",
   "execution_count": 14,
   "id": "governmental-tension",
   "metadata": {},
   "outputs": [
    {
     "data": {
      "text/plain": [
       "array(['Biodiverse', 'Exploratory'], dtype=object)"
      ]
     },
     "execution_count": 14,
     "metadata": {},
     "output_type": "execute_result"
    }
   ],
   "source": [
    "cyto_assay['Approved Drug'].unique()"
   ]
  },
  {
   "cell_type": "code",
   "execution_count": 15,
   "id": "analyzed-studio",
   "metadata": {},
   "outputs": [],
   "source": [
    "cyto_assay['Approved Drug'] = cyto_assay['Approved Drug'].replace({'Biodiverse':'1', 'Exploratory':'0'}).astype(float)"
   ]
  },
  {
   "cell_type": "code",
   "execution_count": 16,
   "id": "delayed-thailand",
   "metadata": {},
   "outputs": [
    {
     "data": {
      "text/plain": [
       "array([\"QC'd by DPISMR\", \"QC'd by Pharmacopeia\", \"QC'd by NCI\",\n",
       "       \"QC'd by Prestwick\", \"QC'd by SigmaAldrich\", \"QC'd by Tocris\",\n",
       "       \"QC'd by UPCMLD\", \"QC'd by ChemBridge\", \"QC'd by BUCMLD\"],\n",
       "      dtype=object)"
      ]
     },
     "execution_count": 16,
     "metadata": {},
     "output_type": "execute_result"
    }
   ],
   "source": [
    "cyto_assay['Compound QC'].unique()"
   ]
  },
  {
   "cell_type": "code",
   "execution_count": 17,
   "id": "satisfactory-norway",
   "metadata": {},
   "outputs": [
    {
     "data": {
      "image/png": "[encoded data removed]",
      "text/plain": [
       "<Figure size 432x288 with 1 Axes>"
      ]
     },
     "metadata": {
      "image/png": {
       "height": 280,
       "width": 424
      },
      "needs_background": "light"
     },
     "output_type": "display_data"
    }
   ],
   "source": [
    "plt.hist(cyto_assay['Activity at 11.43 uM'])\n",
    "plt.tight_layout();"
   ]
  },
  {
   "cell_type": "code",
   "execution_count": 18,
   "id": "experienced-change",
   "metadata": {},
   "outputs": [
    {
     "data": {
      "image/png": "[encoded data removed]",
      "text/plain": [
       "<Figure size 432x288 with 1 Axes>"
      ]
     },
     "metadata": {
      "image/png": {
       "height": 280,
       "width": 424
      },
      "needs_background": "light"
     },
     "output_type": "display_data"
    }
   ],
   "source": [
    "plt.hist(cyto_assay['Activity at 57.14 uM'])\n",
    "plt.tight_layout();"
   ]
  },
  {
   "cell_type": "code",
   "execution_count": 19,
   "id": "serious-peace",
   "metadata": {},
   "outputs": [
    {
     "data": {
      "image/png": "[encoded data removed]",
      "text/plain": [
       "<Figure size 432x288 with 1 Axes>"
      ]
     },
     "metadata": {
      "image/png": {
       "height": 279,
       "width": 424
      },
      "needs_background": "light"
     },
     "output_type": "display_data"
    }
   ],
   "source": [
    "plt.hist(cyto_assay['Potency'])\n",
    "plt.tight_layout();"
   ]
  },
  {
   "cell_type": "code",
   "execution_count": 20,
   "id": "improved-assumption",
   "metadata": {},
   "outputs": [],
   "source": [
    "X = cyp2c19.drop(columns=['PUBCHEM_ACTIVITY_OUTCOME', 'Inhibition Observed'], axis=1)\n",
    "y = cyp2c19['Inhibition Observed']"
   ]
  },
  {
   "cell_type": "code",
   "execution_count": 21,
   "id": "cathedral-ground",
   "metadata": {},
   "outputs": [
    {
     "data": {
      "text/html": [
       "<div>\n",
       "<style scoped>\n",
       "    .dataframe tbody tr th:only-of-type {\n",
       "        vertical-align: middle;\n",
       "    }\n",
       "\n",
       "    .dataframe tbody tr th {\n",
       "        vertical-align: top;\n",
       "    }\n",
       "\n",
       "    .dataframe thead th {\n",
       "        text-align: right;\n",
       "    }\n",
       "</style>\n",
       "<table border=\"1\" class=\"dataframe\">\n",
       "  <thead>\n",
       "    <tr style=\"text-align: right;\">\n",
       "      <th></th>\n",
       "      <th>index</th>\n",
       "      <th>0</th>\n",
       "      <th>1</th>\n",
       "      <th>2</th>\n",
       "      <th>3</th>\n",
       "      <th>4</th>\n",
       "      <th>5</th>\n",
       "      <th>6</th>\n",
       "      <th>7</th>\n",
       "      <th>8</th>\n",
       "      <th>...</th>\n",
       "      <th>54</th>\n",
       "      <th>55</th>\n",
       "      <th>56</th>\n",
       "      <th>57</th>\n",
       "      <th>58</th>\n",
       "      <th>59</th>\n",
       "      <th>60</th>\n",
       "      <th>61</th>\n",
       "      <th>62</th>\n",
       "      <th>63</th>\n",
       "    </tr>\n",
       "  </thead>\n",
       "  <tbody>\n",
       "    <tr>\n",
       "      <th>0</th>\n",
       "      <td>5</td>\n",
       "      <td>1</td>\n",
       "      <td>1</td>\n",
       "      <td>1</td>\n",
       "      <td>0</td>\n",
       "      <td>1</td>\n",
       "      <td>1</td>\n",
       "      <td>0</td>\n",
       "      <td>0</td>\n",
       "      <td>1</td>\n",
       "      <td>...</td>\n",
       "      <td>1</td>\n",
       "      <td>1</td>\n",
       "      <td>0</td>\n",
       "      <td>0</td>\n",
       "      <td>0</td>\n",
       "      <td>0</td>\n",
       "      <td>0</td>\n",
       "      <td>1</td>\n",
       "      <td>0</td>\n",
       "      <td>0</td>\n",
       "    </tr>\n",
       "    <tr>\n",
       "      <th>1</th>\n",
       "      <td>10</td>\n",
       "      <td>1</td>\n",
       "      <td>0</td>\n",
       "      <td>0</td>\n",
       "      <td>0</td>\n",
       "      <td>1</td>\n",
       "      <td>1</td>\n",
       "      <td>0</td>\n",
       "      <td>0</td>\n",
       "      <td>0</td>\n",
       "      <td>...</td>\n",
       "      <td>0</td>\n",
       "      <td>0</td>\n",
       "      <td>0</td>\n",
       "      <td>1</td>\n",
       "      <td>1</td>\n",
       "      <td>1</td>\n",
       "      <td>0</td>\n",
       "      <td>0</td>\n",
       "      <td>1</td>\n",
       "      <td>0</td>\n",
       "    </tr>\n",
       "    <tr>\n",
       "      <th>2</th>\n",
       "      <td>15</td>\n",
       "      <td>0</td>\n",
       "      <td>0</td>\n",
       "      <td>0</td>\n",
       "      <td>0</td>\n",
       "      <td>0</td>\n",
       "      <td>0</td>\n",
       "      <td>0</td>\n",
       "      <td>0</td>\n",
       "      <td>0</td>\n",
       "      <td>...</td>\n",
       "      <td>1</td>\n",
       "      <td>1</td>\n",
       "      <td>1</td>\n",
       "      <td>0</td>\n",
       "      <td>1</td>\n",
       "      <td>0</td>\n",
       "      <td>0</td>\n",
       "      <td>1</td>\n",
       "      <td>0</td>\n",
       "      <td>0</td>\n",
       "    </tr>\n",
       "    <tr>\n",
       "      <th>3</th>\n",
       "      <td>20</td>\n",
       "      <td>0</td>\n",
       "      <td>0</td>\n",
       "      <td>0</td>\n",
       "      <td>0</td>\n",
       "      <td>0</td>\n",
       "      <td>1</td>\n",
       "      <td>0</td>\n",
       "      <td>1</td>\n",
       "      <td>1</td>\n",
       "      <td>...</td>\n",
       "      <td>1</td>\n",
       "      <td>0</td>\n",
       "      <td>1</td>\n",
       "      <td>1</td>\n",
       "      <td>1</td>\n",
       "      <td>0</td>\n",
       "      <td>0</td>\n",
       "      <td>1</td>\n",
       "      <td>0</td>\n",
       "      <td>1</td>\n",
       "    </tr>\n",
       "    <tr>\n",
       "      <th>4</th>\n",
       "      <td>25</td>\n",
       "      <td>1</td>\n",
       "      <td>1</td>\n",
       "      <td>1</td>\n",
       "      <td>1</td>\n",
       "      <td>1</td>\n",
       "      <td>0</td>\n",
       "      <td>0</td>\n",
       "      <td>0</td>\n",
       "      <td>1</td>\n",
       "      <td>...</td>\n",
       "      <td>0</td>\n",
       "      <td>1</td>\n",
       "      <td>1</td>\n",
       "      <td>0</td>\n",
       "      <td>1</td>\n",
       "      <td>1</td>\n",
       "      <td>0</td>\n",
       "      <td>1</td>\n",
       "      <td>0</td>\n",
       "      <td>1</td>\n",
       "    </tr>\n",
       "  </tbody>\n",
       "</table>\n",
       "<p>5 rows × 65 columns</p>\n",
       "</div>"
      ],
      "text/plain": [
       "   index  0  1  2  3  4  5  6  7  8  ...  54  55  56  57  58  59  60  61  62  \\\n",
       "0      5  1  1  1  0  1  1  0  0  1  ...   1   1   0   0   0   0   0   1   0   \n",
       "1     10  1  0  0  0  1  1  0  0  0  ...   0   0   0   1   1   1   0   0   1   \n",
       "2     15  0  0  0  0  0  0  0  0  0  ...   1   1   1   0   1   0   0   1   0   \n",
       "3     20  0  0  0  0  0  1  0  1  1  ...   1   0   1   1   1   0   0   1   0   \n",
       "4     25  1  1  1  1  1  0  0  0  1  ...   0   1   1   0   1   1   0   1   0   \n",
       "\n",
       "   63  \n",
       "0   0  \n",
       "1   0  \n",
       "2   0  \n",
       "3   1  \n",
       "4   1  \n",
       "\n",
       "[5 rows x 65 columns]"
      ]
     },
     "execution_count": 21,
     "metadata": {},
     "output_type": "execute_result"
    }
   ],
   "source": [
    "X.head()"
   ]
  },
  {
   "cell_type": "markdown",
   "id": "cooperative-tract",
   "metadata": {},
   "source": [
    "## Feature Importance"
   ]
  },
  {
   "cell_type": "code",
   "execution_count": 22,
   "id": "roman-thesaurus",
   "metadata": {},
   "outputs": [
    {
     "name": "stdout",
     "output_type": "stream",
     "text": [
      "Automatically created module for IPython interactive environment\n",
      "1. feature 0 (0.029288)\n",
      "2. feature 54 (0.018357)\n",
      "3. feature 28 (0.018053)\n",
      "4. feature 26 (0.017984)\n",
      "5. feature 13 (0.017855)\n",
      "6. feature 43 (0.017687)\n",
      "7. feature 5 (0.017638)\n",
      "8. feature 25 (0.017630)\n",
      "9. feature 15 (0.017562)\n",
      "10. feature 9 (0.017558)\n",
      "11. feature 64 (0.017467)\n",
      "12. feature 45 (0.017367)\n",
      "13. feature 12 (0.017347)\n",
      "14. feature 4 (0.017273)\n",
      "15. feature 47 (0.017253)\n",
      "16. feature 2 (0.017226)\n",
      "17. feature 32 (0.017201)\n",
      "18. feature 33 (0.017155)\n",
      "19. feature 36 (0.017087)\n",
      "20. feature 7 (0.017021)\n",
      "21. feature 57 (0.017009)\n",
      "22. feature 38 (0.016948)\n",
      "23. feature 20 (0.016937)\n",
      "24. feature 21 (0.016901)\n",
      "25. feature 50 (0.016871)\n",
      "26. feature 41 (0.016861)\n",
      "27. feature 16 (0.016836)\n",
      "28. feature 6 (0.016697)\n",
      "29. feature 46 (0.016680)\n",
      "30. feature 8 (0.016667)\n",
      "31. feature 14 (0.016619)\n",
      "32. feature 42 (0.016540)\n",
      "33. feature 27 (0.016533)\n",
      "34. feature 22 (0.016450)\n",
      "35. feature 55 (0.016422)\n",
      "36. feature 44 (0.016199)\n",
      "37. feature 63 (0.016199)\n",
      "38. feature 49 (0.016149)\n",
      "39. feature 29 (0.016018)\n",
      "40. feature 30 (0.015990)\n",
      "41. feature 60 (0.015878)\n",
      "42. feature 52 (0.015856)\n",
      "43. feature 51 (0.015716)\n",
      "44. feature 39 (0.015667)\n",
      "45. feature 58 (0.015470)\n",
      "46. feature 31 (0.015421)\n",
      "47. feature 10 (0.015399)\n",
      "48. feature 35 (0.015390)\n",
      "49. feature 53 (0.014809)\n",
      "50. feature 3 (0.014708)\n",
      "51. feature 19 (0.014600)\n",
      "52. feature 48 (0.014583)\n",
      "53. feature 56 (0.014411)\n",
      "54. feature 24 (0.013658)\n",
      "55. feature 59 (0.013205)\n",
      "56. feature 17 (0.012421)\n",
      "57. feature 61 (0.011552)\n",
      "58. feature 62 (0.011498)\n",
      "59. feature 23 (0.007897)\n",
      "60. feature 34 (0.007883)\n",
      "61. feature 11 (0.007836)\n",
      "62. feature 1 (0.007763)\n",
      "63. feature 40 (0.007111)\n",
      "64. feature 37 (0.003889)\n",
      "65. feature 18 (0.003844)\n"
     ]
    },
    {
     "data": {
      "text/plain": [
       "<Figure size 432x288 with 0 Axes>"
      ]
     },
     "metadata": {},
     "output_type": "display_data"
    },
    {
     "data": {
      "image/png": "[encoded data removed]",
      "text/plain": [
       "<Figure size 864x864 with 1 Axes>"
      ]
     },
     "metadata": {
      "image/png": {
       "height": 698,
       "width": 719
      },
      "needs_background": "light"
     },
     "output_type": "display_data"
    }
   ],
   "source": [
    "print(__doc__)\n",
    "\n",
    "forest = ExtraTreesClassifier(n_estimators=250,\n",
    "                              random_state=0)\n",
    "\n",
    "forest.fit(X, y)\n",
    "importances = forest.feature_importances_\n",
    "std = np.std([tree.feature_importances_ for tree in forest.estimators_],\n",
    "             axis=0)\n",
    "indices = np.argsort(importances)[::-1]\n",
    "\n",
    "# Print the feature ranking\n",
    "# print(\"Feature ranking:\")\n",
    "\n",
    "for f in range(X.shape[1]):\n",
    "    print(\"%d. feature %d (%f)\" % (f + 1, indices[f], importances[indices[f]]))\n",
    "\n",
    "# Plot the impurity-based feature importances of the forest\n",
    "plt.figure()\n",
    "plt.figure(figsize = (12,12))\n",
    "plt.title(\"Feature importances\")\n",
    "plt.bar(range(X.shape[1]), importances[indices],\n",
    "        color=\"r\", yerr=std[indices], align=\"center\")\n",
    "plt.xticks(range(X.shape[1]), indices)\n",
    "plt.xlim([-1, X.shape[1]])\n",
    "plt.show()"
   ]
  },
  {
   "cell_type": "markdown",
   "id": "congressional-inventory",
   "metadata": {},
   "source": [
    "## 128 Bit cyp2c19_df"
   ]
  },
  {
   "cell_type": "code",
   "execution_count": null,
   "id": "wrapped-community",
   "metadata": {},
   "outputs": [],
   "source": []
  },
  {
   "cell_type": "code",
   "execution_count": 23,
   "id": "nutritional-disabled",
   "metadata": {},
   "outputs": [],
   "source": [
    "X = cyp2c19_128.drop(columns=['PUBCHEM_ACTIVITY_OUTCOME', 'Inhibition Observed'], axis=1)\n",
    "y = cyp2c19_128['Inhibition Observed']"
   ]
  },
  {
   "cell_type": "code",
   "execution_count": null,
   "id": "streaming-equality",
   "metadata": {},
   "outputs": [
    {
     "name": "stdout",
     "output_type": "stream",
     "text": [
      "Automatically created module for IPython interactive environment\n"
     ]
    }
   ],
   "source": [
    "print(__doc__)\n",
    "\n",
    "import numpy as np\n",
    "import matplotlib.pyplot as plt\n",
    "from sklearn.ensemble import ExtraTreesClassifier\n",
    "\n",
    "forest = ExtraTreesClassifier(n_estimators=250,\n",
    "                              random_state=0)\n",
    "\n",
    "forest.fit(X, y)\n",
    "importances = forest.feature_importances_\n",
    "std = np.std([tree.feature_importances_ for tree in forest.estimators_],\n",
    "             axis=0)\n",
    "indices = np.argsort(importances)[::-1]\n",
    "\n",
    "# Print the feature ranking\n",
    "# print(\"Feature ranking:\")\n",
    "\n",
    "# for f in range(X.shape[1]):\n",
    "#     print(\"%d. feature %d (%f)\" % (f + 1, indices[f], importances[indices[f]]))\n",
    "\n",
    "# Plot the impurity-based feature importances of the forest\n",
    "plt.figure()\n",
    "plt.figure(figsize = (12,12))\n",
    "plt.title(\"Feature importances\")\n",
    "plt.bar(range(X.shape[1]), importances[indices],\n",
    "        color=\"r\", yerr=std[indices], align=\"center\")\n",
    "plt.xticks(range(X.shape[1]), indices)\n",
    "plt.xlim([-1, X.shape[1]])\n",
    "plt.show()"
   ]
  },
  {
   "cell_type": "markdown",
   "id": "prompt-bangladesh",
   "metadata": {},
   "source": [
    "## 512 bit"
   ]
  },
  {
   "cell_type": "code",
   "execution_count": null,
   "id": "deadly-accounting",
   "metadata": {},
   "outputs": [],
   "source": [
    "X = cyp2c19_128.drop(columns=['PUBCHEM_ACTIVITY_OUTCOME', 'Inhibition Observed'], axis=1)\n",
    "y = cyp2c19_128['Inhibition Observed']"
   ]
  },
  {
   "cell_type": "code",
   "execution_count": null,
   "id": "whole-timothy",
   "metadata": {},
   "outputs": [],
   "source": [
    "print(__doc__)\n",
    "\n",
    "forest = ExtraTreesClassifier(n_estimators=250,\n",
    "                              random_state=0)\n",
    "\n",
    "forest.fit(X, y)\n",
    "importances = forest.feature_importances_\n",
    "std = np.std([tree.feature_importances_ for tree in forest.estimators_],\n",
    "             axis=0)\n",
    "indices = np.argsort(importances)[::-1]\n",
    "\n",
    "# Print the feature ranking\n",
    "# print(\"Feature ranking:\")\n",
    "\n",
    "# for f in range(X.shape[1]):\n",
    "#     print(\"%d. feature %d (%f)\" % (f + 1, indices[f], importances[indices[f]]))\n",
    "\n",
    "# Plot the impurity-based feature importances of the forest\n",
    "plt.figure()\n",
    "plt.figure(figsize = (12,12))\n",
    "plt.title(\"Feature importances\")\n",
    "plt.bar(range(X.shape[1]), importances[indices],\n",
    "        color=\"r\", yerr=std[indices], align=\"center\")\n",
    "plt.xticks(range(X.shape[1]), indices)\n",
    "plt.xlim([-1, X.shape[1]])\n",
    "plt.tight_layout()\n",
    "plt.show();"
   ]
  },
  {
   "cell_type": "markdown",
   "id": "realistic-windsor",
   "metadata": {},
   "source": [
    "## More is not better - on to Swiss Features"
   ]
  },
  {
   "cell_type": "markdown",
   "id": "familiar-sleeve",
   "metadata": {},
   "source": [
    "## Swiss Features by enzyme"
   ]
  },
  {
   "cell_type": "code",
   "execution_count": null,
   "id": "joint-sociology",
   "metadata": {},
   "outputs": [],
   "source": [
    "def plot_swiss_feat_importance(swiss_feat):\n",
    "    print(__doc__)\n",
    "    \n",
    "    X = swiss_feat.drop(columns=['index', 'Inhibition Observed'], axis=1)\n",
    "    y = swiss_feat['Inhibition Observed']\n",
    "\n",
    "    forest = ExtraTreesClassifier(n_estimators=250,\n",
    "                                  random_state=0)\n",
    "\n",
    "    forest.fit(X, y)\n",
    "    importances = forest.feature_importances_\n",
    "    std = np.std([tree.feature_importances_ for tree in forest.estimators_],\n",
    "                 axis=0)\n",
    "    indices = np.argsort(importances)[::-1]\n",
    "\n",
    "    # Print the feature ranking\n",
    "    # print(\"Feature ranking:\")\n",
    "\n",
    "    for f in range(X.shape[1]):\n",
    "        print(\"%d. feature %d (%f)\" % (f + 1, indices[f], importances[indices[f]]))\n",
    "\n",
    "    # Plot the impurity-based feature importances of the forest\n",
    "    plt.figure()\n",
    "    plt.figure(figsize = (12,12))\n",
    "    plt.title(\"Feature importances\")\n",
    "    plt.bar(range(X.shape[1]), importances[indices],\n",
    "            color=\"r\", yerr=std[indices], align=\"center\")\n",
    "    plt.xticks(range(X.shape[1]), indices)\n",
    "    plt.xlim([-1, X.shape[1]])\n",
    "    return plt.show()"
   ]
  },
  {
   "cell_type": "markdown",
   "id": "undefined-fleet",
   "metadata": {},
   "source": [
    "### CYP 2c19"
   ]
  },
  {
   "cell_type": "code",
   "execution_count": null,
   "id": "primary-landscape",
   "metadata": {},
   "outputs": [],
   "source": [
    "cyp2c19_swiss_feat = pd.read_pickle('.././data/cyp_datasets/cyp2c19_swiss_feat.pkl')"
   ]
  },
  {
   "cell_type": "code",
   "execution_count": null,
   "id": "valid-damages",
   "metadata": {},
   "outputs": [],
   "source": [
    "cyp2c19_swiss_feat_imp = plot_swiss_feat_importance(cyp2c19_swiss_feat)"
   ]
  },
  {
   "cell_type": "markdown",
   "id": "tender-chile",
   "metadata": {},
   "source": [
    "### CYP2c9"
   ]
  },
  {
   "cell_type": "code",
   "execution_count": null,
   "id": "dominant-mentor",
   "metadata": {},
   "outputs": [],
   "source": [
    "cyp2c9_swiss_feat = pd.read_pickle('.././data/cyp_datasets/cyp2c9_swiss_feat.pkl')"
   ]
  },
  {
   "cell_type": "code",
   "execution_count": null,
   "id": "personalized-heavy",
   "metadata": {},
   "outputs": [],
   "source": [
    "cyp2c9_swiss_feat_imp = plot_swiss_feat_importance(cyp2c9_swiss_feat)"
   ]
  },
  {
   "cell_type": "markdown",
   "id": "british-property",
   "metadata": {},
   "source": [
    "### CYP1a2"
   ]
  },
  {
   "cell_type": "code",
   "execution_count": null,
   "id": "serial-legislature",
   "metadata": {},
   "outputs": [],
   "source": [
    "cyp1a2_swiss_feat = pd.read_pickle('.././data/cyp_datasets/cyp1a2_swiss_feat.pkl')"
   ]
  },
  {
   "cell_type": "code",
   "execution_count": null,
   "id": "posted-collectible",
   "metadata": {},
   "outputs": [],
   "source": [
    "cyp1a2_swiss_feat_imp = plot_swiss_feat_importance(cyp1a2_swiss_feat)"
   ]
  },
  {
   "cell_type": "markdown",
   "id": "retained-deposit",
   "metadata": {},
   "source": [
    "### CYP2d6"
   ]
  },
  {
   "cell_type": "code",
   "execution_count": null,
   "id": "adopted-inventory",
   "metadata": {},
   "outputs": [],
   "source": [
    "cyp2d6_swiss_feat = pd.read_pickle('.././data/cyp_datasets/cyp2d6_swiss_feat.pkl')"
   ]
  },
  {
   "cell_type": "code",
   "execution_count": null,
   "id": "crucial-friendly",
   "metadata": {},
   "outputs": [],
   "source": [
    "cyp2d6_swiss_feat_imp = plot_swiss_feat_importance(cyp2d6_swiss_feat)"
   ]
  },
  {
   "cell_type": "markdown",
   "id": "graphic-soviet",
   "metadata": {},
   "source": [
    "### CYP3a4"
   ]
  },
  {
   "cell_type": "code",
   "execution_count": null,
   "id": "demographic-outline",
   "metadata": {},
   "outputs": [],
   "source": [
    "cyp3a4_swiss_feat = pd.read_pickle('.././data/cyp_datasets/cyp3a4_swiss_feat.pkl')"
   ]
  },
  {
   "cell_type": "code",
   "execution_count": null,
   "id": "herbal-letter",
   "metadata": {},
   "outputs": [],
   "source": [
    "cyp3a4_swiss_feat_imp = plot_swiss_feat_importance(cyp3a4_swiss_feat)"
   ]
  },
  {
   "cell_type": "code",
   "execution_count": null,
   "id": "surface-plenty",
   "metadata": {},
   "outputs": [],
   "source": [
    "import seaborn as sns\n",
    "\n",
    "def sns_pair(swiss_feat):\n",
    "    sns.set_theme(style=\"whitegrid\")\n",
    "\n",
    "#     # Load the dataset\n",
    "#     swiss_feat = sns.load_dataset(swiss_feat)\n",
    "\n",
    "    # Make the PairGrid\n",
    "    g = sns.PairGrid(swiss_feat.sort_values(\"index\", ascending=False),\n",
    "                     x_vars=X, y_vars=y,\n",
    "                     height=10, aspect=.25)\n",
    "\n",
    "    # Draw a dot plot using the stripplot function\n",
    "    g.map(sns.stripplot, size=10, orient=\"h\", jitter=False,\n",
    "          palette=\"flare_r\", linewidth=1, edgecolor=\"w\")\n",
    "\n",
    "    # Use the same x axis limits on all columns and add better labels\n",
    "    g.set(xlim=(0, 25), xlabel=\"Molecule Features\", ylabel=\"\")\n",
    "\n",
    "    # Use semantically meaningful titles for the columns\n",
    "    titles = ['h_bond_donors', 'h_bond_acceptors', 'molar_refractivity', 'molecular_weight', 'n_atoms','n_carbons',\n",
    "                 'n_heteroatoms', 'n_rings', 'n_rot_bonds', 'logp', 'tpsa', 'n_heavy_atoms', 'n_aromatic_atom', \n",
    "              'single_bond', 'double_bond', 'triple_bond', 'aromatic_bond']\n",
    "\n",
    "    for ax, title in zip(g.axes.flat, titles):\n",
    "\n",
    "        # Set a different title for each axes\n",
    "        ax.set(title=title)\n",
    "\n",
    "        # Make the grid horizontal instead of vertical\n",
    "        ax.xaxis.grid(False)\n",
    "        ax.yaxis.grid(True)\n",
    "\n",
    "    sns.despine(left=True, bottom=True)\n",
    "    return plt.show();"
   ]
  },
  {
   "cell_type": "code",
   "execution_count": null,
   "id": "scenic-yeast",
   "metadata": {},
   "outputs": [],
   "source": [
    "X = cyp2c9_swiss_feat.drop(columns=['index', 'Inhibition Observed'], axis=1)\n",
    "y = cyp2c9_swiss_feat['Inhibition Observed']\n",
    "\n",
    "X2 = cyp3a4_swiss_feat.drop(columns=['index', 'Inhibition Observed'], axis=1)\n",
    "y2 = cyp3a4_swiss_feat['Inhibition Observed']"
   ]
  },
  {
   "cell_type": "code",
   "execution_count": null,
   "id": "recovered-place",
   "metadata": {},
   "outputs": [],
   "source": [
    "fig = plt.figure()\n",
    "figsize = (20, 20)\n",
    "data = ['h_bond_donors', 'h_bond_acceptors', 'molar_refractivity', 'molecular_weight', 'n_atoms','n_carbons',\n",
    "                 'n_heteroatoms', 'n_rings', 'n_rot_bonds', 'logp', 'tpsa', 'n_heavy_atoms', 'n_aromatic_atom', \n",
    "              'single_bond', 'double_bond', 'triple_bond', 'aromatic_bond']\n",
    "\n",
    "for frame in [cyp2c19_swiss_feat, cyp2c9_swiss_feat, cyp2d6_swiss_feat, cyp3a4_swiss_feat, cyp1a2_swiss_feat]:\n",
    "    plt.plot(frame['Inhibition Observed'], frame[data])\n",
    "\n",
    "# plt.xlim(0,18000)\n",
    "# plt.ylim(0,30)\n",
    "plt.tight_layout()\n",
    "plt.show();"
   ]
  },
  {
   "cell_type": "code",
   "execution_count": null,
   "id": "musical-candle",
   "metadata": {},
   "outputs": [],
   "source": [
    "from functools import reduce"
   ]
  },
  {
   "cell_type": "code",
   "execution_count": null,
   "id": "accompanied-minutes",
   "metadata": {},
   "outputs": [],
   "source": [
    "data_frames = [cyp2c19_swiss_feat, cyp2c9_swiss_feat, cyp2d6_swiss_feat, cyp3a4_swiss_feat, cyp1a2_swiss_feat]"
   ]
  },
  {
   "cell_type": "code",
   "execution_count": null,
   "id": "rational-columbus",
   "metadata": {},
   "outputs": [],
   "source": [
    "df_merged = reduce(lambda  left,right: pd.merge(left,right,on=['index', 'h_bond_donors', 'h_bond_acceptors', 'molar_refractivity', 'molecular_weight', 'n_atoms','n_carbons',\n",
    "                 'n_heteroatoms', 'n_rings', 'n_rot_bonds', 'logp', 'tpsa', 'n_heavy_atoms', 'n_aromatic_atom', \n",
    "              'single_bond', 'double_bond', 'triple_bond', 'aromatic_bond', 'Inhibition Observed'], how='left'), data_frames)\n"
   ]
  },
  {
   "cell_type": "code",
   "execution_count": null,
   "id": "norwegian-offense",
   "metadata": {},
   "outputs": [],
   "source": [
    "# pd.DataFrame.to_csv(df_merged, 'merged.txt', sep=',', na_rep='.', index=False)"
   ]
  },
  {
   "cell_type": "code",
   "execution_count": null,
   "id": "distinct-raleigh",
   "metadata": {},
   "outputs": [],
   "source": [
    "df_merged.head()"
   ]
  },
  {
   "cell_type": "code",
   "execution_count": null,
   "id": "arctic-buyer",
   "metadata": {},
   "outputs": [],
   "source": [
    "feature_df_merged = pd.read_csv('.././data/merged_dfs/feature_df_merged.csv')"
   ]
  },
  {
   "cell_type": "code",
   "execution_count": null,
   "id": "judicial-hawaii",
   "metadata": {},
   "outputs": [],
   "source": [
    "feature_df_merged.head()"
   ]
  },
  {
   "cell_type": "code",
   "execution_count": null,
   "id": "turkish-excuse",
   "metadata": {},
   "outputs": [],
   "source": [
    "X = feature_df_merged.drop(columns=['index', 'Inhibition Observed'], axis=1)\n",
    "y = feature_df_merged['Inhibition Observed']"
   ]
  },
  {
   "cell_type": "code",
   "execution_count": null,
   "id": "actual-federation",
   "metadata": {},
   "outputs": [],
   "source": [
    "X.head()"
   ]
  },
  {
   "cell_type": "code",
   "execution_count": null,
   "id": "utility-suspect",
   "metadata": {},
   "outputs": [],
   "source": [
    "from sklearn.model_selection import train_test_split\n",
    "X_train, X_test, y_train, y_test = train_test_split(\n",
    "    X, y, test_size=0.2, random_state=0)"
   ]
  },
  {
   "cell_type": "code",
   "execution_count": null,
   "id": "supreme-philip",
   "metadata": {},
   "outputs": [],
   "source": [
    "from sklearn.preprocessing import StandardScaler\n",
    "ss = StandardScaler()\n",
    "X_train = ss.fit(X_train)\n",
    "X_test = ss.transform(X_test)"
   ]
  },
  {
   "cell_type": "markdown",
   "id": "extreme-upgrade",
   "metadata": {},
   "source": [
    "## Feature Importance"
   ]
  },
  {
   "cell_type": "code",
   "execution_count": null,
   "id": "worth-mouth",
   "metadata": {},
   "outputs": [],
   "source": [
    "def feat_importance(data):\n",
    "    print(__doc__)\n",
    "    \n",
    "    data.dropna()\n",
    "\n",
    "    forest = ExtraTreesClassifier(n_estimators=250,\n",
    "                                  random_state=0)\n",
    "\n",
    "    forest.fit(X, y)\n",
    "    importances = forest.feature_importances_\n",
    "    std = np.std([tree.feature_importances_ for tree in forest.estimators_],\n",
    "                 axis=0)\n",
    "    indices = np.argsort(importances)[::-1]\n",
    "\n",
    "    # Print the feature ranking\n",
    "    # print(\"Feature ranking:\")\n",
    "\n",
    "    for f in range(X.shape[1]):\n",
    "        print(\"%d. feature %d (%f)\" % (f + 1, indices[f], importances[indices[f]]))\n",
    "\n",
    "    # Plot the impurity-based feature importances of the forest\n",
    "    plt.figure()\n",
    "    plt.figure(figsize = (12,20))\n",
    "    plt.title(\"Feature importances\")\n",
    "    plt.bar(range(X.shape[1]), importances[indices],\n",
    "            color=\"r\", yerr=std[indices], align=\"center\")\n",
    "    plt.xticks(range(X.shape[1]), indices)\n",
    "    plt.xlim([-1, X.shape[1]])\n",
    "    plt.tight_layout()\n",
    "    return plt.show();"
   ]
  },
  {
   "cell_type": "code",
   "execution_count": null,
   "id": "interested-carnival",
   "metadata": {},
   "outputs": [],
   "source": [
    "X = cyp2c19.drop(columns=['index', 'PUBCHEM_ACTIVITY_OUTCOME', 'Inhibition Observed'], axis=1)\n",
    "y = cyp2c19['Inhibition Observed']\n",
    "\n",
    "cyp2c19_feat_imp = feat_importance(cyp2c19)\n",
    "# cyp2c19_feat_imp.save"
   ]
  },
  {
   "cell_type": "code",
   "execution_count": null,
   "id": "signed-value",
   "metadata": {},
   "outputs": [],
   "source": [
    "forest = ExtraTreesClassifier(n_estimators=250,\n",
    "                              random_state=0)\n",
    "\n",
    "forest.fit(X, y)\n",
    "importances = forest.feature_importances_\n",
    "std = np.std([tree.feature_importances_ for tree in forest.estimators_],\n",
    "             axis=0)\n",
    "indices = np.argsort(importances)[::-1]\n",
    "\n",
    "# Print the feature ranking\n",
    "# print(\"Feature ranking:\")\n",
    "\n",
    "for f in range(X.shape[1]):\n",
    "    print(\"%d. feature %d (%f)\" % (f + 1, indices[f], importances[indices[f]]))\n",
    "\n",
    "# Plot the impurity-based feature importances of the forest\n",
    "plt.figure()\n",
    "plt.figure(figsize = (12,12))\n",
    "\n",
    "\n",
    "plt.figure()\n",
    "plt.figure(figsize = (12,10))\n",
    "plt.title(\"Feature importances\")\n",
    "plt.bar(range(X.shape[1]), importances[indices],\n",
    "        color=\"#008f9c\", yerr=std[indices], align=\"center\")\n",
    "plt.xticks(range(X.shape[1]), titles, rotation = 90)\n",
    "plt.xlim([-1, X.shape[1]])\n",
    "plt.xlabel('Features', fontsize=18, color='#ec5c5c', fontweight='bold' )\n",
    "plt.ylabel('Importance', fontsize=18, color='#ec5c5c', fontweight='bold')\n",
    "plt.xticks(fontsize=18, color='#ec5c5c', fontweight='bold')\n",
    "plt.yticks(fontsize=14, color='#ec5c5c', fontweight='bold')\n",
    "plt.tick_params(color='#ec5c5c')\n",
    "plt.gca().spines['top'].set_visible(False)\n",
    "plt.gca().spines['right'].set_visible(False)\n",
    "plt.gca().spines['bottom'].set_visible(False)\n",
    "plt.gca().spines['left'].set_visible(False)\n",
    "plt.title('Feature Importance with SwissAdme Features', \n",
    "          fontsize=24, \n",
    "          color='#008f9c', fontweight='bold', \n",
    "          pad=20)\n",
    "plt.subplots_adjust(bottom=0.2, right=5, top=2)\n",
    "plt.tight_layout()\n",
    "plt.title(\"Feature importances\")\n",
    "plt.bar(range(X.shape[1]), importances[indices],\n",
    "        color=\"r\", yerr=std[indices], align=\"center\")\n",
    "plt.xticks(range(X.shape[1]), indices)\n",
    "plt.xlim([-1, X.shape[1]])\n",
    "plt.show()"
   ]
  },
  {
   "cell_type": "code",
   "execution_count": null,
   "id": "finished-representative",
   "metadata": {},
   "outputs": [],
   "source": []
  },
  {
   "cell_type": "code",
   "execution_count": null,
   "id": "resident-banner",
   "metadata": {},
   "outputs": [],
   "source": [
    "feature_df = pd.read_pickle('.././data/merged_dfs/feature_df_merged.pkl')\n",
    "X = feature_df.drop(columns=['index', 'Inhibition Observed'], axis=1)\n",
    "y = feature_df['Inhibition Observed']\n",
    "\n",
    "forest = ExtraTreesClassifier(n_estimators=250,\n",
    "                              random_state=0)\n",
    "\n",
    "forest.fit(X, y)\n",
    "importances = forest.feature_importances_\n",
    "std = np.std([tree.feature_importances_ for tree in forest.estimators_],\n",
    "             axis=0)\n",
    "indices = np.argsort(importances)[::-1]\n",
    "\n",
    "# Print the feature ranking\n",
    "# print(\"Feature ranking:\")\n",
    "\n",
    "for f in range(X.shape[1]):\n",
    "    print(\"%d. feature %d (%f)\" % (f + 1, indices[f], importances[indices[f]]))\n",
    "\n",
    "# Plot the impurity-based feature importances of the forest\n",
    "plt.figure()\n",
    "plt.figure(figsize = (12,10))\n",
    "plt.title(\"Feature importances\")\n",
    "plt.bar(range(X.shape[1]), importances[indices],\n",
    "        color=\"#008f9c\", yerr=std[indices], align=\"center\")\n",
    "plt.xticks(range(X.shape[1]), titles, rotation = 90)\n",
    "plt.xlim([-1, X.shape[1]])\n",
    "plt.xlabel('Features', fontsize=18, color='#ec5c5c', fontweight='bold' )\n",
    "plt.ylabel('Importance', fontsize=18, color='#ec5c5c', fontweight='bold')\n",
    "plt.xticks(fontsize=18, color='#ec5c5c', fontweight='bold')\n",
    "plt.yticks(fontsize=14, color='#ec5c5c', fontweight='bold')\n",
    "plt.tick_params(color='#ec5c5c')\n",
    "plt.gca().spines['top'].set_visible(False)\n",
    "plt.gca().spines['right'].set_visible(False)\n",
    "plt.gca().spines['bottom'].set_visible(False)\n",
    "plt.gca().spines['left'].set_visible(False)\n",
    "plt.title('Feature Importance with SwissAdme Features', \n",
    "          fontsize=24, \n",
    "          color='#008f9c', fontweight='bold', \n",
    "          pad=20)\n",
    "plt.subplots_adjust(bottom=0.2, right=5, top=2)\n",
    "plt.tight_layout()\n",
    "# plt.bar(range(X.shape[1]), importances[indices],\n",
    "#         color=\"r\", yerr=std[indices], align=\"center\")\n",
    "# plt.xticks(range(X.shape[1]), indices)\n",
    "# plt.xlim([-1, X.shape[1]])\n",
    "plt.show();"
   ]
  },
  {
   "cell_type": "code",
   "execution_count": null,
   "id": "hearing-reunion",
   "metadata": {},
   "outputs": [],
   "source": [
    "feature_df = pd.read_pickle('.././data/merged_dfs/cyp_fp_feat_merged.pkl')\n",
    "X = feature_df.drop(columns=['index', 'PUBCHEM_ACTIVITY_OUTCOME', 'Inhibition Observed'], axis=1)\n",
    "y = feature_df['Inhibition Observed']\n",
    "\n",
    "\n",
    "forest = ExtraTreesClassifier(n_estimators=250,\n",
    "                              random_state=0)\n",
    "\n",
    "forest.fit(X, y)\n",
    "importances = forest.feature_importances_\n",
    "std = np.std([tree.feature_importances_ for tree in forest.estimators_],\n",
    "             axis=0)\n",
    "indices = np.argsort(importances)[::-1]\n",
    "\n",
    "# Print the feature ranking\n",
    "# print(\"Feature ranking:\")\n",
    "\n",
    "for f in range(X.shape[1]):\n",
    "    print(\"%d. feature %d (%f)\" % (f + 1, indices[f], importances[indices[f]]))\n",
    "\n",
    "# Plot the impurity-based feature importances of the forest\n",
    "plt.figure()\n",
    "plt.figure(figsize = (16,10))\n",
    "plt.title(\"Feature importances\")\n",
    "plt.bar(range(X.shape[1]), importances[indices],\n",
    "        color=\"#008f9c\", yerr=std[indices], align=\"center\")\n",
    "plt.xticks(range(X.shape[1]), indices, rotation = 90)\n",
    "plt.xlim([-1, X.shape[1]])\n",
    "plt.xlabel('Features', fontsize=18, color='#ec5c5c', fontweight='bold')\n",
    "plt.ylabel('Importance', fontsize=18, color='#ec5c5c', fontweight='bold')\n",
    "plt.xticks(fontsize=16, color='#ec5c5c', fontweight='bold')\n",
    "plt.yticks(fontsize=16, color='#ec5c5c', fontweight='bold')\n",
    "plt.tick_params(color='#ec5c5c')\n",
    "plt.gca().spines['top'].set_visible(False)\n",
    "plt.gca().spines['right'].set_visible(False)\n",
    "plt.gca().spines['bottom'].set_visible(False)\n",
    "plt.gca().spines['left'].set_visible(False)\n",
    "plt.title('Feature Importance with Fingerprint Features', \n",
    "          fontsize=24, \n",
    "          color='#008f9c', \n",
    "          pad=20, fontweight='bold')\n",
    "plt.subplots_adjust(bottom=0.2, right=5, top=2)\n",
    "plt.tight_layout()\n",
    "\n",
    "\n",
    "plt.savefig('../visuals/feature_df_importamce.png', transparent=True)\n",
    "plt.show();"
   ]
  },
  {
   "cell_type": "code",
   "execution_count": null,
   "id": "lasting-intent",
   "metadata": {},
   "outputs": [],
   "source": [
    "feature_df = pd.read_pickle('.././data/merged_dfs/cyp_sw_feat_merged.pkl')\n",
    "X = feature_df.drop(columns=['index', 'Inhibition Observed'], axis=1)\n",
    "y = feature_df['Inhibition Observed']\n",
    "\n",
    "titles = 'h_bond_donors', 'h_bond_acceptors', 'molar_refractivity', 'molecular_weight', 'n_atoms','n_carbons','n_heteroatoms', 'n_rings', 'n_rot_bonds', 'logp', 'tpsa', 'n_heavy_atoms', 'n_aromatic_atom', 'single_bond', 'double_bond', 'triple_bond', 'aromatic_bond'\n",
    "\n",
    "forest = ExtraTreesClassifier(n_estimators=250,\n",
    "                              random_state=0)\n",
    "\n",
    "forest.fit(X, y)\n",
    "importances = forest.feature_importances_\n",
    "std = np.std([tree.feature_importances_ for tree in forest.estimators_],\n",
    "             axis=0)\n",
    "indices = np.argsort(importances)[::-1]\n",
    "\n",
    "# Print the feature ranking\n",
    "# print(\"Feature ranking:\")\n",
    "\n",
    "for f in range(X.shape[1]):\n",
    "    print(\"%d. feature %d (%f)\" % (f + 1, indices[f], importances[indices[f]]))\n",
    "\n",
    "# Plot the impurity-based feature importances of the forest\n",
    "plt.figure()\n",
    "plt.figure(figsize = (12,10))\n",
    "plt.title(\"Feature importances\")\n",
    "plt.bar(range(X.shape[1]), importances[indices],\n",
    "        color=\"#008f9c\", yerr=std[indices], align=\"center\")\n",
    "plt.xticks(range(X.shape[1]), titles, rotation = 90)\n",
    "plt.xlim([-1, X.shape[1]])\n",
    "plt.xlabel('Features', fontsize=18, color='#ec5c5c', fontweight='bold' )\n",
    "plt.ylabel('Importance', fontsize=18, color='#ec5c5c', fontweight='bold')\n",
    "plt.xticks(fontsize=18, color='#ec5c5c', fontweight='bold')\n",
    "plt.yticks(fontsize=14, color='#ec5c5c', fontweight='bold')\n",
    "plt.tick_params(color='#ec5c5c')\n",
    "plt.gca().spines['top'].set_visible(False)\n",
    "plt.gca().spines['right'].set_visible(False)\n",
    "plt.gca().spines['bottom'].set_visible(False)\n",
    "plt.gca().spines['left'].set_visible(False)\n",
    "plt.title('Feature Importance with SwissAdme Features', \n",
    "          fontsize=24, \n",
    "          color='#008f9c', fontweight='bold', \n",
    "          pad=20)\n",
    "plt.subplots_adjust(bottom=0.2, right=5, top=2)\n",
    "plt.tight_layout()\n",
    "\n",
    "plt.savefig('../visuals/feature_sw_importamce.png', transparent=True)\n",
    "plt.show();"
   ]
  },
  {
   "cell_type": "code",
   "execution_count": null,
   "id": "exposed-recommendation",
   "metadata": {},
   "outputs": [],
   "source": [
    "fig, (ax1, ax2) = plt.subplots(1,2, figsize=(17,8))\n",
    "sns.color_palette(\"crest\", as_cmap=True)\n",
    "\n",
    "ax1 = plt.subplot(1,2,1)\n",
    "sns.countplot(data = cyto_assay, x = 'Panel Name', \n",
    "              palette= 'crest', \n",
    "              label = 'CYP')\n",
    "plt.xlabel('Weight', fontsize=12, color='#dc2417')\n",
    "plt.ylabel('Weight', fontsize=12, color='#dc2417')\n",
    "plt.xticks(fontsize=10, color='#dc2417')\n",
    "plt.yticks(fontsize=12, color='#dc2417')\n",
    "plt.tick_params(color='#dc2417')\n",
    "plt.gca().spines['top'].set_visible(False)\n",
    "plt.gca().spines['right'].set_visible(False)\n",
    "plt.gca().spines['bottom'].set_visible(False)\n",
    "plt.gca().spines['left'].set_visible(False)\n",
    "plt.legend(loc='upper left')\n",
    "\n",
    "ax2 = ax1.twinx()\n",
    "sns.lineplot(data = cyto_assay, x = 'Panel Name', y = 'Activity at 0.0007 uM', \n",
    "             color = '#ff7452', \n",
    "             label = 'Activity at 0.0007 uM')\n",
    "\n",
    "sns.lineplot(data = cyto_assay, x = 'Panel Name', y = 'Activity at 57.14 uM', \n",
    "             color = '#21538e', \n",
    "             label = 'Activity at 57.14 uM')\n",
    "plt.xlabel('disc_mth', fontsize=12, color='#dc2417')\n",
    "plt.ylabel('count', fontsize=12, color='#dc2417')\n",
    "plt.xticks(fontsize=10, color='#dc2417')\n",
    "plt.yticks(fontsize=12, color='#dc2417')\n",
    "plt.tick_params(color='#dc2417')\n",
    "plt.gca().spines['top'].set_visible(False)\n",
    "plt.gca().spines['right'].set_visible(False)\n",
    "plt.gca().spines['bottom'].set_visible(False)\n",
    "plt.gca().spines['left'].set_visible(False)\n",
    "plt.title('Inhibition levels at  0.0007 uM and Activity at 57.14 uM', \n",
    "          fontsize=16, \n",
    "          color='white', \n",
    "          pad=20)\n",
    "\n",
    "ax3 = plt.subplot(1,2,2)\n",
    "sns.countplot(data = cyto_assay, x = 'Panel Name', \n",
    "              palette= 'crest', \n",
    "              label = '# of new fires')\n",
    "plt.xlabel('disc_mth', fontsize=14, color='#dc2417')\n",
    "plt.ylabel('count', fontsize=14, color='#dc2417')\n",
    "plt.xticks(fontsize=10, color='#dc2417')\n",
    "plt.yticks(fontsize=14, color='#dc2417')\n",
    "plt.tick_params(color='#dc2417')\n",
    "plt.gca().spines['top'].set_visible(False)\n",
    "plt.gca().spines['right'].set_visible(False)\n",
    "plt.gca().spines['bottom'].set_visible(False)\n",
    "plt.gca().spines['left'].set_visible(False);\n",
    "plt.legend(loc = 'upper left')\n",
    "\n",
    "ax4 = ax3.twinx()\n",
    "sns.lineplot(data = cyto_assay, x = 'Panel Name', y = 'Inhibition Observed', \n",
    "             label = 'pcp', \n",
    "             color = '#ff7452') #hue = 'state'\n",
    "plt.xlabel('Weight', fontsize=12, color='#dc2417')\n",
    "plt.ylabel('Weight', fontsize=12, color='#dc2417')\n",
    "plt.xticks(fontsize=10, color='#dc2417')\n",
    "plt.yticks(fontsize=12, color='#dc2417')\n",
    "plt.tick_params(color='#dc2417')\n",
    "plt.gca().spines['top'].set_visible(False)\n",
    "plt.gca().spines['right'].set_visible(False)\n",
    "plt.gca().spines['bottom'].set_visible(False)\n",
    "plt.gca().spines['left'].set_visible(False)\n",
    "plt.title('Overall Inhibition observed', \n",
    "          fontsize=16, \n",
    "          color='white', \n",
    "          pad=20)\n",
    "plt.subplots_adjust(bottom=0.1, right=4, top=1.8)\n",
    "plt.tight_layout();"
   ]
  },
  {
   "cell_type": "code",
   "execution_count": null,
   "id": "neutral-justice",
   "metadata": {},
   "outputs": [],
   "source": []
  },
  {
   "cell_type": "code",
   "execution_count": null,
   "id": "naughty-ordinance",
   "metadata": {},
   "outputs": [],
   "source": []
  }
 ],
 "metadata": {
  "kernelspec": {
   "display_name": "Python 3",
   "language": "python",
   "name": "python3"
  },
  "language_info": {
   "codemirror_mode": {
    "name": "ipython",
    "version": 3
   },
   "file_extension": ".py",
   "mimetype": "text/x-python",
   "name": "python",
   "nbconvert_exporter": "python",
   "pygments_lexer": "ipython3",
   "version": "3.8.5"
  }
 },
 "nbformat": 4,
 "nbformat_minor": 5
}
