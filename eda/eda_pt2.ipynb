{
 "cells": [
  {
   "cell_type": "code",
   "execution_count": 19,
   "id": "boolean-civilization",
   "metadata": {},
   "outputs": [],
   "source": [
    "import pandas as pd\n",
    "import matplotlib.pyplot as plt\n",
    "import seaborn as sns\n",
    "import numpy as np\n",
    "\n",
    "from sklearn.ensemble import ExtraTreesClassifier\n",
    "\n",
    "%matplotlib inline\n",
    "%config InlineBackend.figure_format='retina'\n",
    "\n",
    "import warnings\n",
    "warnings.filterwarnings('ignore')"
   ]
  },
  {
   "cell_type": "code",
   "execution_count": 2,
   "id": "afraid-bunny",
   "metadata": {},
   "outputs": [],
   "source": [
    "cyto_assay = pd.read_csv('../data/train_data/cyto_assay_clean.csv')\n",
    "cyp2c19 = pd.read_pickle(\".././data/cyp_datasets/cyp2c19.pkl\")\n",
    "cyp2c19_128 = pd.read_pickle(\".././data/cyp_datasets/cyp2c19_128.pkl\")\n",
    "cyp2c19_512 = pd.read_pickle(\".././data/cyp_datasets/cyp2c19_128.pkl\")\n",
    "cyp2c9 = pd.read_pickle(\".././data/cyp_datasets/cyp2c9.pkl\")\n",
    "cyp1a2 = pd.read_pickle(\".././data/cyp_datasets/cyp1a2.pkl\")\n",
    "cyp2d6 = pd.read_pickle(\".././data/cyp_datasets/cyp2d6.pkl\")\n",
    "cyp3a4 = pd.read_pickle(\".././data/cyp3a4.pkl\")\n"
   ]
  },
  {
   "cell_type": "code",
   "execution_count": 3,
   "id": "unexpected-authentication",
   "metadata": {},
   "outputs": [
    {
     "data": {
      "text/html": [
       "<div>\n",
       "<style scoped>\n",
       "    .dataframe tbody tr th:only-of-type {\n",
       "        vertical-align: middle;\n",
       "    }\n",
       "\n",
       "    .dataframe tbody tr th {\n",
       "        vertical-align: top;\n",
       "    }\n",
       "\n",
       "    .dataframe thead th {\n",
       "        text-align: right;\n",
       "    }\n",
       "</style>\n",
       "<table border=\"1\" class=\"dataframe\">\n",
       "  <thead>\n",
       "    <tr style=\"text-align: right;\">\n",
       "      <th></th>\n",
       "      <th>Unnamed: 0</th>\n",
       "      <th>index</th>\n",
       "      <th>PUBCHEM_RESULT_TAG</th>\n",
       "      <th>PUBCHEM_SID</th>\n",
       "      <th>PUBCHEM_CID</th>\n",
       "      <th>PUBCHEM_ACTIVITY_OUTCOME</th>\n",
       "      <th>PUBCHEM_ACTIVITY_SCORE</th>\n",
       "      <th>PUBCHEM_ACTIVITY_URL</th>\n",
       "      <th>PUBCHEM_ASSAYDATA_COMMENT</th>\n",
       "      <th>Inhibition Observed</th>\n",
       "      <th>...</th>\n",
       "      <th>Activity at 11.43 uM</th>\n",
       "      <th>Activity at 25.56 uM</th>\n",
       "      <th>Activity at 57.14 uM</th>\n",
       "      <th>Activity at 0.00164 uM</th>\n",
       "      <th>Activity at 0.00366 uM</th>\n",
       "      <th>Activity at 0.00818 uM</th>\n",
       "      <th>Compound QC</th>\n",
       "      <th>Panel ID</th>\n",
       "      <th>Panel Name</th>\n",
       "      <th>Panel Target</th>\n",
       "    </tr>\n",
       "  </thead>\n",
       "  <tbody>\n",
       "    <tr>\n",
       "      <th>0</th>\n",
       "      <td>0</td>\n",
       "      <td>0</td>\n",
       "      <td>1</td>\n",
       "      <td>842238</td>\n",
       "      <td>6602638.0</td>\n",
       "      <td>0</td>\n",
       "      <td>NaN</td>\n",
       "      <td>NaN</td>\n",
       "      <td>NaN</td>\n",
       "      <td>1</td>\n",
       "      <td>...</td>\n",
       "      <td>8.1486</td>\n",
       "      <td>NaN</td>\n",
       "      <td>-15.6281</td>\n",
       "      <td>NaN</td>\n",
       "      <td>NaN</td>\n",
       "      <td>NaN</td>\n",
       "      <td>QC'd by DPISMR</td>\n",
       "      <td>1</td>\n",
       "      <td>0</td>\n",
       "      <td>NP_000760.1</td>\n",
       "    </tr>\n",
       "    <tr>\n",
       "      <th>1</th>\n",
       "      <td>1</td>\n",
       "      <td>1</td>\n",
       "      <td>2</td>\n",
       "      <td>842238</td>\n",
       "      <td>6602638.0</td>\n",
       "      <td>2</td>\n",
       "      <td>NaN</td>\n",
       "      <td>NaN</td>\n",
       "      <td>NaN</td>\n",
       "      <td>1</td>\n",
       "      <td>...</td>\n",
       "      <td>-8.5062</td>\n",
       "      <td>NaN</td>\n",
       "      <td>-37.6308</td>\n",
       "      <td>NaN</td>\n",
       "      <td>NaN</td>\n",
       "      <td>NaN</td>\n",
       "      <td>QC'd by DPISMR</td>\n",
       "      <td>2</td>\n",
       "      <td>2</td>\n",
       "      <td>NP_001020332.1</td>\n",
       "    </tr>\n",
       "    <tr>\n",
       "      <th>2</th>\n",
       "      <td>2</td>\n",
       "      <td>2</td>\n",
       "      <td>3</td>\n",
       "      <td>842238</td>\n",
       "      <td>6602638.0</td>\n",
       "      <td>0</td>\n",
       "      <td>NaN</td>\n",
       "      <td>NaN</td>\n",
       "      <td>NaN</td>\n",
       "      <td>1</td>\n",
       "      <td>...</td>\n",
       "      <td>0.4027</td>\n",
       "      <td>NaN</td>\n",
       "      <td>-2.2935</td>\n",
       "      <td>NaN</td>\n",
       "      <td>-1.3363</td>\n",
       "      <td>NaN</td>\n",
       "      <td>QC'd by DPISMR</td>\n",
       "      <td>3</td>\n",
       "      <td>4</td>\n",
       "      <td>NP_059488.2</td>\n",
       "    </tr>\n",
       "    <tr>\n",
       "      <th>3</th>\n",
       "      <td>3</td>\n",
       "      <td>3</td>\n",
       "      <td>4</td>\n",
       "      <td>842238</td>\n",
       "      <td>6602638.0</td>\n",
       "      <td>0</td>\n",
       "      <td>NaN</td>\n",
       "      <td>NaN</td>\n",
       "      <td>NaN</td>\n",
       "      <td>1</td>\n",
       "      <td>...</td>\n",
       "      <td>-7.3920</td>\n",
       "      <td>NaN</td>\n",
       "      <td>-11.9048</td>\n",
       "      <td>NaN</td>\n",
       "      <td>NaN</td>\n",
       "      <td>NaN</td>\n",
       "      <td>QC'd by DPISMR</td>\n",
       "      <td>4</td>\n",
       "      <td>3</td>\n",
       "      <td>NP_000752.2</td>\n",
       "    </tr>\n",
       "    <tr>\n",
       "      <th>4</th>\n",
       "      <td>4</td>\n",
       "      <td>4</td>\n",
       "      <td>5</td>\n",
       "      <td>842238</td>\n",
       "      <td>6602638.0</td>\n",
       "      <td>2</td>\n",
       "      <td>NaN</td>\n",
       "      <td>NaN</td>\n",
       "      <td>NaN</td>\n",
       "      <td>1</td>\n",
       "      <td>...</td>\n",
       "      <td>-41.7035</td>\n",
       "      <td>NaN</td>\n",
       "      <td>-10.7694</td>\n",
       "      <td>NaN</td>\n",
       "      <td>NaN</td>\n",
       "      <td>NaN</td>\n",
       "      <td>QC'd by DPISMR</td>\n",
       "      <td>5</td>\n",
       "      <td>1</td>\n",
       "      <td>NP_000762.2</td>\n",
       "    </tr>\n",
       "  </tbody>\n",
       "</table>\n",
       "<p>5 rows × 46 columns</p>\n",
       "</div>"
      ],
      "text/plain": [
       "   Unnamed: 0  index  PUBCHEM_RESULT_TAG  PUBCHEM_SID  PUBCHEM_CID  \\\n",
       "0           0      0                   1       842238    6602638.0   \n",
       "1           1      1                   2       842238    6602638.0   \n",
       "2           2      2                   3       842238    6602638.0   \n",
       "3           3      3                   4       842238    6602638.0   \n",
       "4           4      4                   5       842238    6602638.0   \n",
       "\n",
       "   PUBCHEM_ACTIVITY_OUTCOME  PUBCHEM_ACTIVITY_SCORE  PUBCHEM_ACTIVITY_URL  \\\n",
       "0                         0                     NaN                   NaN   \n",
       "1                         2                     NaN                   NaN   \n",
       "2                         0                     NaN                   NaN   \n",
       "3                         0                     NaN                   NaN   \n",
       "4                         2                     NaN                   NaN   \n",
       "\n",
       "   PUBCHEM_ASSAYDATA_COMMENT  Inhibition Observed  ... Activity at 11.43 uM  \\\n",
       "0                        NaN                    1  ...               8.1486   \n",
       "1                        NaN                    1  ...              -8.5062   \n",
       "2                        NaN                    1  ...               0.4027   \n",
       "3                        NaN                    1  ...              -7.3920   \n",
       "4                        NaN                    1  ...             -41.7035   \n",
       "\n",
       "  Activity at 25.56 uM  Activity at 57.14 uM  Activity at 0.00164 uM  \\\n",
       "0                  NaN              -15.6281                     NaN   \n",
       "1                  NaN              -37.6308                     NaN   \n",
       "2                  NaN               -2.2935                     NaN   \n",
       "3                  NaN              -11.9048                     NaN   \n",
       "4                  NaN              -10.7694                     NaN   \n",
       "\n",
       "   Activity at 0.00366 uM Activity at 0.00818 uM     Compound QC  Panel ID  \\\n",
       "0                     NaN                    NaN  QC'd by DPISMR         1   \n",
       "1                     NaN                    NaN  QC'd by DPISMR         2   \n",
       "2                 -1.3363                    NaN  QC'd by DPISMR         3   \n",
       "3                     NaN                    NaN  QC'd by DPISMR         4   \n",
       "4                     NaN                    NaN  QC'd by DPISMR         5   \n",
       "\n",
       "   Panel Name    Panel Target  \n",
       "0           0     NP_000760.1  \n",
       "1           2  NP_001020332.1  \n",
       "2           4     NP_059488.2  \n",
       "3           3     NP_000752.2  \n",
       "4           1     NP_000762.2  \n",
       "\n",
       "[5 rows x 46 columns]"
      ]
     },
     "execution_count": 3,
     "metadata": {},
     "output_type": "execute_result"
    }
   ],
   "source": [
    "cyto_assay.head()"
   ]
  },
  {
   "cell_type": "code",
   "execution_count": 4,
   "id": "silent-sequence",
   "metadata": {},
   "outputs": [
    {
     "data": {
      "text/plain": [
       "Unnamed: 0                       0\n",
       "index                            0\n",
       "PUBCHEM_RESULT_TAG               0\n",
       "PUBCHEM_SID                      0\n",
       "PUBCHEM_CID                    110\n",
       "PUBCHEM_ACTIVITY_OUTCOME         0\n",
       "PUBCHEM_ACTIVITY_SCORE       85715\n",
       "PUBCHEM_ACTIVITY_URL         85715\n",
       "PUBCHEM_ASSAYDATA_COMMENT    85715\n",
       "Inhibition Observed              0\n",
       "Approved Drug                    0\n",
       "Collection                   80145\n",
       "Analysis Comment             85715\n",
       "Activity Score                   0\n",
       "Potency                      45031\n",
       "Curve_Description            42460\n",
       "Fit_LogAC50                  42606\n",
       "Fit_HillSlope                42606\n",
       "Fit_R2                       42606\n",
       "Fit_InfiniteActivity         42606\n",
       "Fit_ZeroActivity             42606\n",
       "Fit_CurveClass                   0\n",
       "Excluded_Points              42606\n",
       "Max_Response                     0\n",
       "Activity at 0.0007 uM        58389\n",
       "Activity at 0.00160 uM       73752\n",
       "Activity at 0.00368 uM       20779\n",
       "Activity at 0.00820 uM       73638\n",
       "Activity at 0.018 uM          1556\n",
       "Activity at 0.041 uM         71654\n",
       "Activity at 0.091 uM          3344\n",
       "Activity at 0.204 uM         72410\n",
       "Activity at 0.457 uM           875\n",
       "Activity at 1.022 uM         71564\n",
       "Activity at 2.286 uM            82\n",
       "Activity at 5.111 uM         71564\n",
       "Activity at 11.43 uM          4750\n",
       "Activity at 25.56 uM         71564\n",
       "Activity at 57.14 uM         21031\n",
       "Activity at 0.00164 uM       83680\n",
       "Activity at 0.00366 uM       68917\n",
       "Activity at 0.00818 uM       83720\n",
       "Compound QC                      0\n",
       "Panel ID                         0\n",
       "Panel Name                       0\n",
       "Panel Target                     0\n",
       "dtype: int64"
      ]
     },
     "execution_count": 4,
     "metadata": {},
     "output_type": "execute_result"
    }
   ],
   "source": [
    "cyto_assay.isnull().sum()"
   ]
  },
  {
   "cell_type": "code",
   "execution_count": 5,
   "id": "insured-capitol",
   "metadata": {},
   "outputs": [
    {
     "name": "stdout",
     "output_type": "stream",
     "text": [
      "<class 'pandas.core.frame.DataFrame'>\n",
      "RangeIndex: 85715 entries, 0 to 85714\n",
      "Data columns (total 46 columns):\n",
      " #   Column                     Non-Null Count  Dtype  \n",
      "---  ------                     --------------  -----  \n",
      " 0   Unnamed: 0                 85715 non-null  int64  \n",
      " 1   index                      85715 non-null  int64  \n",
      " 2   PUBCHEM_RESULT_TAG         85715 non-null  int64  \n",
      " 3   PUBCHEM_SID                85715 non-null  int64  \n",
      " 4   PUBCHEM_CID                85605 non-null  float64\n",
      " 5   PUBCHEM_ACTIVITY_OUTCOME   85715 non-null  int64  \n",
      " 6   PUBCHEM_ACTIVITY_SCORE     0 non-null      float64\n",
      " 7   PUBCHEM_ACTIVITY_URL       0 non-null      float64\n",
      " 8   PUBCHEM_ASSAYDATA_COMMENT  0 non-null      float64\n",
      " 9   Inhibition Observed        85715 non-null  int64  \n",
      " 10  Approved Drug              85715 non-null  object \n",
      " 11  Collection                 5570 non-null   object \n",
      " 12  Analysis Comment           0 non-null      float64\n",
      " 13  Activity Score             85715 non-null  int64  \n",
      " 14  Potency                    40684 non-null  float64\n",
      " 15  Curve_Description          43255 non-null  object \n",
      " 16  Fit_LogAC50                43109 non-null  float64\n",
      " 17  Fit_HillSlope              43109 non-null  float64\n",
      " 18  Fit_R2                     43109 non-null  float64\n",
      " 19  Fit_InfiniteActivity       43109 non-null  float64\n",
      " 20  Fit_ZeroActivity           43109 non-null  float64\n",
      " 21  Fit_CurveClass             85715 non-null  float64\n",
      " 22  Excluded_Points            43109 non-null  object \n",
      " 23  Max_Response               85715 non-null  float64\n",
      " 24  Activity at 0.0007 uM      27326 non-null  float64\n",
      " 25  Activity at 0.00160 uM     11963 non-null  float64\n",
      " 26  Activity at 0.00368 uM     64936 non-null  float64\n",
      " 27  Activity at 0.00820 uM     12077 non-null  float64\n",
      " 28  Activity at 0.018 uM       84159 non-null  float64\n",
      " 29  Activity at 0.041 uM       14061 non-null  float64\n",
      " 30  Activity at 0.091 uM       82371 non-null  float64\n",
      " 31  Activity at 0.204 uM       13305 non-null  float64\n",
      " 32  Activity at 0.457 uM       84840 non-null  float64\n",
      " 33  Activity at 1.022 uM       14151 non-null  float64\n",
      " 34  Activity at 2.286 uM       85633 non-null  float64\n",
      " 35  Activity at 5.111 uM       14151 non-null  float64\n",
      " 36  Activity at 11.43 uM       80965 non-null  float64\n",
      " 37  Activity at 25.56 uM       14151 non-null  float64\n",
      " 38  Activity at 57.14 uM       64684 non-null  float64\n",
      " 39  Activity at 0.00164 uM     2035 non-null   float64\n",
      " 40  Activity at 0.00366 uM     16798 non-null  float64\n",
      " 41  Activity at 0.00818 uM     1995 non-null   float64\n",
      " 42  Compound QC                85715 non-null  object \n",
      " 43  Panel ID                   85715 non-null  int64  \n",
      " 44  Panel Name                 85715 non-null  int64  \n",
      " 45  Panel Target               85715 non-null  object \n",
      "dtypes: float64(31), int64(9), object(6)\n",
      "memory usage: 30.1+ MB\n"
     ]
    }
   ],
   "source": [
    "cyto_assay.info()"
   ]
  },
  {
   "cell_type": "code",
   "execution_count": 6,
   "id": "nervous-anime",
   "metadata": {},
   "outputs": [],
   "source": [
    "# cyto_assay_corr = (cyto_assay.corr()[['Inhibition Observed']].sort_values(by='Inhibition Observed', ascending=False))\n",
    "# cyto_assay_corr"
   ]
  },
  {
   "cell_type": "code",
   "execution_count": 7,
   "id": "infectious-frederick",
   "metadata": {},
   "outputs": [],
   "source": [
    "features = cyto_assay.select_dtypes(include=['float64','int64'])\n",
    "\n",
    "X = features\n",
    "y = 'Inhibition Observed'"
   ]
  },
  {
   "cell_type": "code",
   "execution_count": 8,
   "id": "initial-northeast",
   "metadata": {},
   "outputs": [],
   "source": [
    "cyto_assay['Approved Drug'] = cyto_assay['Approved Drug'].replace({'Biodiverse':'1', 'Exploratory':'0'}).astype(float)"
   ]
  },
  {
   "cell_type": "code",
   "execution_count": 9,
   "id": "subsequent-framework",
   "metadata": {},
   "outputs": [
    {
     "data": {
      "image/png": "[encoded data removed]",
      "text/plain": [
       "<Figure size 432x288 with 1 Axes>"
      ]
     },
     "metadata": {
      "image/png": {
       "height": 280,
       "width": 424
      },
      "needs_background": "light"
     },
     "output_type": "display_data"
    }
   ],
   "source": [
    "plt.hist(cyto_assay['Activity at 11.43 uM'])\n",
    "plt.tight_layout();"
   ]
  },
  {
   "cell_type": "code",
   "execution_count": 10,
   "id": "married-sierra",
   "metadata": {},
   "outputs": [
    {
     "data": {
      "image/png": "[encoded data removed]",
      "text/plain": [
       "<Figure size 432x288 with 1 Axes>"
      ]
     },
     "metadata": {
      "image/png": {
       "height": 280,
       "width": 424
      },
      "needs_background": "light"
     },
     "output_type": "display_data"
    }
   ],
   "source": [
    "plt.hist(cyto_assay['Activity at 57.14 uM'])\n",
    "plt.tight_layout();"
   ]
  },
  {
   "cell_type": "code",
   "execution_count": 11,
   "id": "incident-indian",
   "metadata": {},
   "outputs": [
    {
     "data": {
      "image/png": "[encoded data removed]",
      "text/plain": [
       "<Figure size 432x288 with 1 Axes>"
      ]
     },
     "metadata": {
      "image/png": {
       "height": 279,
       "width": 424
      },
      "needs_background": "light"
     },
     "output_type": "display_data"
    }
   ],
   "source": [
    "plt.hist(cyto_assay['Potency'])\n",
    "plt.tight_layout();"
   ]
  },
  {
   "cell_type": "markdown",
   "id": "peaceful-trainer",
   "metadata": {},
   "source": [
    "## Feature Importance"
   ]
  },
  {
   "cell_type": "code",
   "execution_count": 22,
   "id": "personalized-hardwood",
   "metadata": {},
   "outputs": [],
   "source": [
    "def feat_importance(data):\n",
    "    print(__doc__)\n",
    "    \n",
    "    data.dropna()\n",
    "\n",
    "    forest = ExtraTreesClassifier(n_estimators=250,\n",
    "                                  random_state=0)\n",
    "\n",
    "    forest.fit(X, y)\n",
    "    importances = forest.feature_importances_\n",
    "    std = np.std([tree.feature_importances_ for tree in forest.estimators_],\n",
    "                 axis=0)\n",
    "    indices = np.argsort(importances)[::-1]\n",
    "\n",
    "    # Print the feature ranking\n",
    "    # print(\"Feature ranking:\")\n",
    "\n",
    "    for f in range(X.shape[1]):\n",
    "        print(\"%d. feature %d (%f)\" % (f + 1, indices[f], importances[indices[f]]))\n",
    "\n",
    "    # Plot the impurity-based feature importances of the forest\n",
    "    plt.figure()\n",
    "    plt.figure(figsize = (12,20))\n",
    "    plt.title(\"Feature importances\")\n",
    "    plt.bar(range(X.shape[1]), importances[indices],\n",
    "            color=\"r\", yerr=std[indices], align=\"center\")\n",
    "    plt.xticks(range(X.shape[1]), indices)\n",
    "    plt.xlim([-1, X.shape[1]])\n",
    "    plt.tight_layout()\n",
    "    return plt.show();"
   ]
  },
  {
   "cell_type": "code",
   "execution_count": 24,
   "id": "applicable-secretary",
   "metadata": {},
   "outputs": [
    {
     "name": "stdout",
     "output_type": "stream",
     "text": [
      "Automatically created module for IPython interactive environment\n",
      "1. feature 27 (0.019803)\n",
      "2. feature 24 (0.018827)\n",
      "3. feature 31 (0.018697)\n",
      "4. feature 25 (0.018495)\n",
      "5. feature 26 (0.018481)\n",
      "6. feature 53 (0.018419)\n",
      "7. feature 12 (0.018268)\n",
      "8. feature 32 (0.018268)\n",
      "9. feature 29 (0.018254)\n",
      "10. feature 13 (0.018230)\n",
      "11. feature 8 (0.018089)\n",
      "12. feature 28 (0.017849)\n",
      "13. feature 63 (0.017802)\n",
      "14. feature 1 (0.017699)\n",
      "15. feature 14 (0.017683)\n",
      "16. feature 40 (0.017600)\n",
      "17. feature 21 (0.017498)\n",
      "18. feature 6 (0.017428)\n",
      "19. feature 37 (0.017394)\n",
      "20. feature 11 (0.017391)\n",
      "21. feature 46 (0.017279)\n",
      "22. feature 3 (0.017205)\n",
      "23. feature 45 (0.017189)\n",
      "24. feature 44 (0.017180)\n",
      "25. feature 48 (0.017173)\n",
      "26. feature 54 (0.017107)\n",
      "27. feature 50 (0.017098)\n",
      "28. feature 15 (0.017065)\n",
      "29. feature 34 (0.017039)\n",
      "30. feature 51 (0.016985)\n",
      "31. feature 19 (0.016945)\n",
      "32. feature 35 (0.016866)\n",
      "33. feature 42 (0.016818)\n",
      "34. feature 56 (0.016808)\n",
      "35. feature 20 (0.016801)\n",
      "36. feature 5 (0.016723)\n",
      "37. feature 43 (0.016713)\n",
      "38. feature 57 (0.016711)\n",
      "39. feature 7 (0.016684)\n",
      "40. feature 38 (0.016626)\n",
      "41. feature 62 (0.016525)\n",
      "42. feature 49 (0.016407)\n",
      "43. feature 4 (0.016248)\n",
      "44. feature 41 (0.016007)\n",
      "45. feature 9 (0.015878)\n",
      "46. feature 59 (0.015826)\n",
      "47. feature 30 (0.015796)\n",
      "48. feature 18 (0.015730)\n",
      "49. feature 55 (0.015180)\n",
      "50. feature 52 (0.015164)\n",
      "51. feature 2 (0.014736)\n",
      "52. feature 23 (0.014487)\n",
      "53. feature 47 (0.013969)\n",
      "54. feature 58 (0.013473)\n",
      "55. feature 61 (0.012254)\n",
      "56. feature 16 (0.012042)\n",
      "57. feature 60 (0.011509)\n",
      "58. feature 33 (0.008858)\n",
      "59. feature 10 (0.008678)\n",
      "60. feature 0 (0.008464)\n",
      "61. feature 22 (0.007906)\n",
      "62. feature 39 (0.006529)\n",
      "63. feature 36 (0.003675)\n",
      "64. feature 17 (0.003471)\n"
     ]
    },
    {
     "data": {
      "text/plain": [
       "<Figure size 432x288 with 0 Axes>"
      ]
     },
     "metadata": {},
     "output_type": "display_data"
    },
    {
     "data": {
      "image/png": "[encoded data removed]",
      "text/plain": [
       "<Figure size 864x1440 with 1 Axes>"
      ]
     },
     "metadata": {
      "image/png": {
       "height": 1431,
       "width": 856
      },
      "needs_background": "light"
     },
     "output_type": "display_data"
    }
   ],
   "source": [
    "X = cyp2c19.drop(columns=['index', 'PUBCHEM_ACTIVITY_OUTCOME', 'Inhibition Observed'], axis=1)\n",
    "y = cyp2c19['Inhibition Observed']\n",
    "\n",
    "cyp2c19_feat_imp = feat_importance(cyp2c19)\n",
    "cyp2c19_feat_imp.save"
   ]
  },
  {
   "cell_type": "code",
   "execution_count": null,
   "id": "hearing-staff",
   "metadata": {},
   "outputs": [],
   "source": []
  },
  {
   "cell_type": "code",
   "execution_count": null,
   "id": "amazing-romantic",
   "metadata": {},
   "outputs": [],
   "source": []
  },
  {
   "cell_type": "code",
   "execution_count": null,
   "id": "employed-valley",
   "metadata": {},
   "outputs": [],
   "source": []
  },
  {
   "cell_type": "code",
   "execution_count": null,
   "id": "blind-color",
   "metadata": {},
   "outputs": [],
   "source": []
  },
  {
   "cell_type": "code",
   "execution_count": null,
   "id": "latin-redhead",
   "metadata": {},
   "outputs": [],
   "source": []
  }
 ],
 "metadata": {
  "kernelspec": {
   "display_name": "Python 3",
   "language": "python",
   "name": "python3"
  },
  "language_info": {
   "codemirror_mode": {
    "name": "ipython",
    "version": 3
   },
   "file_extension": ".py",
   "mimetype": "text/x-python",
   "name": "python",
   "nbconvert_exporter": "python",
   "pygments_lexer": "ipython3",
   "version": "3.8.5"
  }
 },
 "nbformat": 4,
 "nbformat_minor": 5
}
