{
 "cells": [
  {
   "cell_type": "markdown",
   "id": "scenic-burner",
   "metadata": {},
   "source": [
    "# Cleaning"
   ]
  },
  {
   "cell_type": "code",
   "execution_count": null,
   "id": "overhead-jesus",
   "metadata": {},
   "outputs": [],
   "source": [
    "import pandas as pd\n",
    "import numpy as np\n",
    "from sklearn.model_selection import train_test_split\n",
    "\n",
    "from rdkit import Chem, DataStructs\n",
    "from rdkit.Chem import rdchem\n",
    "from rdkit.Chem import Mol\n",
    "from rdkit.Chem import AllChem\n",
    "\n",
    "import warnings\n",
    "warnings.filterwarnings('ignore')"
   ]
  },
  {
   "cell_type": "code",
   "execution_count": null,
   "id": "unlikely-bacteria",
   "metadata": {},
   "outputs": [],
   "source": [
    "# Import data and remove unnecessary header rows\n",
    "cyto_assay = pd.read_csv('data/AID_1851_datatable_all.csv', skipinitialspace=True, header=[0,4])"
   ]
  },
  {
   "cell_type": "code",
   "execution_count": null,
   "id": "continental-oxide",
   "metadata": {},
   "outputs": [],
   "source": [
    "# Drop the bottom level of the multi-index\n",
    "cyto_assay.columns = cyto_assay.columns.droplevel(1)"
   ]
  },
  {
   "cell_type": "code",
   "execution_count": null,
   "id": "recovered-fields",
   "metadata": {},
   "outputs": [],
   "source": [
    "# Add index\n",
    "cyto_assay.reset_index(inplace=True)"
   ]
  },
  {
   "cell_type": "code",
   "execution_count": null,
   "id": "periodic-dominant",
   "metadata": {},
   "outputs": [],
   "source": [
    "# Transform these two colums' values to numeric\n",
    "cyto_assay['Inhibition Observed'] = cyto_assay['Inhibition Observed'].map({True:1, False:0}).astype(int)\n",
    "cyto_assay.replace({\"PUBCHEM_ACTIVITY_OUTCOME\": {\"Inactive\": 0, \"Active\": 1, \"Inconclusive\": 2}}, inplace=True)"
   ]
  },
  {
   "cell_type": "markdown",
   "id": "thick-soundtrack",
   "metadata": {},
   "source": [
    "# Feature Engineering with SwissADME's feature list"
   ]
  },
  {
   "cell_type": "code",
   "execution_count": null,
   "id": "preliminary-shooting",
   "metadata": {},
   "outputs": [],
   "source": [
    "feature_df = swiss_feat(mol_list)\n",
    "feature_df.reset_index(inplace=True)"
   ]
  },
  {
   "cell_type": "code",
   "execution_count": null,
   "id": "turned-triple",
   "metadata": {},
   "outputs": [],
   "source": [
    "panel_name = pd.DataFrame(cyto_assay[['index', 'Inhibition Observed', 'Panel Name']])\n",
    "panel_name.reset_index(inplace=True)"
   ]
  },
  {
   "cell_type": "code",
   "execution_count": null,
   "id": "mobile-determination",
   "metadata": {},
   "outputs": [],
   "source": [
    "feature_df_merged = feature_df.merge(panel_name, how=\"inner\", on=\"index\")\n",
    "\n",
    "feature_df_merged.to_pickle('data/feature_df_merged.pkl')"
   ]
  },
  {
   "cell_type": "code",
   "execution_count": null,
   "id": "editorial-nigeria",
   "metadata": {},
   "outputs": [],
   "source": [
    "inhibition_obs = cyto_assay[[\"index\", \"Inhibition Observed\", \"Panel Name\"]]\n",
    "swiss_feat_df = feature_df.merge(inhibition_obs, how=\"inner\", on=\"index\")\n",
    "\n",
    "swiss_feat_df.to_pickle('data/swiss_feat_test.pkl')"
   ]
  },
  {
   "cell_type": "code",
   "execution_count": null,
   "id": "given-overview",
   "metadata": {},
   "outputs": [],
   "source": []
  },
  {
   "cell_type": "code",
   "execution_count": null,
   "id": "contemporary-century",
   "metadata": {},
   "outputs": [],
   "source": []
  },
  {
   "cell_type": "code",
   "execution_count": null,
   "id": "neutral-establishment",
   "metadata": {},
   "outputs": [],
   "source": []
  }
 ],
 "metadata": {
  "kernelspec": {
   "display_name": "Python 3",
   "language": "python",
   "name": "python3"
  },
  "language_info": {
   "codemirror_mode": {
    "name": "ipython",
    "version": 3
   },
   "file_extension": ".py",
   "mimetype": "text/x-python",
   "name": "python",
   "nbconvert_exporter": "python",
   "pygments_lexer": "ipython3",
   "version": "3.8.5"
  }
 },
 "nbformat": 4,
 "nbformat_minor": 5
}
