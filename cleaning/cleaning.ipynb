{
 "cells": [
  {
   "cell_type": "markdown",
   "id": "behind-front",
   "metadata": {},
   "source": [
    "# Data Cleaning"
   ]
  },
  {
   "cell_type": "markdown",
   "id": "unlimited-mongolia",
   "metadata": {},
   "source": [
    "This dataset was already cleaned and balanced by a team of scientists who created SwissADME. We chose to use this dataset as the tool we are creating is a free open source version of SwissADME and we wanted the functionality to be as close as possible for now. So minimal work needed to be done here. The real work was in feature engineering. "
   ]
  },
  {
   "cell_type": "markdown",
   "id": "composed-sheriff",
   "metadata": {},
   "source": [
    "### Imports"
   ]
  },
  {
   "cell_type": "code",
   "execution_count": 1,
   "id": "imported-listing",
   "metadata": {},
   "outputs": [],
   "source": [
    "import pandas as pd\n",
    "import numpy as np\n",
    "\n",
    "import warnings\n",
    "warnings.filterwarnings('ignore')"
   ]
  },
  {
   "cell_type": "markdown",
   "id": "thousand-strengthening",
   "metadata": {},
   "source": [
    "### Import Data"
   ]
  },
  {
   "cell_type": "code",
   "execution_count": 2,
   "id": "invalid-confidence",
   "metadata": {},
   "outputs": [],
   "source": [
    "# Import data and remove unnecessary header rows\n",
    "cyto_assay = pd.read_csv('../data/train_data/AID_1851_datatable_all.csv', skipinitialspace=True, header=[0,4])"
   ]
  },
  {
   "cell_type": "markdown",
   "id": "blessed-population",
   "metadata": {},
   "source": [
    "### Clean Header"
   ]
  },
  {
   "cell_type": "code",
   "execution_count": 3,
   "id": "fifteen-oklahoma",
   "metadata": {},
   "outputs": [],
   "source": [
    "# Drop the bottom level of the multi-index\n",
    "cyto_assay.columns = cyto_assay.columns.droplevel(1)"
   ]
  },
  {
   "cell_type": "code",
   "execution_count": 4,
   "id": "defensive-frontier",
   "metadata": {},
   "outputs": [],
   "source": [
    "# Add index\n",
    "cyto_assay.reset_index(inplace=True)"
   ]
  },
  {
   "cell_type": "code",
   "execution_count": 5,
   "id": "circular-heritage",
   "metadata": {},
   "outputs": [],
   "source": [
    "# Transform these two colums' values to numeric\n",
    "cyto_assay['Inhibition Observed'] = cyto_assay['Inhibition Observed'].map({True:1, False:0}).astype(int)\n",
    "cyto_assay.replace({\"PUBCHEM_ACTIVITY_OUTCOME\": {\"Inactive\": 0, \n",
    "                                                 \"Active\": 1, \n",
    "                                                 \"Inconclusive\": 2}}, \n",
    "                                                inplace=True)"
   ]
  },
  {
   "cell_type": "code",
   "execution_count": 6,
   "id": "small-treatment",
   "metadata": {},
   "outputs": [],
   "source": [
    "#Convert Panel Name (cyp enzymes) to numeric\n",
    "cyto_assay['Panel Name'] = cyto_assay['Panel Name'].replace({'p450-cyp2c19': 0, \n",
    "                                                             'p450-cyp2c9': 1, \n",
    "                                                             'p450-cyp2d6': 2, \n",
    "                                                             'p450-cyp1a2': 3, \n",
    "                                                             'p450-cyp3a4': 4 })"
   ]
  },
  {
   "cell_type": "code",
   "execution_count": 8,
   "id": "jewish-polymer",
   "metadata": {},
   "outputs": [],
   "source": [
    "cyto_assay.to_csv('../data/train_data/cyto_assay_clean.csv')"
   ]
  }
 ],
 "metadata": {
  "kernelspec": {
   "display_name": "Python 3",
   "language": "python",
   "name": "python3"
  },
  "language_info": {
   "codemirror_mode": {
    "name": "ipython",
    "version": 3
   },
   "file_extension": ".py",
   "mimetype": "text/x-python",
   "name": "python",
   "nbconvert_exporter": "python",
   "pygments_lexer": "ipython3",
   "version": "3.8.5"
  }
 },
 "nbformat": 4,
 "nbformat_minor": 5
}
