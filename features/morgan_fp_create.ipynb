{
 "cells": [
  {
   "cell_type": "markdown",
   "id": "loved-botswana",
   "metadata": {},
   "source": [
    "# Morgan Fingerprint Feature Creation"
   ]
  },
  {
   "cell_type": "markdown",
   "id": "informal-brick",
   "metadata": {},
   "source": [
    "### Convert data to useable data to be used in fingerprint creation  \n",
    "\n",
    "The data that is imported from metrabase/chembl (same in both databases)\n",
    "has a unique PUBCHEM_SID for each element.   \n",
    "\n",
    "See README for details on conversions."
   ]
  },
  {
   "cell_type": "markdown",
   "id": "classified-asian",
   "metadata": {},
   "source": [
    "### Imports"
   ]
  },
  {
   "cell_type": "code",
   "execution_count": 1,
   "id": "democratic-casino",
   "metadata": {},
   "outputs": [],
   "source": [
    "import pandas as pd\n",
    "import numpy as np\n",
    "from sklearn.model_selection import train_test_split\n",
    "\n",
    "from rdkit import Chem, DataStructs\n",
    "from rdkit.Chem import rdchem\n",
    "from rdkit.Chem import Mol\n",
    "from rdkit.Chem import AllChem\n",
    "\n",
    "import warnings\n",
    "warnings.filterwarnings('ignore')"
   ]
  },
  {
   "cell_type": "markdown",
   "id": "pending-rover",
   "metadata": {},
   "source": [
    "### Import Data"
   ]
  },
  {
   "cell_type": "code",
   "execution_count": 2,
   "id": "proved-wrong",
   "metadata": {},
   "outputs": [],
   "source": [
    "# Import data and remove unnecessary header rows\n",
    "cyto_assay = pd.read_csv('../data/train_data/cyto_assay_clean.csv')"
   ]
  },
  {
   "cell_type": "markdown",
   "id": "fallen-distribution",
   "metadata": {},
   "source": [
    "### Separate PUBCHEM_SID to use in PubChem's Data Download Tool to get SMILES data"
   ]
  },
  {
   "cell_type": "code",
   "execution_count": 3,
   "id": "regular-fight",
   "metadata": {},
   "outputs": [],
   "source": [
    "# Separate out SID to use in PubChem's Data Download Tool to get SMILES data\n",
    "pubchemsid = cyto_assay['PUBCHEM_SID']\n",
    "\n",
    "# Save SID files\n",
    "pubchemsid.to_csv('../data/conversion_data/pubchemSID.csv')"
   ]
  },
  {
   "cell_type": "markdown",
   "id": "middle-courtesy",
   "metadata": {},
   "source": [
    "#### Read in SIDtoSMILES data to prep for use with rdkit"
   ]
  },
  {
   "cell_type": "code",
   "execution_count": 4,
   "id": "connected-grammar",
   "metadata": {},
   "outputs": [
    {
     "data": {
      "text/html": [
       "<div>\n",
       "<style scoped>\n",
       "    .dataframe tbody tr th:only-of-type {\n",
       "        vertical-align: middle;\n",
       "    }\n",
       "\n",
       "    .dataframe tbody tr th {\n",
       "        vertical-align: top;\n",
       "    }\n",
       "\n",
       "    .dataframe thead th {\n",
       "        text-align: right;\n",
       "    }\n",
       "</style>\n",
       "<table border=\"1\" class=\"dataframe\">\n",
       "  <thead>\n",
       "    <tr style=\"text-align: right;\">\n",
       "      <th></th>\n",
       "      <th>PUBCHEM_SID</th>\n",
       "      <th>SMILES</th>\n",
       "    </tr>\n",
       "  </thead>\n",
       "  <tbody>\n",
       "    <tr>\n",
       "      <th>0</th>\n",
       "      <td>842250</td>\n",
       "      <td>CC1=CC(=NO1)C(=O)NN=CC2=CC=CC=C2Br</td>\n",
       "    </tr>\n",
       "    <tr>\n",
       "      <th>1</th>\n",
       "      <td>842319</td>\n",
       "      <td>C1=CC=NC(=C1)C=NNC(=O)C2=CC=C(C=C2)N3C=CC=C3</td>\n",
       "    </tr>\n",
       "    <tr>\n",
       "      <th>2</th>\n",
       "      <td>842408</td>\n",
       "      <td>CC1=C(C=C(C=C1)NC(=O)CCCC2=CC=CC=C2)[N+](=O)[O-]</td>\n",
       "    </tr>\n",
       "    <tr>\n",
       "      <th>3</th>\n",
       "      <td>842584</td>\n",
       "      <td>CCC[C@@H](C)C(=O)NC1=CC=CC=C1F</td>\n",
       "    </tr>\n",
       "    <tr>\n",
       "      <th>4</th>\n",
       "      <td>842618</td>\n",
       "      <td>C1OC2=C(O1)C=C(C=C2)C=CC(=O)NC3=NC=CC=N3</td>\n",
       "    </tr>\n",
       "  </tbody>\n",
       "</table>\n",
       "</div>"
      ],
      "text/plain": [
       "   PUBCHEM_SID                                            SMILES\n",
       "0       842250                CC1=CC(=NO1)C(=O)NN=CC2=CC=CC=C2Br\n",
       "1       842319      C1=CC=NC(=C1)C=NNC(=O)C2=CC=C(C=C2)N3C=CC=C3\n",
       "2       842408  CC1=C(C=C(C=C1)NC(=O)CCCC2=CC=CC=C2)[N+](=O)[O-]\n",
       "3       842584                    CCC[C@@H](C)C(=O)NC1=CC=CC=C1F\n",
       "4       842618          C1OC2=C(O1)C=C(C=C2)C=CC(=O)NC3=NC=CC=N3"
      ]
     },
     "execution_count": 4,
     "metadata": {},
     "output_type": "execute_result"
    }
   ],
   "source": [
    "# Read in SIDtoSMILES data to prep for use with rdkit\n",
    "SID_smiles = pd.read_csv('../data/conversion_data/SIDtoSMILES.txt', delim_whitespace=True)\n",
    "SID_smiles.columns = ['PUBCHEM_SID', 'SMILES']\n",
    "SID_smiles.head()"
   ]
  },
  {
   "cell_type": "markdown",
   "id": "fitting-riding",
   "metadata": {},
   "source": [
    "### Remove SID from SMILES data so SMILES data is useable in rdkit"
   ]
  },
  {
   "cell_type": "code",
   "execution_count": 5,
   "id": "according-criminal",
   "metadata": {},
   "outputs": [
    {
     "data": {
      "text/plain": [
       "(17142, 1)"
      ]
     },
     "execution_count": 5,
     "metadata": {},
     "output_type": "execute_result"
    }
   ],
   "source": [
    "# Remove SID from SMILES data so SMILES data is useable in rdkit\n",
    "remove_SID = SID_smiles.drop(columns='PUBCHEM_SID')\n",
    "\n",
    "# Save file as txt with no header or indexes\n",
    "remove_SID.to_csv('../data/conversion_data/smiles_only.csv', index=False)\n",
    "\n",
    "remove_SID.shape"
   ]
  },
  {
   "cell_type": "markdown",
   "id": "exact-finding",
   "metadata": {},
   "source": [
    "### Iterate through smiles data to create mol_list"
   ]
  },
  {
   "cell_type": "code",
   "execution_count": 6,
   "id": "other-cooler",
   "metadata": {},
   "outputs": [
    {
     "data": {
      "text/plain": [
       "list"
      ]
     },
     "execution_count": 6,
     "metadata": {},
     "output_type": "execute_result"
    }
   ],
   "source": [
    "# Read in SMILES-only data using MolFromSmiles function\n",
    "smiles_list = pd.read_csv('../data/conversion_data/smiles_only.csv')\n",
    "\n",
    "mol_list = [Chem.MolFromSmiles(data[0]) for idx, data in smiles_list.iterrows()]\n",
    "type(mol_list)"
   ]
  },
  {
   "cell_type": "code",
   "execution_count": 7,
   "id": "military-entrepreneur",
   "metadata": {},
   "outputs": [
    {
     "data": {
      "text/plain": [
       "pandas.core.frame.DataFrame"
      ]
     },
     "execution_count": 7,
     "metadata": {},
     "output_type": "execute_result"
    }
   ],
   "source": [
    "type(smiles_list)"
   ]
  },
  {
   "cell_type": "markdown",
   "id": "statewide-beatles",
   "metadata": {},
   "source": [
    "### Hashed Morgan Fingerprint and Fingerprint as Vector"
   ]
  },
  {
   "cell_type": "markdown",
   "id": "simple-stomach",
   "metadata": {},
   "source": [
    "#### Create Morgan Fingerprint data"
   ]
  },
  {
   "cell_type": "code",
   "execution_count": 8,
   "id": "bigger-pepper",
   "metadata": {},
   "outputs": [],
   "source": [
    "# use Rdkit's GetMorganFingerprint to get hashed fingerprints\n",
    "fp1 = pd.DataFrame([AllChem.GetMorganFingerprint(data, 2) for data in mol_list])\n",
    "\n",
    "fp1.reset_index(inplace=True)\n",
    "fp1.columns = ['index', 'FINGERPRINT']\n",
    "\n",
    "fp1.to_pickle('../data/conversion_data/fingerprints.pkl')"
   ]
  },
  {
   "cell_type": "markdown",
   "id": "urban-junior",
   "metadata": {},
   "source": [
    "#### Convert hashed morgan fingerpritn to Bit Vector"
   ]
  },
  {
   "cell_type": "code",
   "execution_count": 9,
   "id": "sufficient-introduction",
   "metadata": {},
   "outputs": [
    {
     "data": {
      "text/plain": [
       "rdkit.DataStructs.cDataStructs.ExplicitBitVect"
      ]
     },
     "execution_count": 9,
     "metadata": {},
     "output_type": "execute_result"
    }
   ],
   "source": [
    "# Convert to BitVector\n",
    "fp1_morgan_hash = pd.DataFrame([AllChem.GetMorganFingerprintAsBitVect(data,2,nBits=128) for data in mol_list])\n",
    "\n",
    "fp1_morgan_hash.reset_index(inplace=True)\n",
    "# fp1_morgan_hash.head()\n",
    "\n",
    "fp1_morgan_hash.columns = ['index', 'MORGAN_HASH']\n",
    "fp1_morgan_hash.head()\n",
    "\n",
    "fp1_morgan_hash = fp1_morgan_hash.dropna()\n",
    "# fp1_morgan_hash.isnull().sum()\n",
    "\n",
    "fp1_morgan_hash.to_pickle('../data/conversion_data/morgan_hash.pkl')\n",
    "\n",
    "type(fp1_morgan_hash['MORGAN_HASH'][0])"
   ]
  },
  {
   "cell_type": "markdown",
   "id": "cloudy-floor",
   "metadata": {},
   "source": [
    "#### Convert bit vecotor to Bit String\n",
    "For easier manipulation"
   ]
  },
  {
   "cell_type": "code",
   "execution_count": 10,
   "id": "random-joining",
   "metadata": {},
   "outputs": [],
   "source": [
    "# Convert to bit string\n",
    "fp1_morgan_bitstr = pd.DataFrame([item.ToBitString()] for item in fp1_morgan_hash['MORGAN_HASH'])\n",
    "fp1_morgan_bitstr.columns=['MORGAN_BTSR']\n",
    "\n",
    "# Add index so there is a common \n",
    "fp1_morgan_bitstr.reset_index(inplace=True)\n",
    "\n",
    "fp1_morgan_bitstr.to_pickle('../data/conversion_data/morgan_bitstr.pkl')"
   ]
  },
  {
   "cell_type": "markdown",
   "id": "clinical-somewhere",
   "metadata": {},
   "source": [
    "### Merge Smiles data into cyto_assay"
   ]
  },
  {
   "cell_type": "code",
   "execution_count": 11,
   "id": "figured-transport",
   "metadata": {},
   "outputs": [
    {
     "data": {
      "text/plain": [
       "pandas.core.frame.DataFrame"
      ]
     },
     "execution_count": 11,
     "metadata": {},
     "output_type": "execute_result"
    }
   ],
   "source": [
    "smiles_merged = SID_smiles.merge(cyto_assay, how=\"inner\", on=\"PUBCHEM_SID\")\n",
    "\n",
    "smiles_merged.to_pickle('../data/conversion_data/smiles_merged.pkl')\n",
    "\n",
    "type(smiles_merged)"
   ]
  }
 ],
 "metadata": {
  "kernelspec": {
   "display_name": "Python 3",
   "language": "python",
   "name": "python3"
  },
  "language_info": {
   "codemirror_mode": {
    "name": "ipython",
    "version": 3
   },
   "file_extension": ".py",
   "mimetype": "text/x-python",
   "name": "python",
   "nbconvert_exporter": "python",
   "pygments_lexer": "ipython3",
   "version": "3.8.5"
  }
 },
 "nbformat": 4,
 "nbformat_minor": 5
}
