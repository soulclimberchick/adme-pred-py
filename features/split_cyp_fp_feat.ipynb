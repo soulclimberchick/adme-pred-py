{
 "cells": [
  {
   "cell_type": "markdown",
   "id": "instructional-oakland",
   "metadata": {},
   "source": [
    "# Morgan Fingerprint Feature creation for each Cytochrome P450 molecule \n",
    "(that we are using for this model)\n"
   ]
  },
  {
   "cell_type": "markdown",
   "id": "current-application",
   "metadata": {},
   "source": [
    "### Imports"
   ]
  },
  {
   "cell_type": "code",
   "execution_count": null,
   "id": "completed-banking",
   "metadata": {},
   "outputs": [],
   "source": [
    "import pandas as pd\n",
    "import numpy as np\n",
    "from sklearn.model_selection import train_test_split\n",
    "\n",
    "from rdkit import Chem, DataStructs\n",
    "from rdkit.Chem import rdchem\n",
    "from rdkit.Chem import Mol\n",
    "from rdkit.Chem import AllChem\n",
    "\n",
    "import warnings\n",
    "warnings.filterwarnings('ignore')"
   ]
  },
  {
   "cell_type": "markdown",
   "id": "reasonable-toolbox",
   "metadata": {},
   "source": [
    "### Import Data"
   ]
  },
  {
   "cell_type": "code",
   "execution_count": null,
   "id": "civil-pressing",
   "metadata": {},
   "outputs": [],
   "source": [
    "# Import data\n",
    "cyto_assay = pd.read_csv('../data/train_data/cyto_assay_clean.csv')\n",
    "smiles_merged = pd.read_pickle('../data/conversion_data/smiles_merged.pkl')"
   ]
  },
  {
   "cell_type": "markdown",
   "id": "italian-training",
   "metadata": {},
   "source": [
    "KEY  \n",
    "\n",
    "* 'p450-cyp2c19' : 0\n",
    "* 'p450-cyp2c9'  : 1\n",
    "* 'p450-cyp2d6'  : 2\n",
    "* 'p450-cyp1a2'  : 3\n",
    "* 'p450-cyp3a4'  : 4 "
   ]
  },
  {
   "cell_type": "code",
   "execution_count": null,
   "id": "useful-percentage",
   "metadata": {},
   "outputs": [],
   "source": [
    "smiles_merged.head()"
   ]
  },
  {
   "cell_type": "markdown",
   "id": "accepted-reservation",
   "metadata": {},
   "source": [
    "## cyp2c19"
   ]
  },
  {
   "cell_type": "code",
   "execution_count": null,
   "id": "historical-counter",
   "metadata": {},
   "outputs": [],
   "source": []
  },
  {
   "cell_type": "code",
   "execution_count": null,
   "id": "secondary-champagne",
   "metadata": {},
   "outputs": [],
   "source": [
    "# Pull out only cyp2c19 data\n",
    "cyp2c19 =  smiles_merged[smiles_merged['Panel Name'] == 0]\n",
    "print(cyp2c19.shape)"
   ]
  },
  {
   "cell_type": "code",
   "execution_count": null,
   "id": "entitled-overall",
   "metadata": {},
   "outputs": [],
   "source": [
    "# Convert MolFromSmiles to GetMorganFingerprintAsBitVect to ToBitString to get bitstrings for SMILES data\n",
    "cyp2c19['MORGAN_BTSTR'] = cyp2c19.apply(lambda row: AllChem.GetMorganFingerprintAsBitVect(Chem.MolFromSmiles(row['SMILES']), 2, nBits=64).ToBitString(), axis=1)\n",
    "\n",
    "# Change bitstring to columns as features - idea adapted from https://stackoverflow.com/questions/56458440/pandas-how-to-read-a-bitstring-into-separate-columns-when-no-delimiter-is-prese\n",
    "btstr_col = pd.DataFrame([np.fromstring(s,'u1') - ord('0') for s in cyp2c19['MORGAN_BTSTR']])\n",
    "\n",
    "btstr_col.reset_index(inplace=True)\n",
    "\n",
    "# Parse down to only necessart features and save to file\n",
    "cyp2c19 = cyp2c19[[\"index\", \"PUBCHEM_ACTIVITY_OUTCOME\", \"Inhibition Observed\"]]\n",
    "cyp2c19 = cyp2c19.merge(btstr_col, how=\"inner\", on=\"index\")\n",
    "cyp2c19.to_pickle(\"data/cyp_datasets/cyp2c19.pkl\")\n",
    "\n",
    "cyp2c19.head()"
   ]
  },
  {
   "cell_type": "markdown",
   "id": "mechanical-fruit",
   "metadata": {},
   "source": [
    "### 128bit (previous was 64)"
   ]
  },
  {
   "cell_type": "code",
   "execution_count": null,
   "id": "technical-chair",
   "metadata": {},
   "outputs": [],
   "source": [
    "# Pull out only cyp2c19 data\n",
    "cyp2c19_128 =  smiles_merged[smiles_merged['Panel Name'] == 0]\n",
    "print(cyp2c19_128.shape)\n",
    "\n",
    "# Convert MolFromSmiles to GetMorganFingerprintAsBitVect to ToBitString to get bitstrings for SMILES data\n",
    "cyp2c19_128['MORGAN_BTSTR'] = cyp2c19_128.apply(lambda row: AllChem.GetMorganFingerprintAsBitVect(Chem.MolFromSmiles(row['SMILES']), 2, nBits=128).ToBitString(), axis=1)\n",
    "\n",
    "cyp2c19_128.head()\n",
    "\n",
    "# Change bitstring to columns as features - idea adapted from https://stackoverflow.com/questions/56458440/pandas-how-to-read-a-bitstring-into-separate-columns-when-no-delimiter-is-prese\n",
    "btstr_col = pd.DataFrame([np.fromstring(s,'u1') - ord('0') for s in cyp2c19_128['MORGAN_BTSTR']])\n",
    "\n",
    "btstr_col.reset_index(inplace=True)\n",
    "\n",
    "# Parse down to only necessart features and save to file\n",
    "cyp2c19_128 = cyp2c19_128[[\"index\", \"PUBCHEM_ACTIVITY_OUTCOME\", \"Inhibition Observed\"]]\n",
    "cyp2c19_128 = cyp2c19_128.merge(btstr_col, how=\"inner\", on=\"index\")\n",
    "cyp2c19_128.to_pickle(\"data/cyp_datasets/cyp2c19_128.pkl\")\n",
    "\n",
    "cyp2c19_128.head()"
   ]
  },
  {
   "cell_type": "markdown",
   "id": "hourly-arcade",
   "metadata": {},
   "source": [
    "## 512bit"
   ]
  },
  {
   "cell_type": "code",
   "execution_count": null,
   "id": "fifteen-allocation",
   "metadata": {},
   "outputs": [],
   "source": [
    "# Pull out only cyp2c19 data\n",
    "cyp2c19_512 =  smiles_merged[smiles_merged['Panel Name'] == 0]\n",
    "print(cyp2c19_512.shape)\n",
    "\n",
    "# Convert MolFromSmiles to GetMorganFingerprintAsBitVect to ToBitString to get bitstrings for SMILES data\n",
    "cyp2c19_512['MORGAN_BTSTR'] = cyp2c19_512.apply(lambda row: AllChem.GetMorganFingerprintAsBitVect(Chem.MolFromSmiles(row['SMILES']), 2, nBits=512).ToBitString(), axis=1)\n",
    "\n",
    "# Change bitstring to columns as features - idea adapted from https://stackoverflow.com/questions/56458440/pandas-how-to-read-a-bitstring-into-separate-columns-when-no-delimiter-is-prese\n",
    "btstr_col = pd.DataFrame([np.fromstring(s,'u1') - ord('0') for s in cyp2c19_512['MORGAN_BTSTR']])\n",
    "btstr_col.reset_index(inplace=True)\n",
    "\n",
    "# Parse down to only necessart features and save to file\n",
    "cyp2c19_512 = cyp2c19_512[[\"index\", \"PUBCHEM_ACTIVITY_OUTCOME\", \"Inhibition Observed\"]]\n",
    "cyp2c19_512 = cyp2c19_512.merge(btstr_col, how=\"inner\", on=\"index\")\n",
    "cyp2c19_512.to_pickle(\"data/cyp_datasets/cyp2c19_128.pkl\")\n",
    "\n",
    "cyp2c19_512.head()"
   ]
  },
  {
   "cell_type": "markdown",
   "id": "radical-muslim",
   "metadata": {},
   "source": [
    "## cyp2c9"
   ]
  },
  {
   "cell_type": "code",
   "execution_count": null,
   "id": "improving-chaos",
   "metadata": {},
   "outputs": [],
   "source": [
    "# Pull out only cyp2c9 data\n",
    "cyp2c9 =  smiles_merged[smiles_merged['Panel Name'] == 1]\n",
    "print(cyp2c9.shape)\n",
    "\n",
    "# Convert MolFromSmiles to GetMorganFingerprintAsBitVect to ToBitString to get bitstrings for SMILES data\n",
    "cyp2c9['MORGAN_BTSTR'] = cyp2c9.apply(lambda row: AllChem.GetMorganFingerprintAsBitVect(Chem.MolFromSmiles(row['SMILES']), 2, nBits=64).ToBitString(), axis=1)\n",
    "\n",
    "# Change bitstring to columns as features\n",
    "btstr_col = pd.DataFrame([np.fromstring(s,'u1') - ord('0') for s in cyp2c9['MORGAN_BTSTR']])\n",
    "btstr_col.reset_index(inplace=True)\n",
    "\n",
    "# Parse down to only necessart features and save to file\n",
    "cyp2c9 = cyp2c9[[\"index\", \"PUBCHEM_ACTIVITY_OUTCOME\", \"Inhibition Observed\"]]\n",
    "cyp2c9 = cyp2c9.merge(btstr_col, how=\"inner\", on=\"index\")\n",
    "cyp2c9.to_pickle(\"data/cyp_datasets/cyp2c9.pkl\")"
   ]
  },
  {
   "cell_type": "markdown",
   "id": "global-occupation",
   "metadata": {},
   "source": [
    "## cyp1a2"
   ]
  },
  {
   "cell_type": "code",
   "execution_count": null,
   "id": "young-expansion",
   "metadata": {},
   "outputs": [],
   "source": [
    "# Pull out only cyp1a2 data\n",
    "cyp1a2 =  smiles_merged[smiles_merged['Panel Name'] == 2]\n",
    "print(cyp1a2.shape)\n",
    "\n",
    "# Convert MolFromSmiles to GetMorganFingerprintAsBitVect to ToBitString to get bitstrings for SMILES data\n",
    "cyp1a2['MORGAN_BTSTR'] = cyp1a2.apply(lambda row: AllChem.GetMorganFingerprintAsBitVect(Chem.MolFromSmiles(row['SMILES']), 2, nBits=64).ToBitString(), axis=1)\n",
    "\n",
    "# Change bitstring to columns as features\n",
    "btstr_col = pd.DataFrame([np.fromstring(s,'u1') - ord('0') for s in cyp1a2['MORGAN_BTSTR']])\n",
    "btstr_col.reset_index(inplace=True)\n",
    "\n",
    "# Parse down to only necessart features and save to file\n",
    "cyp1a2 = cyp1a2[[\"index\", \"PUBCHEM_ACTIVITY_OUTCOME\", \"Inhibition Observed\"]]\n",
    "cyp1a2 = cyp1a2.merge(btstr_col, how=\"inner\", on=\"index\")\n",
    "cyp1a2.to_pickle(\"data/cyp_datasets/cyp1a2.pkl\")"
   ]
  },
  {
   "cell_type": "markdown",
   "id": "opposed-discount",
   "metadata": {},
   "source": [
    "## cyp2d6"
   ]
  },
  {
   "cell_type": "code",
   "execution_count": null,
   "id": "swedish-chapter",
   "metadata": {},
   "outputs": [],
   "source": [
    "# Pull out only cyp2d6 data\n",
    "cyp2d6 =  smiles_merged[smiles_merged['Panel Name'] == 3]\n",
    "print(cyp2d6.shape)\n",
    "\n",
    "# Convert MolFromSmiles to GetMorganFingerprintAsBitVect to ToBitString to get bitstrings for SMILES data\n",
    "cyp2d6['MORGAN_BTSTR'] = cyp2d6.apply(lambda row: AllChem.GetMorganFingerprintAsBitVect(Chem.MolFromSmiles(row['SMILES']), 2, nBits=64).ToBitString(), axis=1)\n",
    "\n",
    "# Change bitstring to columns as features\n",
    "btstr_col = pd.DataFrame([np.fromstring(s,'u1') - ord('0') for s in cyp2d6['MORGAN_BTSTR']])\n",
    "btstr_col.reset_index(inplace=True)\n",
    "\n",
    "# Parse down to only necessart features and save to file\n",
    "cyp2d6 = cyp2d6[[\"index\", \"PUBCHEM_ACTIVITY_OUTCOME\", \"Inhibition Observed\"]]\n",
    "cyp2d6 = cyp2d6.merge(btstr_col, how=\"inner\", on=\"index\")\n",
    "cyp2d6.to_pickle(\"data/cyp_datasets/cyp2d6.pkl\")"
   ]
  },
  {
   "cell_type": "markdown",
   "id": "incomplete-underground",
   "metadata": {},
   "source": [
    "## cyp3a4"
   ]
  },
  {
   "cell_type": "code",
   "execution_count": null,
   "id": "found-dress",
   "metadata": {},
   "outputs": [],
   "source": [
    "# Pull out only cyp3a4 data\n",
    "cyp3a4 =  smiles_merged[smiles_merged['Panel Name'] == 4]\n",
    "print(cyp3a4.shape)\n",
    "\n",
    "cyp3a4.head()\n",
    "\n",
    "# Convert MolFromSmiles to GetMorganFingerprintAsBitVect to ToBitString to get bitstrings for SMILES data\n",
    "cyp3a4['MORGAN_BTSTR'] = cyp3a4.apply(lambda row: AllChem.GetMorganFingerprintAsBitVect(Chem.MolFromSmiles(row['SMILES']), 2, nBits=64).ToBitString(), axis=1)\n",
    "\n",
    "# Change bitstring to columns as features\n",
    "btstr_col = pd.DataFrame([np.fromstring(s,'u1') - ord('0') for s in cyp3a4['MORGAN_BTSTR']])\n",
    "btstr_col.reset_index(inplace=True)\n",
    "\n",
    "# Parse down to only necessart features and save to file\n",
    "cyp3a4 = cyp3a4[[\"index\", \"PUBCHEM_ACTIVITY_OUTCOME\", \"Inhibition Observed\"]]\n",
    "cyp3a4 = cyp3a4.merge(btstr_col, how=\"inner\", on=\"index\")\n",
    "cyp3a4.to_pickle(\"data/cyp3a4.pkl\")"
   ]
  },
  {
   "cell_type": "markdown",
   "id": "clean-school",
   "metadata": {},
   "source": [
    "# Function to do the above on any assay \n",
    "### (that have been cleaned and Panel Name set to int)"
   ]
  },
  {
   "cell_type": "code",
   "execution_count": null,
   "id": "primary-extent",
   "metadata": {},
   "outputs": [],
   "source": [
    "# data = dataset, num = panel name value relating to cyp\n",
    "def morgan_fp(data, num):\n",
    "    data =  smiles_merged[smiles_merged['Panel Name'] == num]\n",
    "    print(data.shape)\n",
    "\n",
    "    # Convert MolFromSmiles to GetMorganFingerprintAsBitVect to ToBitString to get bitstrings for SMILES data\n",
    "    data['MORGAN_BTSTR'] = data.apply(lambda row: AllChem.GetMorganFingerprintAsBitVect(Chem.MolFromSmiles(row['SMILES']), 2, nBits=64).ToBitString(), axis=1)\n",
    "\n",
    "    # Change bitstring to columns as features\n",
    "    btstr_col = pd.DataFrame([np.fromstring(s,'u1') - ord('0') for s in data['MORGAN_BTSTR']])\n",
    "    btstr_col.reset_index(inplace=True)\n",
    "\n",
    "    # Parse down to only necessart features and save to file\n",
    "    cyp_df = data[[\"index\", \"PUBCHEM_ACTIVITY_OUTCOME\", \"Inhibition Observed\", \"Panel Name\"]]\n",
    "    cyp_df_fp = cyp_df.merge(btstr_col, how=\"inner\", on=\"index\")\n",
    "    cyp_df_fp.to_csv('../data/cyp_datasets/cyp_df_fp_{}.csv'.format(num), sep=',', index=False)\n",
    "    return cyp_df_fp"
   ]
  },
  {
   "cell_type": "code",
   "execution_count": null,
   "id": "discrete-appendix",
   "metadata": {},
   "outputs": [],
   "source": [
    "morgan_fp(cyto_assay, 4)"
   ]
  },
  {
   "cell_type": "code",
   "execution_count": null,
   "id": "native-therapist",
   "metadata": {},
   "outputs": [],
   "source": []
  }
 ],
 "metadata": {
  "kernelspec": {
   "display_name": "Python 3",
   "language": "python",
   "name": "python3"
  },
  "language_info": {
   "codemirror_mode": {
    "name": "ipython",
    "version": 3
   },
   "file_extension": ".py",
   "mimetype": "text/x-python",
   "name": "python",
   "nbconvert_exporter": "python",
   "pygments_lexer": "ipython3",
   "version": "3.8.5"
  }
 },
 "nbformat": 4,
 "nbformat_minor": 5
}
